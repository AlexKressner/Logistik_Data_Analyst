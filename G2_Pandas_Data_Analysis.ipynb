{
  "cells": [
    {
      "cell_type": "markdown",
      "metadata": {
        "id": "view-in-github",
        "colab_type": "text"
      },
      "source": [
        "<a href=\"https://colab.research.google.com/github/AlexKressner/Logistik_Data_Analyst/blob/main/G2_Pandas_Data_Analysis.ipynb\" target=\"_parent\"><img src=\"https://colab.research.google.com/assets/colab-badge.svg\" alt=\"Open In Colab\"/></a>"
      ]
    },
    {
      "cell_type": "markdown",
      "id": "64b0765e-bc90-46b8-8c66-0123b137bf19",
      "metadata": {
        "jp-MarkdownHeadingCollapsed": true,
        "tags": [],
        "id": "64b0765e-bc90-46b8-8c66-0123b137bf19"
      },
      "source": [
        "# Übersicht\n",
        "1. [Einführung Pandas](#einführung_pandas)\n",
        "    1. [DataFrames](#dataframes)\n",
        "    2. [Erste Methoden zur Datenexploration](#exploration)\n",
        "    3. [Sortieren](#sortieren)\n",
        "    4. [Subsetting](#subsetting)\n",
        "    5. [Neue Spalten](#neue_spalte)\n",
        "2. [Aggregation von Daten](#aggregation)\n",
        "    1. [Erste deskriptive Parameter & Summierung](#parameter)\n",
        "    1. [Zählen](#zaehlen)\n",
        "    1. [Gruppierungen und Aggregationen](#gruppierung)\n",
        "    1. [Pivottabellen](#pivot)"
      ]
    },
    {
      "cell_type": "markdown",
      "id": "4568c8d2-8df2-406b-9dd1-a3420d979671",
      "metadata": {
        "id": "4568c8d2-8df2-406b-9dd1-a3420d979671"
      },
      "source": [
        "# Übungsaufgaben\n",
        "- [Erste Exploration DataFrame - Fifa World Cup](#aufgabe_exploration)\n",
        "- [Sortieren und Subsetting - Fifa World Cup](#subset_sort)\n",
        "- [Statistische Parameter & Summen - Fifa World Cup](#parameter_summen)\n",
        "- [Aggregationen - Verkaufszahlen Walmart](#walmart)"
      ]
    },
    {
      "cell_type": "markdown",
      "id": "3b8fc31c-b4f8-4d40-aa76-814e1c2f8856",
      "metadata": {
        "id": "3b8fc31c-b4f8-4d40-aa76-814e1c2f8856"
      },
      "source": [
        "# 1. Einführung Pandas <a class=\"anchor\" id=\"einführung_pandas\"></a>\n",
        "Pandas ist eines der weltweit bekanntesten Packages für Python und wird zur Lösung diverser Aufgaben im Bereich der Datenverarbeitung eingesetzt - von der Datenmanipulation bis hin zu ausgefeilten Datenanalysen. Wir beschäftigen uns intensiv mit dem Konzept des DataFrames, wie man diesen zum Zwecker Datenanalyse erstellt, filtert, transformiert etc. Wir werden dabei immer wieder auf realte Datensätze zurückgreifen und auch bereits erste Visualisierungen erzeugen."
      ]
    },
    {
      "cell_type": "markdown",
      "id": "67792086-46c7-43fc-a1b4-454aae7a88a0",
      "metadata": {
        "id": "67792086-46c7-43fc-a1b4-454aae7a88a0"
      },
      "source": [
        "## 1.1 DataFrames <a class=\"anchor\" id=\"dataframes\"></a>\n",
        "In einem DataFrame speichern Sie tabellarische Daten, die Sie anschließend mit diversen Methoden transformieren können. Das folgende Beispiel erzeugt einen DataFrame aus zwei Listen. Die erste Liste enthält Teile der aktuellen Tabelle der 1. Fussballbundesliga. Es handelt sich um eine Liste aus Listen. Jede Liste in der Liste `tabelle` stellt einen Tabelleneintrag (Zeile) mit den zugehörigen Daten dar. Die Liste `spalten_namen` enthält - wie der Name bereits sagt - die Spaltennamen der Tabelle."
      ]
    },
    {
      "cell_type": "code",
      "execution_count": null,
      "id": "4d5c247c-dcdf-491b-978e-4419ee5a57fb",
      "metadata": {
        "id": "4d5c247c-dcdf-491b-978e-4419ee5a57fb"
      },
      "outputs": [],
      "source": [
        "# import pandas\n",
        "import pandas as pd"
      ]
    },
    {
      "cell_type": "code",
      "execution_count": null,
      "id": "dad1724a-2db4-44b9-a1ce-fd64076e00de",
      "metadata": {
        "id": "dad1724a-2db4-44b9-a1ce-fd64076e00de"
      },
      "outputs": [],
      "source": [
        "tabelle = [\n",
        "    [1, \"Bayern\", 28, 21, 3, 4, 85, 29, 56, 66],\n",
        "    [2, \"Dortmund\", 28, 18, 3, 7, 68, 42, 26, 57],\n",
        "    [3, \"Leverkusen\", 28, 15, 6, 7, 68, 42, 26, 51],\n",
        "    [4, \"RB Leipzig\", 28, 14, 6, 8, 61, 31, 30, 48],\n",
        "    [5, \"Freiburg\", 28, 12, 9, 7, 44, 33, 11, 45],\n",
        "    [6, \"Hoffenheim\", 28, 13, 5, 10, 50, 42, 8, 44],\n",
        "]"
      ]
    },
    {
      "cell_type": "code",
      "execution_count": null,
      "id": "e42a3790-15d6-458a-97cc-04bf8779e350",
      "metadata": {
        "id": "e42a3790-15d6-458a-97cc-04bf8779e350"
      },
      "outputs": [],
      "source": [
        "spalten_namen = [\n",
        "    \"Rang\", \"Mannschaft\", \"Spiele\", \"Siege\", \n",
        "    \"Unentschieden\", \"Niederlagen\", \n",
        "    \"Tore_+\", \"Tore_-\", \"Tordifferenz\", \n",
        "    \"Punkte\"\n",
        "]"
      ]
    },
    {
      "cell_type": "markdown",
      "id": "5f883e3d-21c3-4999-82b7-c8442fac908c",
      "metadata": {
        "id": "5f883e3d-21c3-4999-82b7-c8442fac908c"
      },
      "source": [
        "Nachfolgend erzeugen wir den DataFrame, der die Bundesligatabelle darstellt. "
      ]
    },
    {
      "cell_type": "code",
      "execution_count": null,
      "id": "cb285f82-ace9-4105-93a0-e236c8744a83",
      "metadata": {
        "id": "cb285f82-ace9-4105-93a0-e236c8744a83"
      },
      "outputs": [],
      "source": [
        "tabelle = pd.DataFrame(tabelle, columns=spalten_namen)\n",
        "tabelle"
      ]
    },
    {
      "cell_type": "markdown",
      "id": "85061dae-bc19-42f8-ba0d-22ec5bdb5728",
      "metadata": {
        "id": "85061dae-bc19-42f8-ba0d-22ec5bdb5728"
      },
      "source": [
        "Wir können einen DataFrame auch mit entsprechenden Methodenaufrufen in seine einzelnen konstitutiven Komponente zerlegen (\"Attributen\"):"
      ]
    },
    {
      "cell_type": "code",
      "execution_count": null,
      "id": "3e4214cd-c40e-4496-a028-962c685ed8b2",
      "metadata": {
        "id": "3e4214cd-c40e-4496-a028-962c685ed8b2"
      },
      "outputs": [],
      "source": [
        "tabelle.values"
      ]
    },
    {
      "cell_type": "code",
      "execution_count": null,
      "id": "6fa2d942-cd46-4fd9-826b-c630daff02c9",
      "metadata": {
        "id": "6fa2d942-cd46-4fd9-826b-c630daff02c9"
      },
      "outputs": [],
      "source": [
        "tabelle.columns"
      ]
    },
    {
      "cell_type": "code",
      "execution_count": null,
      "id": "b07ff6ab-7e47-4325-a401-a49cf72b166e",
      "metadata": {
        "id": "b07ff6ab-7e47-4325-a401-a49cf72b166e"
      },
      "outputs": [],
      "source": [
        "tabelle.index"
      ]
    },
    {
      "cell_type": "markdown",
      "id": "1a61a7c5-25ed-46da-ac45-81351234e20e",
      "metadata": {
        "id": "1a61a7c5-25ed-46da-ac45-81351234e20e"
      },
      "source": [
        "## 1.2 Erste Methoden zur Datenexploration <a class=\"anchor\" id=\"exploration\"></a>\n",
        "Für die erste Exploration von Daten in einem pandas DataFrame stehen viele nützliche Methoden zur Verfügung. Sie können sich eine Übersicht verschaffen, wenn Sie in einer Code-Zelle den DataFrame `tabelle` eingeben und anschließend einen Punkt (`.`) setzen. Mit der Eingabe `tabelle.` werden Ihnen automatisch alle verfügbaren Funktionen angezeigt."
      ]
    },
    {
      "cell_type": "code",
      "execution_count": null,
      "id": "9b7cce8d-ad4d-4c62-9913-25f65220ae99",
      "metadata": {
        "id": "9b7cce8d-ad4d-4c62-9913-25f65220ae99"
      },
      "outputs": [],
      "source": [
        "# Gibt Ihnen den \"Kopf\" des DataFrames zurück, d.h. die ersten 5 Zeilen\n",
        "tabelle.head()"
      ]
    },
    {
      "cell_type": "code",
      "execution_count": null,
      "id": "71549934-60c1-4e58-8e80-30e0feac2e66",
      "metadata": {
        "id": "71549934-60c1-4e58-8e80-30e0feac2e66"
      },
      "outputs": [],
      "source": [
        "# Zeigt Ihnen Informationen zu den einzelnen Spalten\n",
        "tabelle.info()"
      ]
    },
    {
      "cell_type": "markdown",
      "id": "0f473d56-57fd-48d2-b40a-02f8a724b58a",
      "metadata": {
        "id": "0f473d56-57fd-48d2-b40a-02f8a724b58a"
      },
      "source": [
        "**Frage:** Was machen die folgenden beiden Funktionen?"
      ]
    },
    {
      "cell_type": "code",
      "execution_count": null,
      "id": "34486756-8d99-41f7-b0a0-9b421b374f79",
      "metadata": {
        "id": "34486756-8d99-41f7-b0a0-9b421b374f79"
      },
      "outputs": [],
      "source": [
        "tabelle.shape"
      ]
    },
    {
      "cell_type": "code",
      "execution_count": null,
      "id": "9a36cce5-2fa0-430c-a01c-41eae601bec3",
      "metadata": {
        "id": "9a36cce5-2fa0-430c-a01c-41eae601bec3"
      },
      "outputs": [],
      "source": [
        "tabelle.describe()"
      ]
    },
    {
      "cell_type": "markdown",
      "id": "e40660c8-660c-42e5-b95e-92ea57917723",
      "metadata": {
        "id": "e40660c8-660c-42e5-b95e-92ea57917723"
      },
      "source": [
        "### Aufgabe: Erste Exploration DataFrame <a class=\"anchor\" id=\"aufgabe_exploration\"></a>\n",
        "Für die Aufgabe laden wir zunächst einen Teil des [Fifa World Cup](https://www.kaggle.com/datasets/abecklas/fifa-world-cup) Datensatzes aus einer csv-Datei. Wenden Sie anschließend die zuvor eingeführten Methoden auf den neuen DataFrame an, um sich ein erstes Bild zu den Daten zu verschaffen."
      ]
    },
    {
      "cell_type": "markdown",
      "source": [
        "Sie müssen zunächst Ihren persönlichen Google-Drive Account laden. Dies gelingt wie folgt: Sie müssen entsprechende Berechtigungen genehmigen. Weitere Hinweise dazu [hier](https://colab.research.google.com/notebooks/io.ipynb#scrollTo=XDg9OBaYqRMd)"
      ],
      "metadata": {
        "id": "z3X3jX6mUNxA"
      },
      "id": "z3X3jX6mUNxA"
    },
    {
      "cell_type": "code",
      "source": [
        "from google.colab import drive\n",
        "drive.mount('/content/drive')"
      ],
      "metadata": {
        "id": "QUEvrrFgUSEi"
      },
      "id": "QUEvrrFgUSEi",
      "execution_count": null,
      "outputs": []
    },
    {
      "cell_type": "code",
      "execution_count": null,
      "id": "12c42cb3-6a4b-4661-8871-fe2d2bc13857",
      "metadata": {
        "id": "12c42cb3-6a4b-4661-8871-fe2d2bc13857"
      },
      "outputs": [],
      "source": [
        "data = pd.read_csv(\"/content/drive/MyDrive/Logistik_Business_Analyst/Grundlagen_Datenverarbeitung_mit_Pandas/WorldCupMatches.csv\")\n",
        "data.dropna(inplace=True)"
      ]
    },
    {
      "cell_type": "markdown",
      "id": "d4b3cb41-1670-4031-bfc7-3280c0c98c7d",
      "metadata": {
        "id": "d4b3cb41-1670-4031-bfc7-3280c0c98c7d"
      },
      "source": [
        "## 1.3 Sortieren <a class=\"anchor\" id=\"sortieren\"></a>\n",
        "Mit der Methode `sort_values` können Sie DataFrames nach Belieben sortieren."
      ]
    },
    {
      "cell_type": "code",
      "execution_count": null,
      "id": "6674386b-df6c-4778-8f7b-96630b334f8e",
      "metadata": {
        "id": "6674386b-df6c-4778-8f7b-96630b334f8e"
      },
      "outputs": [],
      "source": [
        "tabelle.sort_values(\"Tore_+\")"
      ]
    },
    {
      "cell_type": "markdown",
      "id": "84720ab7-cc0d-4c08-b4ba-e8491437b814",
      "metadata": {
        "id": "84720ab7-cc0d-4c08-b4ba-e8491437b814"
      },
      "source": [
        "**Frage**: Sie sehen, dass die Methode `sort_values` die Werte einer Spalte aufsteigend sortiert. Wie können Sie die Werte absteigend sortieren?"
      ]
    },
    {
      "cell_type": "code",
      "execution_count": null,
      "id": "a0b22a70-f58b-48dd-a0dc-d08136957169",
      "metadata": {
        "id": "a0b22a70-f58b-48dd-a0dc-d08136957169"
      },
      "outputs": [],
      "source": [
        ""
      ]
    },
    {
      "cell_type": "markdown",
      "id": "c3ea219f-b7d4-405c-8737-3b944d397d19",
      "metadata": {
        "id": "c3ea219f-b7d4-405c-8737-3b944d397d19"
      },
      "source": [
        "Mit der Funktion `sort_values` können Sie einen DataFrame auch nach mehreren Spalten sortieren. **Frage**: Bitte erläutern Sie nach welcher Systematik die Sortierung im unten gezeigten Beispiel erfolgt!"
      ]
    },
    {
      "cell_type": "code",
      "execution_count": null,
      "id": "3815bcea-b193-4703-a820-1a939511f021",
      "metadata": {
        "id": "3815bcea-b193-4703-a820-1a939511f021"
      },
      "outputs": [],
      "source": [
        "tabelle.sort_values([\"Unentschieden\",\"Tore_+\"])"
      ]
    },
    {
      "cell_type": "markdown",
      "id": "ac916dbb-0a0f-4e88-ad53-88d78a2fd518",
      "metadata": {
        "id": "ac916dbb-0a0f-4e88-ad53-88d78a2fd518"
      },
      "source": [
        "Für den Fall, dass die Sortierung nach mehreren Spalten erfolgen soll, kann ebenfalls individuell für jede Spalte eine Sortierungsvorschrift definiert werden."
      ]
    },
    {
      "cell_type": "code",
      "execution_count": null,
      "id": "6cf408b3-fadf-464d-8270-99d757b32ae0",
      "metadata": {
        "id": "6cf408b3-fadf-464d-8270-99d757b32ae0"
      },
      "outputs": [],
      "source": [
        "tabelle.sort_values([\"Unentschieden\",\"Tore_+\"], ascending=[True,False])"
      ]
    },
    {
      "cell_type": "markdown",
      "id": "2baa3286-0b09-44f0-9cb7-298d6e8787c6",
      "metadata": {
        "id": "2baa3286-0b09-44f0-9cb7-298d6e8787c6"
      },
      "source": [
        "## 1.4 Subsetting <a class=\"anchor\" id=\"subsetting\"></a>\n",
        "Mit \"Subsetting\" können Sie Teile eines DataFrames \"ausschneiden\"!"
      ]
    },
    {
      "cell_type": "markdown",
      "id": "81909c34-633a-4d09-bafd-45c49721f8eb",
      "metadata": {
        "id": "81909c34-633a-4d09-bafd-45c49721f8eb"
      },
      "source": [
        "### Subsetting von Spalten"
      ]
    },
    {
      "cell_type": "code",
      "execution_count": null,
      "id": "beb8e13f-838f-41cc-b541-9307bf8aba3a",
      "metadata": {
        "id": "beb8e13f-838f-41cc-b541-9307bf8aba3a"
      },
      "outputs": [],
      "source": [
        "# Einzelne Spalte - Variante 1\n",
        "tabelle[\"Mannschaft\"]"
      ]
    },
    {
      "cell_type": "code",
      "execution_count": null,
      "id": "afae845a-45a9-477c-9e9e-aea73107a1c8",
      "metadata": {
        "id": "afae845a-45a9-477c-9e9e-aea73107a1c8"
      },
      "outputs": [],
      "source": [
        "# Einzelne Spalte - Variante 2\n",
        "tabelle.Mannschaft"
      ]
    },
    {
      "cell_type": "markdown",
      "id": "e5f272ae-3b02-4062-9e5e-b902dcda9357",
      "metadata": {
        "id": "e5f272ae-3b02-4062-9e5e-b902dcda9357"
      },
      "source": [
        "**Frage:** Wie zeigen Sie nur die ersten drei Mannschaften an? Wie zeigen Sie nur die letzte Mannschaft an?"
      ]
    },
    {
      "cell_type": "code",
      "execution_count": null,
      "id": "ff6b1690-1ff4-42cd-8033-be197696ff1c",
      "metadata": {
        "id": "ff6b1690-1ff4-42cd-8033-be197696ff1c"
      },
      "outputs": [],
      "source": [
        "# Mehrere Spalten\n",
        "tabelle[[\"Mannschaft\", \"Tore_+\"]]\n",
        "# oder\n",
        "spalten_namen = [\"Mannschaft\", \"Tore_+\"]\n",
        "tabelle[spalten_namen]"
      ]
    },
    {
      "cell_type": "markdown",
      "id": "bbc700b4-5299-49ac-bfff-00343e0f81d1",
      "metadata": {
        "id": "bbc700b4-5299-49ac-bfff-00343e0f81d1"
      },
      "source": [
        "So wie zuvor können Sie erneut nach einzelnen Zeilen des DataFrames filtern. Wir werden uns nachfolgend und in einem späteren Kapitel noch intensiver damit befassen."
      ]
    },
    {
      "cell_type": "code",
      "execution_count": null,
      "id": "a0666eec-678f-4175-ba9a-3a80cfe8a6f5",
      "metadata": {
        "id": "a0666eec-678f-4175-ba9a-3a80cfe8a6f5"
      },
      "outputs": [],
      "source": [
        "tabelle[spalten_namen][:3]"
      ]
    },
    {
      "cell_type": "markdown",
      "id": "5e3529f0-e0e3-4bb9-97f7-e06a178c1084",
      "metadata": {
        "id": "5e3529f0-e0e3-4bb9-97f7-e06a178c1084"
      },
      "source": [
        "### Subsetting von Zeilen"
      ]
    },
    {
      "cell_type": "markdown",
      "id": "a369d8de-4a36-400f-9894-25212e22c7f9",
      "metadata": {
        "id": "a369d8de-4a36-400f-9894-25212e22c7f9"
      },
      "source": [
        "Sie haben die Möglichkeit auf die Werte einer Spalte direkt logische Operationen anzuwenden. Im Ergebnis erhalten Sie nur die Zeilen des DataFrames, die die definierte Bedingung erfüllen. Mit der Anweisung `tabelle[\"Tore_+\"]>65` wird beispielweise für jeden Eintrag in der Spalte `Tore_+` geprüft, ob der entsprechende Wert größer `65` ist. Die Rückgabewerte dieser Prüfung sind zunächst boolsche Werte und geben an, ob die Bedingung wahr oder falsch ist."
      ]
    },
    {
      "cell_type": "code",
      "execution_count": null,
      "id": "80a87bcf-b764-4cda-a117-0cefe83ae375",
      "metadata": {
        "id": "80a87bcf-b764-4cda-a117-0cefe83ae375"
      },
      "outputs": [],
      "source": [
        "tabelle[\"Tore_+\"]>65"
      ]
    },
    {
      "cell_type": "markdown",
      "id": "ab3f8036-5e49-4433-8f12-0c0f5b964ce4",
      "metadata": {
        "id": "ab3f8036-5e49-4433-8f12-0c0f5b964ce4"
      },
      "source": [
        "Das Ergebnis der obigen Prüfung können Sie nun zum Filtern des DataFrames wie folgt einsetzen:"
      ]
    },
    {
      "cell_type": "code",
      "execution_count": null,
      "id": "140b8907-9efe-42a5-bb44-3f0591210937",
      "metadata": {
        "id": "140b8907-9efe-42a5-bb44-3f0591210937"
      },
      "outputs": [],
      "source": [
        "tabelle[tabelle[\"Tore_+\"]>65]"
      ]
    },
    {
      "cell_type": "markdown",
      "id": "c1f8c821-4695-4667-99c3-40bff873bbad",
      "metadata": {
        "id": "c1f8c821-4695-4667-99c3-40bff873bbad"
      },
      "source": [
        "**Frage:** Wie filtern Sie auf die Mannschaft `Dortmund`?"
      ]
    },
    {
      "cell_type": "code",
      "execution_count": null,
      "id": "03813aa6-fb2b-4b78-9400-ef454e6d6085",
      "metadata": {
        "id": "03813aa6-fb2b-4b78-9400-ef454e6d6085"
      },
      "outputs": [],
      "source": [
        ""
      ]
    },
    {
      "cell_type": "markdown",
      "id": "0652ded6-9325-47e7-bdff-44bcee195f62",
      "metadata": {
        "id": "0652ded6-9325-47e7-bdff-44bcee195f62"
      },
      "source": [
        "Sie haben zudem die Möglichkeit einen Dataframe nach mehreren Bedingungen zu filtern. Möchten Sie beispielsweise nur Mannschaften haben, die mehr als 65 Tore geschossen und gleichzeitig nicht mehr als 4 Unentschieden haben, braucht es folgende Anweisung:"
      ]
    },
    {
      "cell_type": "code",
      "execution_count": null,
      "id": "63d7b4f8-0294-4c07-837c-ac36830f0d37",
      "metadata": {
        "id": "63d7b4f8-0294-4c07-837c-ac36830f0d37"
      },
      "outputs": [],
      "source": [
        "# \"&\" ist das logische \"UND\"\n",
        "tabelle[(tabelle[\"Tore_+\"]>65) & (tabelle[\"Unentschieden\"]<=4)]"
      ]
    },
    {
      "cell_type": "markdown",
      "id": "1e108b7f-bc70-4465-a421-186fa0d28f0e",
      "metadata": {
        "id": "1e108b7f-bc70-4465-a421-186fa0d28f0e"
      },
      "source": [
        "**Frage:** Was ist der Rückgabewert der folgenden Anweisung und welche Bedeutung hat das Zeichen `|`?"
      ]
    },
    {
      "cell_type": "markdown",
      "id": "e1da8e0b-2675-4340-ae59-0efecff03a3c",
      "metadata": {
        "id": "e1da8e0b-2675-4340-ae59-0efecff03a3c"
      },
      "source": [
        "```Python\n",
        "tabelle[(tabelle[\"Tore_+\"]>65) | (tabelle[\"Tordifferenz\"]>=30)]\n",
        "```"
      ]
    },
    {
      "cell_type": "code",
      "execution_count": null,
      "id": "0f00d64b-dd10-4b5d-abc3-12d168ce1f91",
      "metadata": {
        "id": "0f00d64b-dd10-4b5d-abc3-12d168ce1f91"
      },
      "outputs": [],
      "source": [
        ""
      ]
    },
    {
      "cell_type": "markdown",
      "id": "2c47df75-df10-42c6-844c-df689eda62cd",
      "metadata": {
        "id": "2c47df75-df10-42c6-844c-df689eda62cd"
      },
      "source": [
        "Eine weitere sehr nützliche Methode für das Subsetting ist `.isin([])`. Möchten Sie beispielsweise nach den Mannschaften `Hoffenheim` und `Leverkusen` filtern, gelingt dies wie folgt:"
      ]
    },
    {
      "cell_type": "code",
      "execution_count": null,
      "id": "c1720abb-378b-4b0f-9620-63ec8a6d23be",
      "metadata": {
        "id": "c1720abb-378b-4b0f-9620-63ec8a6d23be"
      },
      "outputs": [],
      "source": [
        "tabelle[tabelle[\"Mannschaft\"].isin([\"Hoffenheim\",\"Leverkusen\"])]"
      ]
    },
    {
      "cell_type": "markdown",
      "id": "763b59b2-42df-41a3-b01f-a056121666a4",
      "metadata": {
        "id": "763b59b2-42df-41a3-b01f-a056121666a4"
      },
      "source": [
        "### Aufgabe: Sortieren und Subsetting <a class=\"anchor\" id=\"subset_sort\"></a>"
      ]
    },
    {
      "cell_type": "markdown",
      "id": "cee5ce4b-57a6-42f4-b588-4a182e407f14",
      "metadata": {
        "id": "cee5ce4b-57a6-42f4-b588-4a182e407f14"
      },
      "source": [
        "Wir betrachten erneut den Fifa World Cup Datensatz - wir hatten diesen bereits zuvor geladen und unter der Variablen `data` als DataFrame gespeichert. Bitte bearbeiten Sie die folgenden Aufgaben:\n",
        "1. Wählen Sie aus dem DataFrame die Spalten `\"Referee\"`, `\"Assistant 1\"` und `\"Assistant 2\"` aus. \n",
        "1. Sortieren Sie die Spiele absteigend nach der Zuschaueranzahl. Welches war das Spiel mit den meisten Zuschauern? \n",
        "1. Filtern Sie den DataFrame auf alle Spiele mit Zuschauern zwischen 35.000 und 36.000 Zuschauern.\n",
        "1. Wie viele Spiele zwischen 35.000 und 36.000 Zuschauern gab es in der Historie? Sie können dazu z.B. die Funktion `shape` oder `len` nutzen. Geben Sie zudem an, in welchen Städten (Spalte `City`) diese Spiele stattgefunden haben. Dabei hilft Ihnen die Methode `unique()`.\n",
        "1. Filtern Sie den DataFrame auf die Spiele, bei denen entweder Deutschland (Kürzel: `FRG` & `GER`) oder England (Kürzel: `ENG`) teilgenommen haben.\n",
        "1. Filtern Sie den DataFrame auf die Spiele, bei denen Deutschland gegen England gespielt hat."
      ]
    },
    {
      "cell_type": "code",
      "execution_count": null,
      "id": "82bca8bf-3195-4e9c-8bfc-1660b6df0c65",
      "metadata": {
        "id": "82bca8bf-3195-4e9c-8bfc-1660b6df0c65"
      },
      "outputs": [],
      "source": [
        ""
      ]
    },
    {
      "cell_type": "markdown",
      "id": "0a7bfb2b-0d41-45ad-9ab4-265b9f8758a9",
      "metadata": {
        "id": "0a7bfb2b-0d41-45ad-9ab4-265b9f8758a9"
      },
      "source": [
        "## 1.5 Hinzufügen neuer Spalten <a class=\"anchor\" id=\"neue_spalte\"></a>"
      ]
    },
    {
      "cell_type": "markdown",
      "id": "0a4aa67e-1804-4f90-ae0e-4a19e2819da5",
      "metadata": {
        "id": "0a4aa67e-1804-4f90-ae0e-4a19e2819da5"
      },
      "source": [
        "**Neue Spalte mit Wert:** Wir erzeugen einen neuen DataFrame `df` und fügen eine neue Spalte ein, die in jeder Zeile immer den gleichen Wert hat:"
      ]
    },
    {
      "cell_type": "code",
      "execution_count": null,
      "id": "2f374017-4c2a-412b-bf23-f4fe3e5dca3f",
      "metadata": {
        "id": "2f374017-4c2a-412b-bf23-f4fe3e5dca3f"
      },
      "outputs": [],
      "source": [
        "df = pd.DataFrame([[1,1,1],[2,2,2],[3,3,3]], columns=[\"Spalte1\",\"Spalte2\",\"Spalte3\"])\n",
        "df"
      ]
    },
    {
      "cell_type": "code",
      "execution_count": null,
      "id": "88d2113f-f94e-49b2-a2e1-df18e8033f75",
      "metadata": {
        "id": "88d2113f-f94e-49b2-a2e1-df18e8033f75"
      },
      "outputs": [],
      "source": [
        "df[\"Spalte4\"]=4\n",
        "df"
      ]
    },
    {
      "cell_type": "markdown",
      "id": "70cc7ade-7df4-46fc-8483-356488a0d991",
      "metadata": {
        "id": "70cc7ade-7df4-46fc-8483-356488a0d991"
      },
      "source": [
        "**Neue Spalte mit berechneten Werten:** Wir können beliebige arithmetische Operationen auf Spalten (mit numerischen Werten) anwenden und daraus neue Spalten erzeugen."
      ]
    },
    {
      "cell_type": "code",
      "execution_count": null,
      "id": "be75416a-345a-463e-af21-e6e07a6a5daa",
      "metadata": {
        "id": "be75416a-345a-463e-af21-e6e07a6a5daa"
      },
      "outputs": [],
      "source": [
        "# Variante 1\n",
        "tabelle[\"Tore_pro_Spiel\"] = tabelle[\"Tore_+\"]/28\n",
        "\n",
        "# Variante 2 (besser)\n",
        "tabelle[\"Tore_pro_Spiel\"] = tabelle[\"Tore_+\"]/tabelle[\"Spiele\"]\n",
        "tabelle"
      ]
    },
    {
      "cell_type": "markdown",
      "id": "6342b087-6fe4-4294-b843-5aa1052f822e",
      "metadata": {
        "id": "6342b087-6fe4-4294-b843-5aa1052f822e"
      },
      "source": [
        "**Frage:** Wie fügen Sie eine neue Spalte ein, die für jede Mannschaft die Gegentore pro Spiel darstellt?"
      ]
    },
    {
      "cell_type": "code",
      "execution_count": null,
      "id": "a6249706-e316-4f38-a50c-952194740829",
      "metadata": {
        "id": "a6249706-e316-4f38-a50c-952194740829"
      },
      "outputs": [],
      "source": [
        ""
      ]
    },
    {
      "cell_type": "markdown",
      "id": "14f5ccf2-1b99-477d-a62b-99e2a076db1f",
      "metadata": {
        "id": "14f5ccf2-1b99-477d-a62b-99e2a076db1f"
      },
      "source": [
        "# 2. Aggregation von Daten <a class=\"anchor\" id=\"aggregation\"></a>"
      ]
    },
    {
      "cell_type": "markdown",
      "id": "f3079418-db95-4a3f-8c1f-3002178becf7",
      "metadata": {
        "id": "f3079418-db95-4a3f-8c1f-3002178becf7"
      },
      "source": [
        "## 2.1 Erste deskriptive Parameter & Summierung <a class=\"anchor\" id=\"parameter\"></a>"
      ]
    },
    {
      "cell_type": "code",
      "execution_count": null,
      "id": "8c158b53-1895-4d5a-887e-548b5b1dc399",
      "metadata": {
        "id": "8c158b53-1895-4d5a-887e-548b5b1dc399"
      },
      "outputs": [],
      "source": [
        "# Mittelwert\n",
        "tabelle[\"Tore_+\"].mean()"
      ]
    },
    {
      "cell_type": "code",
      "execution_count": null,
      "id": "d04e2644-409b-4519-aa68-6c22bf2ed25f",
      "metadata": {
        "id": "d04e2644-409b-4519-aa68-6c22bf2ed25f"
      },
      "outputs": [],
      "source": [
        "# Median\n",
        "tabelle[\"Tore_+\"].median()"
      ]
    },
    {
      "cell_type": "code",
      "execution_count": null,
      "id": "65d7cb0b-b8dd-48d0-a37e-455a7df70f1c",
      "metadata": {
        "id": "65d7cb0b-b8dd-48d0-a37e-455a7df70f1c"
      },
      "outputs": [],
      "source": [
        "# Standardsabweichung\n",
        "tabelle[\"Tore_+\"].std()"
      ]
    },
    {
      "cell_type": "markdown",
      "id": "b14e7c50-e960-4a75-adc1-8e7c051140fa",
      "metadata": {
        "id": "b14e7c50-e960-4a75-adc1-8e7c051140fa"
      },
      "source": [
        "Es besteht die Möglichkeit, dass Sie Methoden zur Berechnung von statistischen Parametern auf mehrere Spalten gleichzeitig anwenden:"
      ]
    },
    {
      "cell_type": "markdown",
      "id": "b5eebeb0-7b4b-4a9b-b132-03f2a5cf06d8",
      "metadata": {
        "id": "b5eebeb0-7b4b-4a9b-b132-03f2a5cf06d8"
      },
      "source": [
        "Berechnung des Mittelwertes für die beiden Spalten `Tore_+` und `Tore_-`:"
      ]
    },
    {
      "cell_type": "code",
      "execution_count": null,
      "id": "b22e7f41-aa78-4cc4-85ee-cbdaaa6a761a",
      "metadata": {
        "id": "b22e7f41-aa78-4cc4-85ee-cbdaaa6a761a"
      },
      "outputs": [],
      "source": [
        "tabelle[[\"Tore_+\",\"Tore_-\"]].mean()"
      ]
    },
    {
      "cell_type": "markdown",
      "id": "22c0ea69-58a6-413f-9d3e-5d78ff49462c",
      "metadata": {
        "id": "22c0ea69-58a6-413f-9d3e-5d78ff49462c"
      },
      "source": [
        "Die Anzahl aller geschossenen Tore berechnet Ihnen die Methode `sum()`:"
      ]
    },
    {
      "cell_type": "code",
      "execution_count": null,
      "id": "5f78fd3a-3957-4fc2-ad51-44e3099fa7e5",
      "metadata": {
        "id": "5f78fd3a-3957-4fc2-ad51-44e3099fa7e5"
      },
      "outputs": [],
      "source": [
        "tabelle[\"Tore_+\"].sum()"
      ]
    },
    {
      "cell_type": "markdown",
      "id": "d9a2af99-41a6-4ae5-b4ed-339169d3b71b",
      "metadata": {
        "id": "d9a2af99-41a6-4ae5-b4ed-339169d3b71b"
      },
      "source": [
        "**Frage:** Was macht die Funktion `cumsum`? Sehen Sie sich dazu die Ausgabe in der unteren Code-Zellen genauer an."
      ]
    },
    {
      "cell_type": "code",
      "execution_count": null,
      "id": "6e7d5d58-7df4-47ec-8689-d3221a0bc88c",
      "metadata": {
        "id": "6e7d5d58-7df4-47ec-8689-d3221a0bc88c"
      },
      "outputs": [],
      "source": [
        "tabelle[\"cumsum\"] = tabelle[\"Tore_+\"].cumsum()\n",
        "tabelle"
      ]
    },
    {
      "cell_type": "markdown",
      "id": "25d8dd8f-34a3-4c82-846d-d858fca706ca",
      "metadata": {
        "id": "25d8dd8f-34a3-4c82-846d-d858fca706ca"
      },
      "source": [
        "**Frage**: Wie lassen sich die kummulativen Häufigkeiten asl Prozent darstellen? Denken Sie nochmals an den Abschnitt, in dem wir beliebige arithmetische Operationen für einzelne Spalten durchgeführt haben!"
      ]
    },
    {
      "cell_type": "code",
      "execution_count": null,
      "id": "fc6eecd6-d9df-41e4-8f1e-6e6dea05c8cf",
      "metadata": {
        "id": "fc6eecd6-d9df-41e4-8f1e-6e6dea05c8cf"
      },
      "outputs": [],
      "source": [
        ""
      ]
    },
    {
      "cell_type": "markdown",
      "id": "e324dbe8-c866-4f6e-ae28-2958f80f2c54",
      "metadata": {
        "id": "e324dbe8-c866-4f6e-ae28-2958f80f2c54"
      },
      "source": [
        "### Aufgabe: Parameter und Summen - Fifa World Cup <a class=\"anchor\" id=\"parameter_summen\"></a>"
      ]
    },
    {
      "cell_type": "markdown",
      "id": "bc95d137-308e-4229-a377-087cd6959426",
      "metadata": {
        "id": "bc95d137-308e-4229-a377-087cd6959426"
      },
      "source": [
        "Wir betrachten erneut die Daten zur Fussballweltmeisterschaft und laden diese wie folgt:"
      ]
    },
    {
      "cell_type": "code",
      "execution_count": null,
      "id": "45e19eec-9416-4276-b390-d7b6173a2355",
      "metadata": {
        "id": "45e19eec-9416-4276-b390-d7b6173a2355"
      },
      "outputs": [],
      "source": [
        "df = pd.read_csv(\"/content/drive/MyDrive/Logistik_Business_Analyst/Grundlagen_Datenverarbeitung_mit_Pandas/WorldCupMatches.csv\")\n",
        "# Transformation der Spalten in passende Datentypen mit der Funktion \".astype\", Numpy-Datentypen unter https://www.w3schools.com/python/numpy/numpy_data_types.asp\n",
        "df = df.astype({\"Datetime\": \"M\", \"RoundID\": \"O\", \"MatchID\": \"O\"}, errors='raise') \n",
        "df.head()"
      ]
    },
    {
      "cell_type": "markdown",
      "id": "a136425c-dc46-4479-a865-8153220735af",
      "metadata": {
        "id": "a136425c-dc46-4479-a865-8153220735af"
      },
      "source": [
        "Bitte bearbeiten Sie die folgenden Aufgaben:\n",
        "1. In welchem Jahreszeitraum wurden die Daten zu den verschiedenen Fussballweltmeisterschaften erhoben? \n",
        "1. Was ist die durchschnittliche Zuschauerzahl bei einem Weltmeisterschaftsspiel?\n",
        "1. Welches war das Spiel mit den meisten/ wenigsten Zuschauern? Nutzen Sie hierzu die `max()` und `min()` Methoden!\n",
        "1. Wie viele Menschen haben im Erhebungszeitraum Spiele einer Fussballweltmeisterschaft gesehen? Nutzen Sie die `sum()` Methode!\n",
        "1. Fügen Sie eine neue Spalte ein, die die Anzahl der geschossenen Tore bei jedem Weltmeisterschaftsspiel berechnet! Schauen Sie sich dazu nochmals das Kapitel zum Einfügen neuer Spalten an!\n",
        "1. Welches ist das Spiel mit den meisten Toren?\n",
        "1. Wie viele Tore fallen im Schnitt bei einem Spiel der Fussballweltmeisterschaft?\n",
        "1. Fallen in einem Spiel im Mittel mehr Tore in der ersten oder zweiten Halbzeit?\n"
      ]
    },
    {
      "cell_type": "code",
      "execution_count": null,
      "id": "e99cd47e-b3e7-4617-a38c-cf6f753bebcb",
      "metadata": {
        "id": "e99cd47e-b3e7-4617-a38c-cf6f753bebcb"
      },
      "outputs": [],
      "source": [
        ""
      ]
    },
    {
      "cell_type": "markdown",
      "id": "c39470f3-7d32-4ba5-8ea0-f517081d1f94",
      "metadata": {
        "id": "c39470f3-7d32-4ba5-8ea0-f517081d1f94"
      },
      "source": [
        "### 2.2 Zählen <a class=\"anchor\" id=\"zaehlen\"></a>\n",
        "Wir bleiben beim Fifa World Cup Datensatz. Enthalten Spalten kategoriale Werte interessiert man sich z.B. dafür, wie häufig eine Kategorie auftritt. Pandas stellt dafür die Funktion `value_counts` bereit:"
      ]
    },
    {
      "cell_type": "code",
      "execution_count": null,
      "id": "3e22e628-1a71-4d14-ae3d-2123fd03cbf5",
      "metadata": {
        "id": "3e22e628-1a71-4d14-ae3d-2123fd03cbf5"
      },
      "outputs": [],
      "source": [
        "df[\"City\"].value_counts()"
      ]
    },
    {
      "cell_type": "markdown",
      "id": "4c84a07c-e2ea-4e2d-8409-29fb273db13f",
      "metadata": {
        "id": "4c84a07c-e2ea-4e2d-8409-29fb273db13f"
      },
      "source": [
        "**Frage:** Was macht der Parameter `normalize` und `ascending` in der Funktion `value_counts`?"
      ]
    },
    {
      "cell_type": "code",
      "execution_count": null,
      "id": "4ef89140-5f52-44fb-b152-8a47958d8343",
      "metadata": {
        "id": "4ef89140-5f52-44fb-b152-8a47958d8343"
      },
      "outputs": [],
      "source": [
        ""
      ]
    },
    {
      "cell_type": "markdown",
      "id": "c7066e4f-4600-48b7-86b6-d4bfa39ea3ed",
      "metadata": {
        "id": "c7066e4f-4600-48b7-86b6-d4bfa39ea3ed"
      },
      "source": [
        "### 2.3 Gruppierungen und Aggregationen <a class=\"anchor\" id=\"gruppierung\"></a>"
      ]
    },
    {
      "cell_type": "markdown",
      "id": "302947a0-af37-4b26-8908-8d7326f5058f",
      "metadata": {
        "id": "302947a0-af37-4b26-8908-8d7326f5058f"
      },
      "source": [
        "Wenn wir uns erneut mit dem Fifa World Cup Datensatz beschäftigen, könnten wir uns dafür interessieren, wie viele Zuschauer im Mittel bei einem Spiel einer jeden Mannschaft anwesend waren - für den Fall, dass die Mannschaft ein Heimspiel hatte. Mit den bisherigen Methoden können wir dies bereits berechnen, hier am Beispiel der deutschen, englischen und französischen Nationalmannschaft:"
      ]
    },
    {
      "cell_type": "code",
      "execution_count": null,
      "id": "0d22db07-d217-4b77-ba9a-db467b52b5ff",
      "metadata": {
        "id": "0d22db07-d217-4b77-ba9a-db467b52b5ff"
      },
      "outputs": [],
      "source": [
        "zuschauer_de = df[df[\"Home Team Initials\"].isin([\"FRG\",\"GER\"])]\n",
        "zuschauer_it = df[df[\"Home Team Initials\"] == \"ITA\"]\n",
        "zuschauer_fr = df[df[\"Home Team Initials\"] == \"FRA\"]"
      ]
    },
    {
      "cell_type": "code",
      "execution_count": null,
      "id": "e15a4d1a-c0ec-46a3-893f-3243b779ccbf",
      "metadata": {
        "id": "e15a4d1a-c0ec-46a3-893f-3243b779ccbf"
      },
      "outputs": [],
      "source": [
        "zuschauer_de_mean = zuschauer_de[\"Attendance\"].mean()\n",
        "zuschauer_it_mean = zuschauer_it[\"Attendance\"].mean()\n",
        "zuschauer_fr_mean = zuschauer_fr[\"Attendance\"].mean()\n",
        "zuschauer_de_mean, zuschauer_it_mean, zuschauer_fr_mean"
      ]
    },
    {
      "cell_type": "markdown",
      "id": "97e77a23-3ba4-45ba-ac87-b7b510ee5866",
      "metadata": {
        "id": "97e77a23-3ba4-45ba-ac87-b7b510ee5866"
      },
      "source": [
        "Wie Sie erkennen, ist diese Art der Berechnung bei einer Vielzahl von Mannschaften extrem mühsam. Pandas stellt glücklicherweise Methoden bereit, die Ihnen die Arbeit enorm erleichtern, insbesondere die `groupby` Funktion."
      ]
    },
    {
      "cell_type": "markdown",
      "id": "fde48418-0ee3-40ee-9a59-441f195071f8",
      "metadata": {
        "id": "fde48418-0ee3-40ee-9a59-441f195071f8"
      },
      "source": [
        "Wir können beispielsweise die mittlere Anzahl von Zuschauern je Mannschaft berechnen (für den Fall eines Heimspiels), wenn wir zunächst die Daten nach Mannschaft gruppieren (`df.groupby(\"Home Team Initials\")`), dann nur die Anzahl der Zuschauer weiter betrachten (`df.groupby(\"Home Team Initials\")[\"Attendance\"]`) und abschließend je Mannschaft den Mittelwert der Zuschauer berechnen:"
      ]
    },
    {
      "cell_type": "code",
      "execution_count": null,
      "id": "e02def64-6db0-480b-a38c-096f2d9bef66",
      "metadata": {
        "id": "e02def64-6db0-480b-a38c-096f2d9bef66"
      },
      "outputs": [],
      "source": [
        "df.groupby(\"Home Team Initials\")[\"Attendance\"].mean()"
      ]
    },
    {
      "cell_type": "code",
      "execution_count": null,
      "id": "2d5fefbb-7d7b-4863-999b-6d0df35782c4",
      "metadata": {
        "id": "2d5fefbb-7d7b-4863-999b-6d0df35782c4"
      },
      "outputs": [],
      "source": [
        "# Mit Sortierung\n",
        "zuschauer_team = df.groupby(\"Home Team Initials\")[\"Attendance\"].mean().sort_values(ascending=False)\n",
        "zuschauer_team"
      ]
    },
    {
      "cell_type": "markdown",
      "id": "e30c1434-14fc-45c9-ad19-6c14a2596750",
      "metadata": {
        "id": "e30c1434-14fc-45c9-ad19-6c14a2596750"
      },
      "source": [
        "Sie haben die Möglichkeit mit der Funktion `groupby` auch Gruppierungen auf mehrere Spalten durchzuführen. Zum Beispiel können wir für jede Mannschaftspaarung die durchschnittliche Anzahl von Zuschauern berechnen:"
      ]
    },
    {
      "cell_type": "code",
      "execution_count": null,
      "id": "d4296c36-7567-4d99-8fbd-9a8c6cc2ced4",
      "metadata": {
        "id": "d4296c36-7567-4d99-8fbd-9a8c6cc2ced4"
      },
      "outputs": [],
      "source": [
        "paarungen = df.groupby([\"Home Team Initials\",\"Away Team Initials\"])[\"Attendance\"].mean()\n",
        "paarungen"
      ]
    },
    {
      "cell_type": "markdown",
      "id": "53b04d95-5929-4af9-87fb-6f1a407c18d2",
      "metadata": {
        "id": "53b04d95-5929-4af9-87fb-6f1a407c18d2"
      },
      "source": [
        "**Frage:** Welches sind die Mannschaftspaarungen mit den meisten und wenigsten Zuschauern? Verwenden Sie dazu die `sort_values` Methode!"
      ]
    },
    {
      "cell_type": "code",
      "execution_count": null,
      "id": "8fd68fc8-7271-4f9e-8f5d-a95be3e7d617",
      "metadata": {
        "id": "8fd68fc8-7271-4f9e-8f5d-a95be3e7d617"
      },
      "outputs": [],
      "source": [
        ""
      ]
    },
    {
      "cell_type": "markdown",
      "id": "7fc57712-3930-4abb-8d30-2d2082b1e84a",
      "metadata": {
        "id": "7fc57712-3930-4abb-8d30-2d2082b1e84a"
      },
      "source": [
        "Mithilfe der Methode `agg` können Sie gleichzeitig mehrere Aggregationsfunktionen berechnen lassen. Dazu übergeben Sie an die Funktion `agg` eine Liste, die die relevanten Funktionen als String enthält:"
      ]
    },
    {
      "cell_type": "code",
      "execution_count": null,
      "id": "059967cc-449d-42c4-9b08-38c5084af007",
      "metadata": {
        "id": "059967cc-449d-42c4-9b08-38c5084af007"
      },
      "outputs": [],
      "source": [
        "df.groupby(\"Home Team Initials\")[\"Attendance\"].agg([\"min\",\"mean\",\"max\"])"
      ]
    },
    {
      "cell_type": "markdown",
      "id": "ed237d13-4292-402e-b457-a1e77b018e8e",
      "metadata": {
        "id": "ed237d13-4292-402e-b457-a1e77b018e8e"
      },
      "source": [
        "### Exkurs: Export von DataFrames\n",
        "Genauso wie Sie Daten aus Dateien in einen DataFrame einlesen können - z.B. aus csv-Dateien über `pd.read_csv()` - können Sie natürlich auch Dateien aus DataFrames erzeugen (csv, xlsx, etc.). Mit der Funktion `DataFrame.to_csv()` schreiben Sie den DataFrame in eine csv. Bitte denken Sie daran, dass Sie `DataFrame` durch die von Ihnen genutzte Variable ersetzen. Hierzu ein kleines Bespiel anhand der Fifa World Cup Datensatzes - später noch mehr zum Lesen und Schreiben von Daten:"
      ]
    },
    {
      "cell_type": "markdown",
      "id": "fa5a0dfb-4adc-4a27-ace1-b31f3943efe2",
      "metadata": {
        "id": "fa5a0dfb-4adc-4a27-ace1-b31f3943efe2"
      },
      "source": [
        "**1. Überlegung:** In welches [Verzeichnis](https://de.wikipedia.org/wiki/Verzeichnisstruktur) möchte ich meine Datei schreiben? Der \"Weg\" zum Verzeichnis heißt Pfad! "
      ]
    },
    {
      "cell_type": "code",
      "execution_count": null,
      "id": "bf0cadda-e11f-4e24-af35-bc751a635493",
      "metadata": {
        "id": "bf0cadda-e11f-4e24-af35-bc751a635493"
      },
      "outputs": [],
      "source": [
        "path = \"/content/drive/MyDrive/Logistik_Business_Analyst/Grundlagen_Datenverarbeitung_mit_Pandas/\""
      ]
    },
    {
      "cell_type": "code",
      "execution_count": null,
      "id": "8dcfef44-0b20-4afa-98e1-b68c50576e06",
      "metadata": {
        "id": "8dcfef44-0b20-4afa-98e1-b68c50576e06"
      },
      "outputs": [],
      "source": [
        "path"
      ]
    },
    {
      "cell_type": "markdown",
      "id": "cfe83b81-9e31-4d8e-8f64-26650138276d",
      "metadata": {
        "id": "cfe83b81-9e31-4d8e-8f64-26650138276d"
      },
      "source": [
        "**2. Überlegung:** Unter welchem Namen und in welchem Format möchte ich die Datei abspeichern?"
      ]
    },
    {
      "cell_type": "code",
      "execution_count": null,
      "id": "59d79d5f-5b8c-47e4-a9bb-31302447d1e3",
      "metadata": {
        "id": "59d79d5f-5b8c-47e4-a9bb-31302447d1e3"
      },
      "outputs": [],
      "source": [
        "file_name = \"spiele_auswertungen.csv\""
      ]
    },
    {
      "cell_type": "markdown",
      "id": "298b876f-32d8-457b-87bd-9e2b5c816850",
      "metadata": {
        "id": "298b876f-32d8-457b-87bd-9e2b5c816850"
      },
      "source": [
        "**3. Export DataFrame:** Sie speichern nun die Kennzahlen zu den einzelnen Teams in einer Variablen. Anschließend verwenden Sie die Funktion `DataFrame.to_csv()` und übergeben den gesamten Dateipfad als Argument! "
      ]
    },
    {
      "cell_type": "code",
      "execution_count": null,
      "id": "a27af840-fa1f-41d8-86f9-5ad2b4c0bc18",
      "metadata": {
        "id": "a27af840-fa1f-41d8-86f9-5ad2b4c0bc18"
      },
      "outputs": [],
      "source": [
        "data = df.groupby(\"Home Team Initials\")[\"Attendance\"].agg([\"min\",\"mean\",\"max\"])"
      ]
    },
    {
      "cell_type": "code",
      "execution_count": null,
      "id": "8bf6392b-8b4c-4062-9077-b058af58fe3d",
      "metadata": {
        "id": "8bf6392b-8b4c-4062-9077-b058af58fe3d"
      },
      "outputs": [],
      "source": [
        "path, file_name"
      ]
    },
    {
      "cell_type": "code",
      "execution_count": null,
      "id": "ebd6cb3e-f88e-46b7-8446-d4f777079c80",
      "metadata": {
        "id": "ebd6cb3e-f88e-46b7-8446-d4f777079c80"
      },
      "outputs": [],
      "source": [
        "file_path = path + file_name\n",
        "file_path"
      ]
    },
    {
      "cell_type": "code",
      "execution_count": null,
      "id": "466f76f3-3bcb-4833-8f48-a80f0ad13dbb",
      "metadata": {
        "id": "466f76f3-3bcb-4833-8f48-a80f0ad13dbb"
      },
      "outputs": [],
      "source": [
        "data.to_csv(file_path)"
      ]
    },
    {
      "cell_type": "markdown",
      "id": "53b4c001-b74e-468b-b3cd-094508e2d7bf",
      "metadata": {
        "id": "53b4c001-b74e-468b-b3cd-094508e2d7bf"
      },
      "source": [
        "### 2.4 Pivottabellen <a class=\"anchor\" id=\"pivot\"></a>\n",
        "Sie kennen vermutlich Pivottabellen aus Excel. Diese lassen sich auch sehr leicht in pandas erzeugen. Dazu verwenden wir die Methode `pivot_table`. Die Ergebnisse sind analog zu denen aus den vorherigen Abschnitten, wenn wir `groupby` mit entsprechenden Aggreagationsmethoden aufrufen. Die Darstellung unterscheidet sich allerdings ein wenig."
      ]
    },
    {
      "cell_type": "code",
      "execution_count": null,
      "id": "513e7fb9-f728-4f6c-bc88-7493692905a9",
      "metadata": {
        "id": "513e7fb9-f728-4f6c-bc88-7493692905a9"
      },
      "outputs": [],
      "source": [
        "# Mittelwert der Zuschauer für jede Mannschaft, wenn diese die Heimmannschaft war\n",
        "df.pivot_table(values=\"Attendance\", index=\"Home Team Initials\", aggfunc=\"mean\")"
      ]
    },
    {
      "cell_type": "code",
      "execution_count": null,
      "id": "65ac535c-b0c0-4210-8a3b-ee5d8723b70c",
      "metadata": {
        "id": "65ac535c-b0c0-4210-8a3b-ee5d8723b70c"
      },
      "outputs": [],
      "source": [
        "# Min, Max und Mittelwert der Zuschauer für jede Mannschaft, wenn diese die Heimmannschaft war\n",
        "df.pivot_table(values=\"Attendance\", index=\"Home Team Initials\", aggfunc=[\"min\",\"mean\",\"max\"])"
      ]
    },
    {
      "cell_type": "code",
      "execution_count": null,
      "id": "e599a0ce-1e55-4488-b21f-a5cd5d0eb40a",
      "metadata": {
        "id": "e599a0ce-1e55-4488-b21f-a5cd5d0eb40a"
      },
      "outputs": [],
      "source": [
        "# Min, Max und Mittelwert der Zuschauer für jede Mannschaftspaarung\n",
        "df.pivot_table(values=\"Attendance\", \n",
        "               index=\"Home Team Initials\", \n",
        "               aggfunc=\"mean\",\n",
        "               columns=\"Away Team Initials\",\n",
        "               fill_value=0,\n",
        "               margins=True\n",
        "              )"
      ]
    },
    {
      "cell_type": "markdown",
      "id": "18f316f8-6666-4e44-9a79-a0a749037193",
      "metadata": {
        "id": "18f316f8-6666-4e44-9a79-a0a749037193"
      },
      "source": [
        "### Aufgabe: Aggregation - Verkaufszahlen Walmart <a class=\"anchor\" id=\"walmart\"></a>"
      ]
    },
    {
      "cell_type": "markdown",
      "id": "c5b9669d-89fd-4d6c-829a-72c380f1f8a2",
      "metadata": {
        "id": "c5b9669d-89fd-4d6c-829a-72c380f1f8a2"
      },
      "source": [
        "Sie erhalten einen Datensatz der Einzelhandelskette Walmart (Auszug aus diesem [Datensatz](https://www.kaggle.com/competitions/walmart-recruiting-store-sales-forecasting/data)). Dieser enthält Verkaufszahlen für jeden Laden (`store`) mit seinen verschiedenen Kategorien (`department`), z.B. Gemüse oder Tiefkühlware. Die wöchentlichen Verkaufszahlen (`weekly_sales`) sind in Dollar angegeben. Der jeweilige Freitag einer Woche ist über die Spalte `date` gekennzeichnet. Die Spalten `is_holiday`, `temperature_c`, `fuel_price_usd_per_l`und `unemployment` enthalten weitere Informationen, die für diese Woche aufgenommen wurden und vermutlich einen Einfluss auf die Verkaufszahlen haben. Wir laden zunächst wieder die Daten:"
      ]
    },
    {
      "cell_type": "code",
      "execution_count": null,
      "id": "2bc51ae8-019f-4dc6-ba0e-8a4e57785bf9",
      "metadata": {
        "id": "2bc51ae8-019f-4dc6-ba0e-8a4e57785bf9"
      },
      "outputs": [],
      "source": [
        "df = pd.read_csv(\"/content/drive/MyDrive/Logistik_Business_Analyst/Grundlagen_Datenverarbeitung_mit_Pandas/sales_data.txt\", index_col=0)\n",
        "# Löschen der Spalte \"type\". \"inplace=True\" ist gleichbedeutend mit \"df = df.drop(columns=[\"type\"])\"\n",
        "df.drop(columns=[\"type\"], inplace=True)\n",
        "# Transformation der Datentypen\n",
        "df = df.astype({\"store\":\"O\", \"department\":\"O\", \"date\":\"M\"})\n",
        "df.head()"
      ]
    },
    {
      "cell_type": "markdown",
      "id": "eb2dc87c-b052-4895-ab01-400e00970a85",
      "metadata": {
        "id": "eb2dc87c-b052-4895-ab01-400e00970a85"
      },
      "source": [
        "Bitte berarbeiten Sie nun die folgenden Aufgaben:\n",
        "1. In welchem Zeitraum wurden die Daten erhoben?\n",
        "1. Welchen Gesamtumsatz hat Walmart im Betrachtungszeitraum realisiert? \n",
        "1. Berechnen Sie für jeden Store die Gesamtumsätze im Betrachtungszeitraum! Nutzen Sie die `groupby` und anschließend die `sum` Methode!\n",
        "1. Was ist der durchschnittliche Gesamtumsatz eines Stores? Sie können auf der Lösung zur Aufgabe zuvor aufbauen. Nutzen Sie zusätzlich die `mean` Funktion!\n",
        "1. Erstellen Sie eine Pivottabelle, die die wöchentlichen Umsätze zeigt und dabei unterscheidet, ob in der Woche Ferientage lagen oder eben nicht! Nutzen Sie dafür die Methode `pivot_table`!\n",
        "1. Fügen Sie eine neue Spalte ein, die angibt, ob der Kraftstoffpreis pro Liter in einer Woche größer gleich 0.9 Dollar war. Erzeugen Sie anschließend eine Pivottabelle, die die Verkaufszahlen in Abhängigkeit des Kraftstoffpreises - kleiner 0.9 Dollar vs. größer gleich 0.9 Dollar - wiedergibt!\n",
        "1. Wie können Sie das Ergebnis aus der vorherigen Aufgabe in einer csv-Datei speichern?"
      ]
    },
    {
      "cell_type": "code",
      "execution_count": null,
      "id": "2566f820-933b-4f09-ab86-bb69c66fd14f",
      "metadata": {
        "id": "2566f820-933b-4f09-ab86-bb69c66fd14f"
      },
      "outputs": [],
      "source": [
        "drive.flush_and_unmount()"
      ]
    },
    {
      "cell_type": "code",
      "source": [
        ""
      ],
      "metadata": {
        "id": "CKaMso2fVW0s"
      },
      "id": "CKaMso2fVW0s",
      "execution_count": null,
      "outputs": []
    }
  ],
  "metadata": {
    "kernelspec": {
      "display_name": "Python 3 (ipykernel)",
      "language": "python",
      "name": "python3"
    },
    "language_info": {
      "codemirror_mode": {
        "name": "ipython",
        "version": 3
      },
      "file_extension": ".py",
      "mimetype": "text/x-python",
      "name": "python",
      "nbconvert_exporter": "python",
      "pygments_lexer": "ipython3",
      "version": "3.8.5"
    },
    "colab": {
      "name": "G2: Pandas_Data_Analysis.ipynb",
      "provenance": [],
      "collapsed_sections": [],
      "toc_visible": true,
      "include_colab_link": true
    }
  },
  "nbformat": 4,
  "nbformat_minor": 5
}