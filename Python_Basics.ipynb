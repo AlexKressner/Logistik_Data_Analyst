{
  "cells": [
    {
      "cell_type": "markdown",
      "metadata": {
        "id": "view-in-github",
        "colab_type": "text"
      },
      "source": [
        "<a href=\"https://colab.research.google.com/github/AlexKressner/Logistik_Data_Analyst/blob/main/Python_Basics.ipynb\" target=\"_parent\"><img src=\"https://colab.research.google.com/assets/colab-badge.svg\" alt=\"Open In Colab\"/></a>"
      ]
    },
    {
      "cell_type": "markdown",
      "id": "a6534eb9-fc62-402d-9447-8cdbd02c550a",
      "metadata": {
        "jp-MarkdownHeadingCollapsed": true,
        "tags": [],
        "id": "a6534eb9-fc62-402d-9447-8cdbd02c550a"
      },
      "source": [
        "# Übersicht\n",
        "1. [Python und sein Erfinder](#geschichte_python)\n",
        "2. [Eigenschaften von Python](#eigenschaften_python)\n",
        "3. [Kurzeinführung Jupyterlab und Jupyter Notebook](#jupyter)\n",
        "4. [Einfache Rechnungen zum Einstieg ](#einführung_beispiel)\n",
        "5. [Variablen](#variablen)\n",
        "6. [Funktionen](#funktionen)\n",
        "7. [Packages](#packages)"
      ]
    },
    {
      "cell_type": "markdown",
      "id": "3f5c074c-a0ce-4cd4-b0e2-59a881c326be",
      "metadata": {
        "id": "3f5c074c-a0ce-4cd4-b0e2-59a881c326be"
      },
      "source": [
        "# Übungsaufgaben\n",
        "- [Jupyter Notebook](#notebook)\n",
        "- [Berechnungen - Wertpapier](#wertpapier)\n",
        "- [Variablen - Wertpapier](#wertpapier_variablen)\n",
        "- [Typumwandlung - Wertpapier](#wertpapier_typ)\n",
        "- [Listen - Transportzeiten](#transport_listen)\n",
        "- [Listenmanipulation - Transportzeiten](#transport_listen_manipulation)\n",
        "- [Packages & Funktionen - Transportzeiten](#transport_package)"
      ]
    },
    {
      "cell_type": "markdown",
      "id": "157694f7-cc58-4742-8f9c-04dde32d0e4f",
      "metadata": {
        "id": "157694f7-cc58-4742-8f9c-04dde32d0e4f"
      },
      "source": [
        "# 1. Python und sein Erfinder <a class=\"anchor\" id=\"geschichte_python\"></a>\n",
        "Die Programmiersprache **Python** wurde 1990 von **Guido van Rossum** entwickelt. Im Januar 1994 erschien die erste Vollversion unter der Bezeichnung Python 1.0. Python wurde mit dem Ziel größter Einfachheit und Übersichtlichkeit entwickelt. Die aktuelle Version von Python ist 3.11. Mittlerweile zählt Python zu den beliebtesten Programmiersprachen.\n"
      ]
    },
    {
      "cell_type": "markdown",
      "id": "2c758949-f662-49b8-8b19-07f1253a6da8",
      "metadata": {
        "id": "2c758949-f662-49b8-8b19-07f1253a6da8"
      },
      "source": [
        "# 2. Eigenschaften <a class=\"anchor\" id=\"eigenschaften\"></a>\n",
        "- ### Einfache Syntax\n",
        "- ### Open Source! [Free](https://www.python.org/downloads/)!\n",
        "- ### Viele, viele Bibliotheken für verschiedenste Einsatzzwecke\n",
        "- ### Praxiserprobt!"
      ]
    },
    {
      "cell_type": "markdown",
      "id": "07bd5a18-f8ca-4c34-9c05-14d4f7c2afd7",
      "metadata": {
        "id": "07bd5a18-f8ca-4c34-9c05-14d4f7c2afd7"
      },
      "source": [
        "**Hinweis**: Es gibt diverse (kostenfreie) Angebote, die es erlauben Jupyter Notebooks im Browser zu bearbeiten und auf gehosteter Infrastruktur auszuführen. Bekannt ist beispielweise das Angebot \"[google colab](https://colab.research.google.com)\" oder [binder](https://mybinder.org). Für den Fall, dass Sie solche Angebote nutzen, müssen Sie keine Installationen auf Ihrem Rechner vornehmen. Seien Sie sich aber bitte bewußt, dass die Berechnungen und zugehörige Daten auf fremder Infrastruktur laufen bzw. gespeichert werden."
      ]
    },
    {
      "cell_type": "markdown",
      "source": [
        ""
      ],
      "metadata": {
        "id": "ICvkhaN5zWUI"
      },
      "id": "ICvkhaN5zWUI"
    },
    {
      "cell_type": "markdown",
      "id": "a3924f95-f00a-493f-8176-8cfcd6602b63",
      "metadata": {
        "id": "a3924f95-f00a-493f-8176-8cfcd6602b63"
      },
      "source": [
        "# 3. Kurzeinführung Jupyterlab und Jupyter Notebook <a class=\"anchor\" id=\"jupyter\"></a>"
      ]
    },
    {
      "cell_type": "markdown",
      "id": "633e88a9-e11f-434f-a291-10802558578a",
      "metadata": {
        "id": "633e88a9-e11f-434f-a291-10802558578a"
      },
      "source": [
        "Wir nutzen [Jupyterlab](https://jupyter.org) als web-basierte Entwicklungsumgebung. Innerhalb von Jupyterlab nutzen wir Jupyter Notebooks, um interaktiv Code auszuführen. Das aktuelle Dokument ist ein Jupyter Notebook. Es besteht im wesentlichen aus zwei Arten von Zellen: \"Code\" und \"Markdown\"!"
      ]
    },
    {
      "cell_type": "markdown",
      "id": "07507e6c-8ed8-4c78-9aec-160d2e1ffc74",
      "metadata": {
        "id": "07507e6c-8ed8-4c78-9aec-160d2e1ffc74"
      },
      "source": [
        "Die nachfolgende Zelle ist eine **Codezelle**:"
      ]
    },
    {
      "cell_type": "code",
      "execution_count": null,
      "id": "5a688bb1-6ad5-4e0f-954f-64caf67461d8",
      "metadata": {
        "id": "5a688bb1-6ad5-4e0f-954f-64caf67461d8"
      },
      "outputs": [],
      "source": [
        "4+10"
      ]
    },
    {
      "cell_type": "markdown",
      "id": "4973c830-c5e3-401b-be93-5f261fa16281",
      "metadata": {
        "id": "4973c830-c5e3-401b-be93-5f261fa16281"
      },
      "source": [
        "Dies ist eine **Markdownzelle**! In Markdownzellen lässt sich Text formatieren."
      ]
    },
    {
      "cell_type": "markdown",
      "id": "1e698295-55a8-4425-88b8-cb3b066587c0",
      "metadata": {
        "id": "1e698295-55a8-4425-88b8-cb3b066587c0"
      },
      "source": [
        "Sie setzen den Cursor in einer selektierten Zelle durch Drücken der Taste `enter`. Den Code in einer Zelle führen Sie mit dem Tastenkürzel `shift + enter` aus."
      ]
    },
    {
      "cell_type": "code",
      "execution_count": null,
      "id": "06a78804-27cd-49df-86a5-02d592d2e991",
      "metadata": {
        "id": "06a78804-27cd-49df-86a5-02d592d2e991"
      },
      "outputs": [],
      "source": [
        "4+4+12"
      ]
    },
    {
      "cell_type": "markdown",
      "source": [
        ""
      ],
      "metadata": {
        "id": "kJnuHy6moMb4"
      },
      "id": "kJnuHy6moMb4"
    },
    {
      "cell_type": "markdown",
      "id": "8b0d590a-fcfd-46da-934d-375b093de2ac",
      "metadata": {
        "id": "8b0d590a-fcfd-46da-934d-375b093de2ac"
      },
      "source": [
        "Mit `esc` verlassen Sie die Zelle. Mit `a` fügen Sie eine neue Zelle oberhalb der aktuellen Zelle ein. Mit `b` fügen Sie eine Zelle unterhalb der aktuellen Zelle ein. Wichtig ist, dass Sie dabei nicht den Cursor in der Zelle gesetzt haben.  Es gibt diverse weitere [Shortcuts](https://towardsdatascience.com/10-tips-for-a-better-google-colab-experience-33f8fe721b82), die Ihnen die Arbeit erleichtern."
      ]
    },
    {
      "cell_type": "markdown",
      "id": "288bd9d1-77b7-4470-874c-9f2d2667a212",
      "metadata": {
        "id": "288bd9d1-77b7-4470-874c-9f2d2667a212"
      },
      "source": [
        "### Aufgabe: Jupyter Notebook <a class=\"anchor\" id=\"notebook\"></a>\n",
        "Fügen Sie zwei neue Zellen ein, in denen Sie beliebige Rechnungen durchführen und löschen Sie anschließend eine der beiden Zellen."
      ]
    },
    {
      "cell_type": "code",
      "execution_count": null,
      "id": "3b14f3a1-3acd-4a74-8b7c-aeb30cbe7d13",
      "metadata": {
        "id": "3b14f3a1-3acd-4a74-8b7c-aeb30cbe7d13"
      },
      "outputs": [],
      "source": [
        ""
      ]
    },
    {
      "cell_type": "markdown",
      "id": "6a8dc200-7794-44f5-8bdc-79182563661b",
      "metadata": {
        "id": "6a8dc200-7794-44f5-8bdc-79182563661b"
      },
      "source": [
        "# 4. Einfache Rechnungen zum Einstieg <a class=\"anchor\" id=\"einführung_beispiel\"></a>"
      ]
    },
    {
      "cell_type": "code",
      "execution_count": null,
      "id": "b31d1adf-bbb8-4d62-ab8e-ef6f6f27f6da",
      "metadata": {
        "id": "b31d1adf-bbb8-4d62-ab8e-ef6f6f27f6da"
      },
      "outputs": [],
      "source": [
        "4+5"
      ]
    },
    {
      "cell_type": "markdown",
      "id": "f2489162-fb16-421b-995f-2b9c9cda2e57",
      "metadata": {
        "id": "f2489162-fb16-421b-995f-2b9c9cda2e57"
      },
      "source": [
        "Eine Code-Zelle mit Kommentar (`#`)"
      ]
    },
    {
      "cell_type": "code",
      "execution_count": null,
      "id": "e7821ff1-2d0c-430d-b771-6ce6137e5a47",
      "metadata": {
        "id": "e7821ff1-2d0c-430d-b771-6ce6137e5a47"
      },
      "outputs": [],
      "source": [
        "# Das ist ein Kommentar\n",
        "4+5"
      ]
    },
    {
      "cell_type": "markdown",
      "id": "af2210c5-9f71-4f0f-be35-2f7a1f4ef78c",
      "metadata": {
        "id": "af2210c5-9f71-4f0f-be35-2f7a1f4ef78c"
      },
      "source": [
        "Addition, Subtraktion, Division und Multiplikation"
      ]
    },
    {
      "cell_type": "code",
      "execution_count": null,
      "id": "c0029398-0e39-4ace-ace6-53f65849bd66",
      "metadata": {
        "id": "c0029398-0e39-4ace-ace6-53f65849bd66"
      },
      "outputs": [],
      "source": [
        "(4+3-1)*2/0.5"
      ]
    },
    {
      "cell_type": "markdown",
      "id": "cb8ea84b-4d12-45c1-9352-c7ed91202a50",
      "metadata": {
        "id": "cb8ea84b-4d12-45c1-9352-c7ed91202a50"
      },
      "source": [
        "Potenzen"
      ]
    },
    {
      "cell_type": "code",
      "execution_count": null,
      "id": "456ab0da-dfee-4e76-a602-10e59f5356ae",
      "metadata": {
        "id": "456ab0da-dfee-4e76-a602-10e59f5356ae"
      },
      "outputs": [],
      "source": [
        "2**4"
      ]
    },
    {
      "cell_type": "markdown",
      "id": "e53f7985-b889-4590-b115-521b1b48a4a3",
      "metadata": {
        "id": "e53f7985-b889-4590-b115-521b1b48a4a3"
      },
      "source": [
        "### Aufgabe: Wertpapier <a class=\"anchor\" id=\"wertpapier\"></a>\n",
        "Sie legen Ihr Erspartes von 100€ in einem festverzinslichen Wertpapier an, wobei Sie eine jährliche Verzinsung von 5% erzielen. Wie ist der Auszahlungsbetrag den Sie nach 5 jähriger Laufzeit erhalten?"
      ]
    },
    {
      "cell_type": "code",
      "execution_count": null,
      "id": "5c4a1b86-0679-4d72-b86d-d4b00ee2e31b",
      "metadata": {
        "id": "5c4a1b86-0679-4d72-b86d-d4b00ee2e31b"
      },
      "outputs": [],
      "source": [
        "100*(1+0.05)**5"
      ]
    },
    {
      "cell_type": "markdown",
      "id": "d80d1087-598a-40b0-99d6-5a994a500174",
      "metadata": {
        "id": "d80d1087-598a-40b0-99d6-5a994a500174"
      },
      "source": [
        "# 5. Variablen <a class=\"anchor\" id=\"variablen\"></a>\n",
        "Variablen sind Behälter (Container) zum Aufbewahren von Werten. Es ist wichtig die **Groß- und Kleinschreibung** zu beachten. Die Werte werden über die Eingabe des Variablennamens abgerufen."
      ]
    },
    {
      "cell_type": "markdown",
      "id": "1866bf42-2689-4007-9f61-bad45e48a150",
      "metadata": {
        "id": "1866bf42-2689-4007-9f61-bad45e48a150"
      },
      "source": [
        "**Beispiel BMI:**"
      ]
    },
    {
      "cell_type": "code",
      "execution_count": null,
      "id": "28f576ad-9265-4ff7-80ba-7102e685a8e4",
      "metadata": {
        "id": "28f576ad-9265-4ff7-80ba-7102e685a8e4"
      },
      "outputs": [],
      "source": [
        "gewicht = 80\n",
        "groesse = 1.85"
      ]
    },
    {
      "cell_type": "markdown",
      "id": "682f0190-22f5-4679-949a-d04e1cee27fd",
      "metadata": {
        "id": "682f0190-22f5-4679-949a-d04e1cee27fd"
      },
      "source": [
        "Formel für den BMI:\n",
        "\n",
        "$BMI = \\frac{Gewicht}{Größe^2}$"
      ]
    },
    {
      "cell_type": "code",
      "execution_count": null,
      "id": "51e865d1-e5a2-448b-be7d-8eca3edf4799",
      "metadata": {
        "id": "51e865d1-e5a2-448b-be7d-8eca3edf4799"
      },
      "outputs": [],
      "source": [
        "bmi = gewicht/groesse**2\n",
        "bmi"
      ]
    },
    {
      "cell_type": "code",
      "execution_count": null,
      "id": "34ffcfbc-0089-4190-915d-1196a5950a7f",
      "metadata": {
        "id": "34ffcfbc-0089-4190-915d-1196a5950a7f"
      },
      "outputs": [],
      "source": [
        "bmi"
      ]
    },
    {
      "cell_type": "markdown",
      "id": "159f8480-78d7-4d33-8cc9-5fc0d9943bf4",
      "metadata": {
        "id": "159f8480-78d7-4d33-8cc9-5fc0d9943bf4"
      },
      "source": [
        "### 5.1 Variablentypen\n",
        "Variabeln haben verschiedene Typen, die bei Eingabe automatisch definiert werden."
      ]
    },
    {
      "cell_type": "markdown",
      "id": "72125b82-2bd3-400c-890a-0bbb1671d5b1",
      "metadata": {
        "id": "72125b82-2bd3-400c-890a-0bbb1671d5b1"
      },
      "source": [
        "TYP: **INTEGER** (Ganzzahlige Zahl)"
      ]
    },
    {
      "cell_type": "code",
      "execution_count": null,
      "id": "671bb810-4807-446b-8caa-6b700f798065",
      "metadata": {
        "id": "671bb810-4807-446b-8caa-6b700f798065"
      },
      "outputs": [],
      "source": [
        "a=100"
      ]
    },
    {
      "cell_type": "code",
      "execution_count": null,
      "id": "57452194-7a7c-42aa-8d55-eaf508c2ff4c",
      "metadata": {
        "id": "57452194-7a7c-42aa-8d55-eaf508c2ff4c"
      },
      "outputs": [],
      "source": [
        "type(a)"
      ]
    },
    {
      "cell_type": "markdown",
      "id": "726cb48d-9fde-4e7a-9f33-4ed0ac75356f",
      "metadata": {
        "id": "726cb48d-9fde-4e7a-9f33-4ed0ac75356f"
      },
      "source": [
        "TYP: **FLOAT** (Gleitkommazahl)"
      ]
    },
    {
      "cell_type": "code",
      "execution_count": null,
      "id": "a31d3384-bd1c-4c5f-bc50-961462581ab4",
      "metadata": {
        "id": "a31d3384-bd1c-4c5f-bc50-961462581ab4"
      },
      "outputs": [],
      "source": [
        "a=100.0"
      ]
    },
    {
      "cell_type": "code",
      "execution_count": null,
      "id": "e3500087-1b25-42f8-ac3e-6e2f89207866",
      "metadata": {
        "id": "e3500087-1b25-42f8-ac3e-6e2f89207866"
      },
      "outputs": [],
      "source": [
        "type(a)"
      ]
    },
    {
      "cell_type": "markdown",
      "id": "07a50e84-1a5b-4a39-ad34-60fe24851c63",
      "metadata": {
        "id": "07a50e84-1a5b-4a39-ad34-60fe24851c63"
      },
      "source": [
        "TYP: **STRING** (Text)"
      ]
    },
    {
      "cell_type": "code",
      "execution_count": null,
      "id": "3f1f9352-de12-4757-b1b3-f9a3a2c44b2f",
      "metadata": {
        "id": "3f1f9352-de12-4757-b1b3-f9a3a2c44b2f"
      },
      "outputs": [],
      "source": [
        "a='Hallo'"
      ]
    },
    {
      "cell_type": "code",
      "execution_count": null,
      "id": "fa1c7f7b-45dc-4238-964c-fc5f22cbfc28",
      "metadata": {
        "id": "fa1c7f7b-45dc-4238-964c-fc5f22cbfc28"
      },
      "outputs": [],
      "source": [
        "type(a)"
      ]
    },
    {
      "cell_type": "markdown",
      "id": "1d09a014-7669-4d99-a2f7-3bb57aa601de",
      "metadata": {
        "id": "1d09a014-7669-4d99-a2f7-3bb57aa601de"
      },
      "source": [
        "TYP: **BOOL** (\"wahr\" oder \"falsch\")"
      ]
    },
    {
      "cell_type": "code",
      "execution_count": null,
      "id": "b07d812a-a5c6-41ad-b59b-dcaec253c490",
      "metadata": {
        "id": "b07d812a-a5c6-41ad-b59b-dcaec253c490"
      },
      "outputs": [],
      "source": [
        "a = True"
      ]
    },
    {
      "cell_type": "code",
      "execution_count": null,
      "id": "76557a58-9ab8-435e-a05e-e4fa46c52d28",
      "metadata": {
        "id": "76557a58-9ab8-435e-a05e-e4fa46c52d28"
      },
      "outputs": [],
      "source": [
        "type(a)"
      ]
    },
    {
      "cell_type": "markdown",
      "id": "532c8cd4-b91c-4b36-abc7-66e5ac6ee606",
      "metadata": {
        "id": "532c8cd4-b91c-4b36-abc7-66e5ac6ee606"
      },
      "source": [
        "**Jede nach Variablentyp verändert sich das Verhalten!**"
      ]
    },
    {
      "cell_type": "code",
      "execution_count": null,
      "id": "ba8b90a6-5b18-400f-afab-44703f828f86",
      "metadata": {
        "id": "ba8b90a6-5b18-400f-afab-44703f828f86"
      },
      "outputs": [],
      "source": [
        "a, b = 1, 2"
      ]
    },
    {
      "cell_type": "code",
      "execution_count": null,
      "id": "731968c9-b6ff-427c-a7b3-1d45259f9ee4",
      "metadata": {
        "id": "731968c9-b6ff-427c-a7b3-1d45259f9ee4"
      },
      "outputs": [],
      "source": [
        "a + b"
      ]
    },
    {
      "cell_type": "code",
      "execution_count": null,
      "id": "3297b3f8-a2e7-4966-ad9d-807a20329e48",
      "metadata": {
        "id": "3297b3f8-a2e7-4966-ad9d-807a20329e48"
      },
      "outputs": [],
      "source": [
        "a, b = 'Max ', 'Mustermann'"
      ]
    },
    {
      "cell_type": "code",
      "execution_count": null,
      "id": "15882b5a-4c6c-4e6e-b082-1071b3a7006c",
      "metadata": {
        "id": "15882b5a-4c6c-4e6e-b082-1071b3a7006c"
      },
      "outputs": [],
      "source": [
        "a + b"
      ]
    },
    {
      "cell_type": "markdown",
      "id": "86a35881-fd66-4cce-be25-74e1b5ecad0f",
      "metadata": {
        "id": "86a35881-fd66-4cce-be25-74e1b5ecad0f"
      },
      "source": [
        "### Aufgabe: Wertpapier, Variablen <a class=\"anchor\" id=\"wertpapier_variablen\"></a>\n",
        "Definieren Sie Variablen für das Ersparte, welches Sie in einem festverzinslichen Wertpapier anlegen, den jährlichen Zinsatz, den Anlagezeitraum und den Auszahlungsbetrag nach Ablauf des Anlagezeitraums. Wie berechnen Sie den Auszahlungsbetrag nach Ablauf des Anlagezeitraums mithilfe der definierten Variablen? Was ist der Variablentyp für jede der definierten Variablen?"
      ]
    },
    {
      "cell_type": "code",
      "execution_count": null,
      "id": "040f6ac6-2e58-4b32-9d04-b6b5f44ec43b",
      "metadata": {
        "id": "040f6ac6-2e58-4b32-9d04-b6b5f44ec43b"
      },
      "outputs": [],
      "source": [
        "k0 = 100\n",
        "p = 0.05\n",
        "n = 5"
      ]
    },
    {
      "cell_type": "code",
      "source": [
        "kn = k0 * (1 + p) **n\n",
        "kn"
      ],
      "metadata": {
        "id": "6jmeSrVv5qdV"
      },
      "id": "6jmeSrVv5qdV",
      "execution_count": null,
      "outputs": []
    },
    {
      "cell_type": "markdown",
      "id": "27b31e24-49f0-43d5-815d-64528e821c2d",
      "metadata": {
        "id": "27b31e24-49f0-43d5-815d-64528e821c2d"
      },
      "source": [
        "### 5.2 Umwandlung von Variablen\n",
        "Mit den Funktionen `int(), float(), str()` und `bool()` lassen sich Variablen in die entsprechenden Typen umwandeln."
      ]
    },
    {
      "cell_type": "code",
      "execution_count": null,
      "id": "20d1e1a3-7dc4-4ecc-8744-e78f505f9f33",
      "metadata": {
        "id": "20d1e1a3-7dc4-4ecc-8744-e78f505f9f33"
      },
      "outputs": [],
      "source": [
        "a = 1"
      ]
    },
    {
      "cell_type": "code",
      "execution_count": null,
      "id": "daa0b76d-0cea-4cbf-a7a3-8ed3a0f94641",
      "metadata": {
        "id": "daa0b76d-0cea-4cbf-a7a3-8ed3a0f94641"
      },
      "outputs": [],
      "source": [
        "type(a)"
      ]
    },
    {
      "cell_type": "code",
      "execution_count": null,
      "id": "19525fb5-df35-4ac9-b526-733fdb5fd834",
      "metadata": {
        "id": "19525fb5-df35-4ac9-b526-733fdb5fd834"
      },
      "outputs": [],
      "source": [
        "str(1)"
      ]
    },
    {
      "cell_type": "code",
      "execution_count": null,
      "id": "b2c5f246-4618-439b-92b3-5433d0cfe460",
      "metadata": {
        "id": "b2c5f246-4618-439b-92b3-5433d0cfe460"
      },
      "outputs": [],
      "source": [
        "bool(1)"
      ]
    },
    {
      "cell_type": "code",
      "execution_count": null,
      "id": "553f90da-00c0-4e97-854f-7c7cd15782e0",
      "metadata": {
        "id": "553f90da-00c0-4e97-854f-7c7cd15782e0"
      },
      "outputs": [],
      "source": [
        "int('1')"
      ]
    },
    {
      "cell_type": "markdown",
      "id": "fe52714f-4370-466f-8a2a-9a0d3103f0e4",
      "metadata": {
        "id": "fe52714f-4370-466f-8a2a-9a0d3103f0e4"
      },
      "source": [
        "Mit sogeannten **f-strings** lassen sich u.a. Variablen in Strings integrieren."
      ]
    },
    {
      "cell_type": "code",
      "execution_count": null,
      "id": "f32eb941-c481-4160-b7d9-4b77c27c145b",
      "metadata": {
        "id": "f32eb941-c481-4160-b7d9-4b77c27c145b"
      },
      "outputs": [],
      "source": [
        "vorname = 'Max'\n",
        "nachname = 'Mustermann'"
      ]
    },
    {
      "cell_type": "code",
      "execution_count": null,
      "id": "e49c1de2-3d4f-470c-9f06-e3c7e51ca8c3",
      "metadata": {
        "id": "e49c1de2-3d4f-470c-9f06-e3c7e51ca8c3"
      },
      "outputs": [],
      "source": [
        "f\"Mein Vorname ist {vorname}. Mein Nachname ist {nachname}!\""
      ]
    },
    {
      "cell_type": "markdown",
      "id": "2b4d132c-27da-422b-9e9c-6d8aeac2a04a",
      "metadata": {
        "id": "2b4d132c-27da-422b-9e9c-6d8aeac2a04a"
      },
      "source": [
        "### Aufgabe: Wertpapier, Typumwandlung (f-string) <a class=\"anchor\" id=\"wertpapier_typ\"></a>\n",
        "Definieren Sie einen f-string, der folgende Informationen enthält:\n",
        "* eingezahlter Betrag\n",
        "* Laufzeit\n",
        "* Zinssatz\n",
        "* Auszahlungsbetrag nach Laufzeitende.\n",
        "\n",
        "Sie müssen dazu auf die vorher definierten Variablen zurückgreifen und diese in einen f-string integrieren."
      ]
    },
    {
      "cell_type": "code",
      "execution_count": null,
      "id": "18f1e7e6-948b-4fee-a823-6ed215d7aa59",
      "metadata": {
        "id": "18f1e7e6-948b-4fee-a823-6ed215d7aa59"
      },
      "outputs": [],
      "source": [
        "k0 = 100 \n",
        "n = 5\n",
        "p = 0.05"
      ]
    },
    {
      "cell_type": "code",
      "source": [
        "f\"Bei einem Einzahlungsbetrag von {k0}€, einem Zinssatz von {p}% und einer Laufzeit von {n} Jahren ist der Auszahlungsbetrag {k0*(1+p)**n}€!\" "
      ],
      "metadata": {
        "id": "jWsPmneR89SR"
      },
      "id": "jWsPmneR89SR",
      "execution_count": null,
      "outputs": []
    },
    {
      "cell_type": "markdown",
      "id": "c50f02a5-a28f-4e99-84b2-340b1308d2ea",
      "metadata": {
        "id": "c50f02a5-a28f-4e99-84b2-340b1308d2ea"
      },
      "source": [
        "Ein paar weitere Spielereien mit verschiedenen Variablentypen:"
      ]
    },
    {
      "cell_type": "code",
      "execution_count": null,
      "id": "0da73a7c-deac-440b-89d0-d01630de414a",
      "metadata": {
        "id": "0da73a7c-deac-440b-89d0-d01630de414a"
      },
      "outputs": [],
      "source": [
        "\"Die Zahl \" + str(3) + \" ist eine Primzahl.\""
      ]
    },
    {
      "cell_type": "code",
      "execution_count": null,
      "id": "08b05a22-863e-46b5-b861-c4dc4a9e476a",
      "metadata": {
        "id": "08b05a22-863e-46b5-b861-c4dc4a9e476a"
      },
      "outputs": [],
      "source": [
        "(\"w\" * 3) + \".kicker\" + \".de\""
      ]
    },
    {
      "cell_type": "code",
      "execution_count": null,
      "id": "fdecdc8c-d4e6-4e15-b2ac-f88619e049df",
      "metadata": {
        "id": "fdecdc8c-d4e6-4e15-b2ac-f88619e049df"
      },
      "outputs": [],
      "source": [
        "True + False + True"
      ]
    },
    {
      "cell_type": "markdown",
      "id": "df2684fc-73ff-49a6-8565-8eb77ef26c0a",
      "metadata": {
        "id": "df2684fc-73ff-49a6-8565-8eb77ef26c0a"
      },
      "source": [
        "## 5.3 Listen"
      ]
    },
    {
      "cell_type": "markdown",
      "id": "525f0e2e-d653-4a20-be33-f61cc060351e",
      "metadata": {
        "id": "525f0e2e-d653-4a20-be33-f61cc060351e"
      },
      "source": [
        "### Grundlagen zu Listen"
      ]
    },
    {
      "cell_type": "code",
      "execution_count": null,
      "id": "cb4585dc-cdd6-4c8c-9f4b-6634e0eac8ba",
      "metadata": {
        "id": "cb4585dc-cdd6-4c8c-9f4b-6634e0eac8ba"
      },
      "outputs": [],
      "source": [
        "vorname1 = 'Alex'\n",
        "vorname2 = 'Sina'\n",
        "vorname3 = 'Lars'\n",
        "vorname4 = 'Julia'"
      ]
    },
    {
      "cell_type": "code",
      "execution_count": null,
      "id": "5b1a5c35-d7f3-4ba8-b411-effcc858ec6e",
      "metadata": {
        "id": "5b1a5c35-d7f3-4ba8-b411-effcc858ec6e"
      },
      "outputs": [],
      "source": [
        "vornamen = ['Alex', 'Sina', 'Lars', 'Julia']\n",
        "vornamen"
      ]
    },
    {
      "cell_type": "code",
      "execution_count": null,
      "id": "a1b78362-8c55-4f0f-9019-a60602532259",
      "metadata": {
        "id": "a1b78362-8c55-4f0f-9019-a60602532259"
      },
      "outputs": [],
      "source": [
        "vorname1 = 'Dirk'"
      ]
    },
    {
      "cell_type": "code",
      "execution_count": null,
      "id": "8498a865-7511-458f-a538-e8fc4ef506ac",
      "metadata": {
        "id": "8498a865-7511-458f-a538-e8fc4ef506ac"
      },
      "outputs": [],
      "source": [
        "vornamen = [vorname1, vorname2, vorname3, vorname4]\n",
        "vornamen"
      ]
    },
    {
      "cell_type": "markdown",
      "id": "c01cd1d3-a58e-43c0-96ca-540fc9433eef",
      "metadata": {
        "id": "c01cd1d3-a58e-43c0-96ca-540fc9433eef"
      },
      "source": [
        "Mithilfe einer Liste können Sie Werte abspeichern. Dabei sind Sie nicht eingeschränkt, was den Variablentyp betrifft! "
      ]
    },
    {
      "cell_type": "code",
      "execution_count": null,
      "id": "9cb782db-8472-438e-8408-63b1bf1dcd26",
      "metadata": {
        "id": "9cb782db-8472-438e-8408-63b1bf1dcd26"
      },
      "outputs": [],
      "source": [
        "some_list = [True, False, vorname1, True]\n",
        "some_list"
      ]
    },
    {
      "cell_type": "markdown",
      "id": "cbfb9d86-669b-4b44-aac2-29538bcf930a",
      "metadata": {
        "id": "cbfb9d86-669b-4b44-aac2-29538bcf930a"
      },
      "source": [
        "**FRAGE:** Welcher Datentyp wird hier in der liste `dhbw` gespeichert?"
      ]
    },
    {
      "cell_type": "code",
      "execution_count": null,
      "id": "536affa2-776c-41cc-a321-4e7cf9b26aa2",
      "metadata": {
        "id": "536affa2-776c-41cc-a321-4e7cf9b26aa2"
      },
      "outputs": [],
      "source": [
        "dhbw = [\n",
        "        [vorname1, 'Prof'],\n",
        "        [vorname2, 'Studi'],\n",
        "        [vorname3, 'Studi'],\n",
        "        [vorname4, 'Studi']\n",
        "        ]\n",
        "dhbw"
      ]
    },
    {
      "cell_type": "markdown",
      "id": "8296df8f-34ff-4ae8-9a23-a66463baeff5",
      "metadata": {
        "id": "8296df8f-34ff-4ae8-9a23-a66463baeff5"
      },
      "source": [
        "### Aufgabe: Transportzeiten, Listen <a class=\"anchor\" id=\"transport_listen\"></a>\n",
        "Sie arbeiten für eine Spedition und haben die Transportzeiten (in Stunden) vom Zentrallager in Stuttgart zu verschiedenen Regionallagern berechnet. Aktuell haben Sie noch für jede Verbindung zwischen Zentral- und Regionallager eine eigene Variable definiert. Sie finden diese in der nachfolgenden Zelle."
      ]
    },
    {
      "cell_type": "code",
      "execution_count": null,
      "id": "94173924-456b-4824-a219-7f4b7d719ed5",
      "metadata": {
        "id": "94173924-456b-4824-a219-7f4b7d719ed5"
      },
      "outputs": [],
      "source": [
        "stuttgart_frankfurt = 2.5\n",
        "stuttgart_hamburg = 6\n",
        "stuttgart_muenchen = 3\n",
        "stuttgart_berlin = 7"
      ]
    },
    {
      "cell_type": "markdown",
      "id": "748079fe-52bd-4833-b5a5-b91a40f69288",
      "metadata": {
        "id": "748079fe-52bd-4833-b5a5-b91a40f69288"
      },
      "source": [
        "**Variante 1):** Erstellen Sie bitte eine Liste `transportzeiten`, deren Elemente die zuvor genannten Transportzeiten sind!"
      ]
    },
    {
      "cell_type": "code",
      "execution_count": null,
      "id": "66f18b13-0900-4944-9a7c-6b277ca23680",
      "metadata": {
        "id": "66f18b13-0900-4944-9a7c-6b277ca23680"
      },
      "outputs": [],
      "source": [
        "transportzeit = [stuttgart_frankfurt, stuttgart_hamburg, stuttgart_muenchen, stuttgart_berlin]\n",
        "transportzeit"
      ]
    },
    {
      "cell_type": "markdown",
      "id": "ceafb8ee-90b3-41e7-b8ed-91b06bfe5adb",
      "metadata": {
        "id": "ceafb8ee-90b3-41e7-b8ed-91b06bfe5adb"
      },
      "source": [
        "**Variante 2):** Erstellen Sie eine Liste mit Namen `transportzeiten`, die aus Listen besteht, welche als Eintragungen jeweils den Ort des Zentrallagers sowie die Transportzeit enthalten. "
      ]
    },
    {
      "cell_type": "code",
      "execution_count": null,
      "id": "f5137560-2b23-45af-8276-fec6f6a4289c",
      "metadata": {
        "id": "f5137560-2b23-45af-8276-fec6f6a4289c"
      },
      "outputs": [],
      "source": [
        "transportzeiten = [\n",
        "                   ['stuttgart_berlin', stuttgart_berlin],\n",
        "                   ['stuttgart_frankfurt', stuttgart_frankfurt],\n",
        "                   ['stuttgart_hamburg', stuttgart_hamburg],\n",
        "                   ['stuttgart_muenchen', stuttgart_muenchen]\n",
        "                   ]\n",
        "transportzeiten"
      ]
    },
    {
      "cell_type": "markdown",
      "id": "68db966a-95c7-4b86-8f13-199fb2a24e99",
      "metadata": {
        "id": "68db966a-95c7-4b86-8f13-199fb2a24e99"
      },
      "source": [
        "### Zugriff auf Elemente in einer Liste\n",
        "Einzelne Elemente in einer Liste werden über Indizes angesprochen. Das erste Elemente in einer Liste hat den Index `0`, das zweite Element den Index `1`, das dritte Element den Index `2`, usw."
      ]
    },
    {
      "cell_type": "code",
      "execution_count": null,
      "id": "703b4eb2-f7f1-4ff5-87fc-348aaf6a0752",
      "metadata": {
        "id": "703b4eb2-f7f1-4ff5-87fc-348aaf6a0752"
      },
      "outputs": [],
      "source": [
        "vornamen = ['Alex', 'Sina', 'Lars', 'Julia']"
      ]
    },
    {
      "cell_type": "code",
      "execution_count": null,
      "id": "314ba39d-92e2-4f56-8901-9e17c6053811",
      "metadata": {
        "id": "314ba39d-92e2-4f56-8901-9e17c6053811"
      },
      "outputs": [],
      "source": [
        "vornamen[3]"
      ]
    },
    {
      "cell_type": "code",
      "execution_count": null,
      "id": "c5f4b3f5-bd35-4fb1-9362-2710b47d8f35",
      "metadata": {
        "id": "c5f4b3f5-bd35-4fb1-9362-2710b47d8f35"
      },
      "outputs": [],
      "source": [
        "vornamen[0]"
      ]
    },
    {
      "cell_type": "code",
      "execution_count": null,
      "id": "ebedbdb1-6ec6-43ca-92a7-4e8870386c66",
      "metadata": {
        "id": "ebedbdb1-6ec6-43ca-92a7-4e8870386c66"
      },
      "outputs": [],
      "source": [
        "vornamen[-1]"
      ]
    },
    {
      "cell_type": "markdown",
      "id": "f814a565-8070-4b26-a24b-c41bad7f1ec1",
      "metadata": {
        "id": "f814a565-8070-4b26-a24b-c41bad7f1ec1"
      },
      "source": [
        "Mit \"**Slicing**\" können Sie mehrere Elemente einer Liste ansprechen!\n",
        "\n",
        "**Frage:** Was wird die Ausgabe des folgenden Befehls sein? Geben Sie im Zweifel den Code in einer Code-Zelle ein, um sich das Ergebnis anzusehen. Erkennen Sie die grundlegende Systematik beim Slicing, d.h. wofür steht die erste und die zweite Zahl in der eckigen Klammer?"
      ]
    },
    {
      "cell_type": "markdown",
      "id": "a1b543b6-4e6c-4a17-bac4-6bee37883cc6",
      "metadata": {
        "id": "a1b543b6-4e6c-4a17-bac4-6bee37883cc6"
      },
      "source": [
        "```Python\n",
        "vornamen[1:3]\n",
        "```"
      ]
    },
    {
      "cell_type": "code",
      "execution_count": null,
      "id": "95646b8e-8353-43ef-99d5-756b5967f86b",
      "metadata": {
        "id": "95646b8e-8353-43ef-99d5-756b5967f86b"
      },
      "outputs": [],
      "source": [
        "vornamen [1:3]"
      ]
    },
    {
      "cell_type": "markdown",
      "id": "a2c92078-02ae-4689-b56b-d7ccd2a1b8d6",
      "metadata": {
        "id": "a2c92078-02ae-4689-b56b-d7ccd2a1b8d6"
      },
      "source": [
        "**Frage:** Was ist das Ergebnis des folgenden Befehls?"
      ]
    },
    {
      "cell_type": "markdown",
      "id": "300b9519-eca0-4c24-b9b7-092d78033722",
      "metadata": {
        "id": "300b9519-eca0-4c24-b9b7-092d78033722"
      },
      "source": [
        "```Python\n",
        "vornamen[1:]\n",
        "```"
      ]
    },
    {
      "cell_type": "code",
      "execution_count": null,
      "id": "0c432368-8200-47c6-9044-19a1d945e7c6",
      "metadata": {
        "id": "0c432368-8200-47c6-9044-19a1d945e7c6"
      },
      "outputs": [],
      "source": [
        "vornamen [1:]"
      ]
    },
    {
      "cell_type": "markdown",
      "id": "1951f764-ecb4-4545-bf06-fe4c0194aaea",
      "metadata": {
        "id": "1951f764-ecb4-4545-bf06-fe4c0194aaea"
      },
      "source": [
        "**Frage:** Was ist das Ergebnis des folgenden Befehls?"
      ]
    },
    {
      "cell_type": "markdown",
      "id": "da995d99-22ac-4cc2-9222-180d990a6456",
      "metadata": {
        "id": "da995d99-22ac-4cc2-9222-180d990a6456"
      },
      "source": [
        "```Python\n",
        "vornamen[:2]\n",
        "```"
      ]
    },
    {
      "cell_type": "code",
      "source": [
        "vornamen [:2]"
      ],
      "metadata": {
        "id": "vpLsEij_FuRB"
      },
      "id": "vpLsEij_FuRB",
      "execution_count": null,
      "outputs": []
    },
    {
      "cell_type": "markdown",
      "id": "c9c22aab-0a36-4b17-af82-360d78ebc0bc",
      "metadata": {
        "id": "c9c22aab-0a36-4b17-af82-360d78ebc0bc"
      },
      "source": [
        "**Frage:**\n",
        "Sie erinnern sich an die Liste von zuvor mit dem Namen `dhbw`. Was passiert, wenn sie einzelne oder mehrere der Elemente aus der Liste über Slicing ansprechen? Schauen Sie sich die Beispiele unten an und erläutern Sie die Funktionsweise!"
      ]
    },
    {
      "cell_type": "code",
      "execution_count": null,
      "id": "dd2efbb8-f6d6-456a-bb94-9294b1eb96cc",
      "metadata": {
        "id": "dd2efbb8-f6d6-456a-bb94-9294b1eb96cc"
      },
      "outputs": [],
      "source": [
        "dhbw"
      ]
    },
    {
      "cell_type": "code",
      "execution_count": null,
      "id": "022306bf-6d40-4563-b4d4-011802ae0973",
      "metadata": {
        "id": "022306bf-6d40-4563-b4d4-011802ae0973"
      },
      "outputs": [],
      "source": [
        "dhbw[0]"
      ]
    },
    {
      "cell_type": "code",
      "execution_count": null,
      "id": "45a9eedc-efee-44e2-ad7c-daf5f83c4373",
      "metadata": {
        "id": "45a9eedc-efee-44e2-ad7c-daf5f83c4373"
      },
      "outputs": [],
      "source": [
        "dhbw[1][0]"
      ]
    },
    {
      "cell_type": "markdown",
      "id": "c0a0899f-a65b-44c6-a88b-00bf6830c767",
      "metadata": {
        "id": "c0a0899f-a65b-44c6-a88b-00bf6830c767"
      },
      "source": [
        "### Veränderung von Elementen in einer Liste"
      ]
    },
    {
      "cell_type": "markdown",
      "id": "be48052c-130c-45c9-9ee9-b73a238eea4a",
      "metadata": {
        "id": "be48052c-130c-45c9-9ee9-b73a238eea4a"
      },
      "source": [
        "#### Veränderung bestehender Listenelemente"
      ]
    },
    {
      "cell_type": "code",
      "execution_count": null,
      "id": "d181a1d0-bcd0-4e31-a22b-c9e63de98f69",
      "metadata": {
        "id": "d181a1d0-bcd0-4e31-a22b-c9e63de98f69"
      },
      "outputs": [],
      "source": [
        "noten = ['Alex', 3.5, 'Julian', 1.0, 'Lars', 1.5]\n",
        "noten"
      ]
    },
    {
      "cell_type": "code",
      "execution_count": null,
      "id": "101a8088-5e0c-4aac-b64f-eb804373b930",
      "metadata": {
        "id": "101a8088-5e0c-4aac-b64f-eb804373b930"
      },
      "outputs": [],
      "source": [
        "noten[1] = 4.0\n",
        "noten"
      ]
    },
    {
      "cell_type": "code",
      "execution_count": null,
      "id": "00c5b569-926a-428d-8e7e-1e9ab821123b",
      "metadata": {
        "id": "00c5b569-926a-428d-8e7e-1e9ab821123b"
      },
      "outputs": [],
      "source": [
        "noten[2:4] = ['Julia', 1.2]\n",
        "noten"
      ]
    },
    {
      "cell_type": "markdown",
      "id": "3d82c262-ce48-4e0e-ac2f-06271238c51f",
      "metadata": {
        "id": "3d82c262-ce48-4e0e-ac2f-06271238c51f"
      },
      "source": [
        "**Frage:** Der Student `Alex` durfte eine Nachprüfung machen, die allerdings auch nur mit 3,5 bewertet wurde - nur ein wenig besser als die ursprüngliche Note 4,0. Die neue finale Note ist nun der Durchschnitt beider Noten. Wie ist nun der Listeneintrag für den Studenten `Alex` zu aktualisieren?"
      ]
    },
    {
      "cell_type": "code",
      "source": [
        "# Variante 1\n",
        "noten[1] = (3.5+4.0)/2\n",
        "\n",
        "# Variante 2\n",
        "noten[1] = (noten[1]+4.0)/2"
      ],
      "metadata": {
        "id": "Jqgpol9FMgwE"
      },
      "id": "Jqgpol9FMgwE",
      "execution_count": null,
      "outputs": []
    },
    {
      "cell_type": "code",
      "source": [
        "noten"
      ],
      "metadata": {
        "id": "VLXd94-WOe2c"
      },
      "id": "VLXd94-WOe2c",
      "execution_count": null,
      "outputs": []
    },
    {
      "cell_type": "markdown",
      "id": "96353df9-e27c-4fff-8792-eb33fac3561d",
      "metadata": {
        "id": "96353df9-e27c-4fff-8792-eb33fac3561d"
      },
      "source": [
        "#### Hinzufügen und Löschen von Listenelementen"
      ]
    },
    {
      "cell_type": "markdown",
      "id": "ce4d370b-f58b-434a-864f-5230630864f9",
      "metadata": {
        "id": "ce4d370b-f58b-434a-864f-5230630864f9"
      },
      "source": [
        "Hinzufügen von Elementen zu einer Liste gelingt mit dem Operator `+`:"
      ]
    },
    {
      "cell_type": "code",
      "execution_count": null,
      "id": "8605d7b2-5a0c-47cf-9531-703cfc517347",
      "metadata": {
        "id": "8605d7b2-5a0c-47cf-9531-703cfc517347"
      },
      "outputs": [],
      "source": [
        "# Hier werden zwei Listen 'noten' und '['Paul', 2.1]' zu einer Liste zusammengefügt\n",
        "noten = noten + ['Paul', 2.1]\n",
        "noten"
      ]
    },
    {
      "cell_type": "markdown",
      "id": "98ebf2df-9a43-4233-8d99-9153404d97e1",
      "metadata": {
        "id": "98ebf2df-9a43-4233-8d99-9153404d97e1"
      },
      "source": [
        "Hinzufügen von Elementen zu einer Liste mit der Methode `append()`:"
      ]
    },
    {
      "cell_type": "code",
      "execution_count": null,
      "id": "75f8aede-ca83-4859-9546-634f47d7b14e",
      "metadata": {
        "id": "75f8aede-ca83-4859-9546-634f47d7b14e"
      },
      "outputs": [],
      "source": [
        "# Mit append werden der Liste einzelne Elemente hinzugefügt\n",
        "noten.append('Sara')\n",
        "noten.append('1.25')\n",
        "noten"
      ]
    },
    {
      "cell_type": "markdown",
      "id": "e50a277b-574e-442d-a693-268dc046e503",
      "metadata": {
        "id": "e50a277b-574e-442d-a693-268dc046e503"
      },
      "source": [
        "Elemente einer Liste werden über den Befehl `del` gelöscht.\n",
        "\n",
        "**Frage:** Welche Elemente der Liste `noten` wird mit dem nachfolgendem Befehl gelöscht?"
      ]
    },
    {
      "cell_type": "markdown",
      "id": "1f4e2c0f-f07e-4a9d-9241-1d171367f3c1",
      "metadata": {
        "id": "1f4e2c0f-f07e-4a9d-9241-1d171367f3c1"
      },
      "source": [
        "```Python \n",
        "del(noten[-2:])\n",
        "```"
      ]
    },
    {
      "cell_type": "code",
      "execution_count": null,
      "id": "dd917f76-c6cf-48e8-9e8e-f56b78cebdc5",
      "metadata": {
        "id": "dd917f76-c6cf-48e8-9e8e-f56b78cebdc5"
      },
      "outputs": [],
      "source": [
        "del(noten[-2:])\n",
        "noten"
      ]
    },
    {
      "cell_type": "markdown",
      "id": "599960bc-ea9b-4374-8ed5-fa11ed160e68",
      "metadata": {
        "id": "599960bc-ea9b-4374-8ed5-fa11ed160e68"
      },
      "source": [
        "### Aufgabe: Transportzeiten, Listenmanipulation <a class=\"anchor\" id=\"transport_listen_manipulation\"></a>\n",
        "Sie haben bereits intensiv an einer Liste gearbeitet, die die Transportzeiten vom Zentrallager in Stuttgart zu den verschiedenen Regionallagern beinhaltet. Diese Liste finden Sie nachfolgend:"
      ]
    },
    {
      "cell_type": "code",
      "execution_count": null,
      "id": "cd856893-a5ae-446c-9a4a-cd987525269e",
      "metadata": {
        "id": "cd856893-a5ae-446c-9a4a-cd987525269e"
      },
      "outputs": [],
      "source": [
        "transportzeiten = [['frankfurt', 2.5],\n",
        "                   ['hamburg', 6.0],\n",
        "                   ['muenchen', 3.0],\n",
        "                   ['berlin',7.0]\n",
        "                  ]"
      ]
    },
    {
      "cell_type": "markdown",
      "id": "f3bdbe94-e55b-4faf-8299-a9cce1e2b407",
      "metadata": {
        "id": "f3bdbe94-e55b-4faf-8299-a9cce1e2b407"
      },
      "source": [
        "Bitte ergänzen Sie die folgenden Sachverhalte:\n",
        "* Die Transportzeit von Stuttgart nach Berlin hat sich von `7.0` auf `7.5` geändert.\n",
        "* Das Regionallager Hamburg wurde abgemietet und ist aus der Liste zu löschen.\n",
        "* Stattdessen wurden in Bremen sowie Hannover zwei neue Regionallager angemietet. Die Transportzeit von Stuttgart nach Bremen beträgt `6.0` von Stuttgart nach Hannover `4.5` Stunden. Bitte ergänzen Sie die Liste der Transportzeiten entsprechend.\n",
        "* Die Transportzeiten sollen nun nicht mehr in Stunden, sondern in Minuten dargestellt werden."
      ]
    },
    {
      "cell_type": "code",
      "source": [
        "# Variante 1\n",
        "transportzeiten[3] = ['berlin', 7.5]\n",
        "transportzeiten"
      ],
      "metadata": {
        "id": "eWBGcN2WPspI"
      },
      "execution_count": null,
      "outputs": [],
      "id": "eWBGcN2WPspI"
    },
    {
      "cell_type": "code",
      "source": [
        "# Variante 2\n",
        "transportzeiten[3][1] = 7.5\n",
        "transportzeiten"
      ],
      "metadata": {
        "id": "74ltOq_rt9OW"
      },
      "execution_count": null,
      "outputs": [],
      "id": "74ltOq_rt9OW"
    },
    {
      "cell_type": "code",
      "source": [
        "del (transportzeiten[1])\n",
        "transportzeiten"
      ],
      "metadata": {
        "id": "u_u_YyW4Qm_c"
      },
      "execution_count": null,
      "outputs": [],
      "id": "u_u_YyW4Qm_c"
    },
    {
      "cell_type": "code",
      "source": [
        "transportzeiten = transportzeiten + [['Bremen', 6.0]] + [['Hannover', 4.5]]\n",
        "transportzeiten"
      ],
      "metadata": {
        "id": "R5VvIR6rSsRN"
      },
      "execution_count": null,
      "outputs": [],
      "id": "R5VvIR6rSsRN"
    },
    {
      "cell_type": "code",
      "source": [
        "# Umrechnung in Minuten am Beispiel Frankfurt\n",
        "transportzeiten [0][1] = transportzeiten [0][1]*60\n",
        "transportzeiten"
      ],
      "metadata": {
        "id": "5zqy2DzUUTXr"
      },
      "execution_count": null,
      "outputs": [],
      "id": "5zqy2DzUUTXr"
    },
    {
      "cell_type": "markdown",
      "id": "52d8b8f3-9387-42d3-a954-bfb9f096dd05",
      "metadata": {
        "id": "52d8b8f3-9387-42d3-a954-bfb9f096dd05"
      },
      "source": [
        "# 6. Funktionen <a class=\"anchor\" id=\"funktionen\"></a>"
      ]
    },
    {
      "cell_type": "markdown",
      "id": "f45e1cd2-cf8b-4d48-bcaa-7f1640044f8e",
      "metadata": {
        "id": "f45e1cd2-cf8b-4d48-bcaa-7f1640044f8e"
      },
      "source": [
        "### 6.1 Built-in Funktionen\n",
        "Funktionen sind Ihnen bereits aus den vorherigen Ausführungen bekannt. Wenn Sie den Aufruf `int(x)` machen, bedeutet dies nichts anderes als dass Sie die **Funktion** `int` aufrufen. Im Notebook können Sie sich sogar direkt die Dokumentation zur Funktion aufrufen. Bei Funktionen wie `int` handelt es sich um sogenannte \"Built-in Funktionen\", die Python standardmäßig zur Verfügung stellt."
      ]
    },
    {
      "cell_type": "code",
      "execution_count": null,
      "id": "3c897c6d-ed5c-4885-b870-9d36d4538c14",
      "metadata": {
        "id": "3c897c6d-ed5c-4885-b870-9d36d4538c14"
      },
      "outputs": [],
      "source": [
        "??int"
      ]
    },
    {
      "cell_type": "markdown",
      "id": "d3a8cefc-b264-45b4-9216-a655920400e7",
      "metadata": {
        "id": "d3a8cefc-b264-45b4-9216-a655920400e7"
      },
      "source": [
        "Vereinfacht gesagt sind Funktionen wiederverwertbarer Code, der eine spezielle Aufgabe löst. Greifen Sie wenn möglich immer auf Funktionen zurück und sparen Sie sich das Schreiben von eigenem Code.\n",
        "\n",
        "**Beispiel**: Sie haben eine Liste von Zahlen und wollen die größte Zahl in der Liste ermitteln. "
      ]
    },
    {
      "cell_type": "code",
      "execution_count": null,
      "id": "b0a82ff3-fcec-450e-8615-b1c75141a9c4",
      "metadata": {
        "id": "b0a82ff3-fcec-450e-8615-b1c75141a9c4"
      },
      "outputs": [],
      "source": [
        "x = [20.25, 30.0, 40.758, 10.98, 15.66, 50.001, 45.01, 20.89]"
      ]
    },
    {
      "cell_type": "code",
      "execution_count": null,
      "id": "33f27428-769a-437a-aa86-7095b5b943e9",
      "metadata": {
        "id": "33f27428-769a-437a-aa86-7095b5b943e9"
      },
      "outputs": [],
      "source": [
        "max(x)"
      ]
    },
    {
      "cell_type": "code",
      "execution_count": null,
      "id": "6f1271d1-dc01-4b26-a52b-ee8db38b923b",
      "metadata": {
        "id": "6f1271d1-dc01-4b26-a52b-ee8db38b923b"
      },
      "outputs": [],
      "source": [
        "kleinste_zahl = min(x)\n",
        "kleinste_zahl"
      ]
    },
    {
      "cell_type": "code",
      "execution_count": null,
      "id": "2eb4e338-0d57-4981-94de-c66d05e2c9d5",
      "metadata": {
        "id": "2eb4e338-0d57-4981-94de-c66d05e2c9d5"
      },
      "outputs": [],
      "source": [
        "round(x[2]), round(x[2],1), round(x[2],2)"
      ]
    },
    {
      "cell_type": "code",
      "execution_count": null,
      "id": "288406b1-0415-4586-8305-b8ab2567e7a7",
      "metadata": {
        "id": "288406b1-0415-4586-8305-b8ab2567e7a7"
      },
      "outputs": [],
      "source": [
        "??round"
      ]
    },
    {
      "cell_type": "markdown",
      "id": "46f646a1-0750-43ee-813c-189a40b954f9",
      "metadata": {
        "id": "46f646a1-0750-43ee-813c-189a40b954f9"
      },
      "source": [
        "Wenn Sie keinen Wert für `ndigits` angeben, wird auf eine ganze Zahl gerundet. Dies können Sie im erklärenden Text lesen. Sie können das Argument `ndigits` auch im Aufruf der Funktion angeben - allerdings müssen Sie dies nicht tun wie oben zu sehen. Es handelt sich also um ein optionales Argument der Funktion."
      ]
    },
    {
      "cell_type": "code",
      "execution_count": null,
      "id": "eac1ce0d-969c-4002-aaa3-4f1b5343514a",
      "metadata": {
        "id": "eac1ce0d-969c-4002-aaa3-4f1b5343514a"
      },
      "outputs": [],
      "source": [
        "round(1.26, ndigits=2)"
      ]
    },
    {
      "cell_type": "markdown",
      "id": "57c66cc8-5a92-4cde-9232-47d776ac1090",
      "metadata": {
        "id": "57c66cc8-5a92-4cde-9232-47d776ac1090"
      },
      "source": [
        "#### Übersicht zu Standardfunktionen in Python: https://www.w3schools.com/python/python_ref_functions.asp"
      ]
    },
    {
      "cell_type": "markdown",
      "id": "6ac952e3-17e3-4f94-bfd2-82ccab806faa",
      "metadata": {
        "id": "6ac952e3-17e3-4f94-bfd2-82ccab806faa"
      },
      "source": [
        "**Frage:** Welche Aufgabe hat die Funktion `len`?"
      ]
    },
    {
      "cell_type": "code",
      "execution_count": null,
      "id": "d8fd1e2f-6517-4564-915c-c204d3e90a3a",
      "metadata": {
        "id": "d8fd1e2f-6517-4564-915c-c204d3e90a3a"
      },
      "outputs": [],
      "source": [
        "len(x)"
      ]
    },
    {
      "cell_type": "markdown",
      "id": "4a3848a5-ac41-4316-a3fb-7a22995aee59",
      "metadata": {
        "id": "4a3848a5-ac41-4316-a3fb-7a22995aee59"
      },
      "source": [
        "**Frage:** Welche Aufgabe hat die Funktion `sorted`?"
      ]
    },
    {
      "cell_type": "code",
      "execution_count": null,
      "id": "5a151a90-189c-4a56-894b-984d69c8ada3",
      "metadata": {
        "id": "5a151a90-189c-4a56-894b-984d69c8ada3"
      },
      "outputs": [],
      "source": [
        "sorted(x)"
      ]
    },
    {
      "cell_type": "markdown",
      "id": "26130936-ecfd-487a-a23d-3911105c10a6",
      "metadata": {
        "id": "26130936-ecfd-487a-a23d-3911105c10a6"
      },
      "source": [
        "**Frage:** Welche weiteren Argumente hat die Funktion `sorted`? Wie kann die Liste absteigend sortiert werden? Speichern Sie die absteigend sortierte Liste in einer neuen Variablen!"
      ]
    },
    {
      "cell_type": "code",
      "execution_count": null,
      "id": "a2e02ebe-c33b-436d-a40b-6827f010ea8f",
      "metadata": {
        "id": "a2e02ebe-c33b-436d-a40b-6827f010ea8f"
      },
      "outputs": [],
      "source": [
        "sorted(x, reverse=True)"
      ]
    },
    {
      "cell_type": "markdown",
      "id": "1cbd4565-93eb-4878-b406-34de58a71aa2",
      "metadata": {
        "id": "1cbd4565-93eb-4878-b406-34de58a71aa2"
      },
      "source": [
        "### 6.2 Methoden\n",
        "Alle Variablen, die wir in diesem Notebook erstellt haben, sind in Python \"Objekte\". Objekte haben einen bestimmten Typ, z.B. `list`, `str`, `float`, etc. Für jeden Typ stehen verschiedene Methoden bereit."
      ]
    },
    {
      "cell_type": "markdown",
      "id": "a336f891-9f8c-463e-9243-0b6bd280ae1d",
      "metadata": {
        "id": "a336f891-9f8c-463e-9243-0b6bd280ae1d"
      },
      "source": [
        "#### Methoden für Listen"
      ]
    },
    {
      "cell_type": "code",
      "execution_count": null,
      "id": "4dd42b9a-bb95-4b91-9d0f-c94f45147029",
      "metadata": {
        "id": "4dd42b9a-bb95-4b91-9d0f-c94f45147029"
      },
      "outputs": [],
      "source": [
        "vornamen"
      ]
    },
    {
      "cell_type": "code",
      "execution_count": null,
      "id": "d2ba8fae-ee0d-4055-a83d-2f2f05e74370",
      "metadata": {
        "id": "d2ba8fae-ee0d-4055-a83d-2f2f05e74370"
      },
      "outputs": [],
      "source": [
        "vornamen.index('Sina') # Die Methode index() wird auf die Liste vornamen angewendet"
      ]
    },
    {
      "cell_type": "code",
      "execution_count": null,
      "id": "de974655-500b-4787-a75c-b2adf4353411",
      "metadata": {
        "id": "de974655-500b-4787-a75c-b2adf4353411"
      },
      "outputs": [],
      "source": [
        "vornamen[vornamen.index('Sina')]"
      ]
    },
    {
      "cell_type": "code",
      "source": [
        "vornamen.append('Julia')"
      ],
      "metadata": {
        "id": "m_6De95xushP"
      },
      "id": "m_6De95xushP",
      "execution_count": null,
      "outputs": []
    },
    {
      "cell_type": "code",
      "execution_count": null,
      "id": "8abc2a04-9431-439b-bd98-220d1e7fa787",
      "metadata": {
        "id": "8abc2a04-9431-439b-bd98-220d1e7fa787"
      },
      "outputs": [],
      "source": [
        "vornamen.count('Julia')"
      ]
    },
    {
      "cell_type": "markdown",
      "id": "1dd58835-d48e-4d64-a080-5d80ba5f5fb6",
      "metadata": {
        "id": "1dd58835-d48e-4d64-a080-5d80ba5f5fb6"
      },
      "source": [
        "#### Methoden für Strings"
      ]
    },
    {
      "cell_type": "code",
      "execution_count": null,
      "id": "f37b6092-c547-4a3e-81a3-b61dc09c1930",
      "metadata": {
        "id": "f37b6092-c547-4a3e-81a3-b61dc09c1930"
      },
      "outputs": [],
      "source": [
        "vorname = 'alex'\n",
        "vorname.capitalize()"
      ]
    },
    {
      "cell_type": "code",
      "execution_count": null,
      "id": "9db4a42e-0cba-4308-8bb7-55bce28d1356",
      "metadata": {
        "id": "9db4a42e-0cba-4308-8bb7-55bce28d1356"
      },
      "outputs": [],
      "source": [
        "'alex'.capitalize()"
      ]
    },
    {
      "cell_type": "code",
      "execution_count": null,
      "id": "4aecc953-a12e-4728-bbf9-50b2d3997175",
      "metadata": {
        "id": "4aecc953-a12e-4728-bbf9-50b2d3997175"
      },
      "outputs": [],
      "source": [
        "vorname.upper()"
      ]
    },
    {
      "cell_type": "code",
      "execution_count": null,
      "id": "1767e6f0-8540-4d12-a2c4-b38f0f7764da",
      "metadata": {
        "id": "1767e6f0-8540-4d12-a2c4-b38f0f7764da"
      },
      "outputs": [],
      "source": [
        "vorname.replace('a','Ro')"
      ]
    },
    {
      "cell_type": "markdown",
      "id": "84de82bf-8d9c-452c-91ea-4a7ce202c04c",
      "metadata": {
        "id": "84de82bf-8d9c-452c-91ea-4a7ce202c04c"
      },
      "source": [
        "# 7. Packages <a class=\"anchor\" id=\"package\"></a>\n",
        "Bisher haben Sie ausschließlich mit sogenannten Built-in Funktionen gearbeitet, die in Ihrer Python-Distribution standardmäßig enthalten sind. Es besteht nun einerseits die Möglichkeit weitere Bibliotheken - **Packages** - direkt aus der Python-Distribution zu laden und andererseits zusätzliche externe Bibliotheken zu installieren. Von letzteren gibt es tausende, die zur Lösung spezifischer Aufgaben geeignet sind."
      ]
    },
    {
      "cell_type": "markdown",
      "id": "bd9cf612-2b3e-4de8-95c7-00d8c257ff7a",
      "metadata": {
        "id": "bd9cf612-2b3e-4de8-95c7-00d8c257ff7a"
      },
      "source": [
        "#### Import vorhandenes Package"
      ]
    },
    {
      "cell_type": "code",
      "execution_count": null,
      "id": "6fe584b0-ffd7-4c3e-8120-b09e3870d214",
      "metadata": {
        "id": "6fe584b0-ffd7-4c3e-8120-b09e3870d214"
      },
      "outputs": [],
      "source": [
        "# Import der gesamten Bibliothek \"math\" mit allen Funktionen\n",
        "import math"
      ]
    },
    {
      "cell_type": "code",
      "execution_count": null,
      "id": "0c9ce535-63eb-4597-a1da-38031155e42e",
      "metadata": {
        "id": "0c9ce535-63eb-4597-a1da-38031155e42e"
      },
      "outputs": [],
      "source": [
        "math.ceil(2.3), math.floor(2.8)"
      ]
    },
    {
      "cell_type": "code",
      "execution_count": null,
      "id": "987e2cae-e063-4784-9b5f-041cc359ccd6",
      "metadata": {
        "id": "987e2cae-e063-4784-9b5f-041cc359ccd6"
      },
      "outputs": [],
      "source": [
        "# Import der Funktion \"ceil\" aus der Bibliothek \"math\"\n",
        "from math import ceil"
      ]
    },
    {
      "cell_type": "code",
      "execution_count": null,
      "id": "47cfd6fb-9a8f-43be-893c-0e2114c95363",
      "metadata": {
        "id": "47cfd6fb-9a8f-43be-893c-0e2114c95363"
      },
      "outputs": [],
      "source": [
        "ceil(2.3)"
      ]
    },
    {
      "cell_type": "markdown",
      "id": "9fc1a5c9-74c4-4352-a5a0-c235d05915a1",
      "metadata": {
        "id": "9fc1a5c9-74c4-4352-a5a0-c235d05915a1"
      },
      "source": [
        "#### Installation und Import externes Packages\n",
        "Sie benötigen zu allererst ein Installationsprogramm. Geläufig ist beispielsweise `pip`. In der vorliegenden Arbeitsumgebung ist `pip` bereits installiert. Für den Fall, dass Sie das Programm zunächst installieren müssen, hilft Ihnen die Installationsanleitung unter folgendem [Link](https://pip.pypa.io/en/stable/installation/#). "
      ]
    },
    {
      "cell_type": "markdown",
      "id": "8bca6709-6959-46cd-a603-fb396d5a9668",
      "metadata": {
        "id": "8bca6709-6959-46cd-a603-fb396d5a9668"
      },
      "source": [
        "Die Installation eines neuen Packages in einem Jupyter Notebook geht wie folgt (Bsp. Installation der Bibliothek `numpy`):\n",
        "* `!` für den Zugriff auf das Terminal\n",
        "* `pip3` zur Verwendung des Installationsprogramms `pip` in Verbindung mit der Python Version `3`\n",
        "* `install <package name>` Installation des gewünschten Packages"
      ]
    },
    {
      "cell_type": "code",
      "execution_count": null,
      "id": "20786b66-44df-49ce-9d42-c1eadd4f25a6",
      "metadata": {
        "id": "20786b66-44df-49ce-9d42-c1eadd4f25a6"
      },
      "outputs": [],
      "source": [
        "! pip3 install numpy"
      ]
    },
    {
      "cell_type": "code",
      "execution_count": null,
      "id": "c601cb1f-be17-4131-bba0-ceaa8155cf47",
      "metadata": {
        "id": "c601cb1f-be17-4131-bba0-ceaa8155cf47"
      },
      "outputs": [],
      "source": [
        "import numpy"
      ]
    },
    {
      "cell_type": "markdown",
      "id": "3b0a4cc1-d312-40e1-9571-64aae757d9bb",
      "metadata": {
        "id": "3b0a4cc1-d312-40e1-9571-64aae757d9bb"
      },
      "source": [
        "Für einige Packages ist die Verwendung von Abkürzungen beim Import üblich. Dies erleichtert die Verwendung im Code. Generell sind Sie frei in der Benennung von Packages beim Import."
      ]
    },
    {
      "cell_type": "code",
      "execution_count": null,
      "id": "29327627-2b81-498d-a01e-4e5812e5b198",
      "metadata": {
        "id": "29327627-2b81-498d-a01e-4e5812e5b198"
      },
      "outputs": [],
      "source": [
        "import numpy as np"
      ]
    },
    {
      "cell_type": "code",
      "execution_count": null,
      "id": "5fa96542-a70d-474b-bf5e-1151c9252024",
      "metadata": {
        "id": "5fa96542-a70d-474b-bf5e-1151c9252024"
      },
      "outputs": [],
      "source": [
        "np.array([1,2,3,4,5])"
      ]
    },
    {
      "cell_type": "markdown",
      "id": "53fb4d77-45bd-4552-bda8-da9ac0c1f09d",
      "metadata": {
        "id": "53fb4d77-45bd-4552-bda8-da9ac0c1f09d"
      },
      "source": [
        "### Aufgabe: Transportzeiten, Packages & Funktionen <a class=\"anchor\" id=\"transport_package\"></a>\n",
        "Installieren Sie bitte das Package `pandas`. Importieren Sie das Package mit dem Namen `pd`. Als nächstes importieren Sie bitte das Package `math`. Nutzen Sie Funktion `ceil`, um die Transportzeiten jeweils auf eine Nachkommastelle zu runden. Übergeben Sie anschließend die Liste `transportzeiten` als Argument an die `pandas`\n",
        " Funktion `DataFrame`. Was ist das Ergebnis? Wie wird die Liste mit ihren Elementen umgewandelt?"
      ]
    },
    {
      "cell_type": "code",
      "execution_count": null,
      "id": "7034b9cc-ac7e-49f9-bfe1-11ee03610155",
      "metadata": {
        "id": "7034b9cc-ac7e-49f9-bfe1-11ee03610155"
      },
      "outputs": [],
      "source": [
        "# Hier die leicht angepasste Liste mit den Transportzeiten\n",
        "transportzeiten = [['frankfurt', 2.5],\n",
        "                   ['hamburg', 6.25],\n",
        "                   ['muenchen', 3.36],\n",
        "                   ['berlin',7.125]\n",
        "                  ]"
      ]
    },
    {
      "cell_type": "code",
      "execution_count": null,
      "id": "613d6e56-21c4-4662-b2f6-347ede2c893a",
      "metadata": {
        "id": "613d6e56-21c4-4662-b2f6-347ede2c893a"
      },
      "outputs": [],
      "source": [
        ""
      ]
    },
    {
      "cell_type": "markdown",
      "id": "8e71f09a-c306-4d3d-bc4f-e16f894840af",
      "metadata": {
        "id": "8e71f09a-c306-4d3d-bc4f-e16f894840af"
      },
      "source": [
        "**Bonusfrage:** Wie können Sie die Spaltennamen ändern, sodass die erste Spalte den Namen \"Regionallager\" und die zweite Spalte den Namen \"Transportzeit\" hat."
      ]
    },
    {
      "cell_type": "code",
      "execution_count": null,
      "id": "416c1234-7ddc-413d-8b43-42c3eabaa8cb",
      "metadata": {
        "id": "416c1234-7ddc-413d-8b43-42c3eabaa8cb"
      },
      "outputs": [],
      "source": [
        ""
      ]
    }
  ],
  "metadata": {
    "kernelspec": {
      "display_name": "Python 3 (ipykernel)",
      "language": "python",
      "name": "python3"
    },
    "language_info": {
      "codemirror_mode": {
        "name": "ipython",
        "version": 3
      },
      "file_extension": ".py",
      "mimetype": "text/x-python",
      "name": "python",
      "nbconvert_exporter": "python",
      "pygments_lexer": "ipython3",
      "version": "3.8.5"
    },
    "colab": {
      "name": "Python_Basics.ipynb",
      "provenance": [],
      "collapsed_sections": [
        "a6534eb9-fc62-402d-9447-8cdbd02c550a",
        "3f5c074c-a0ce-4cd4-b0e2-59a881c326be",
        "157694f7-cc58-4742-8f9c-04dde32d0e4f",
        "2c758949-f662-49b8-8b19-07f1253a6da8",
        "a3924f95-f00a-493f-8176-8cfcd6602b63",
        "288bd9d1-77b7-4470-874c-9f2d2667a212",
        "6a8dc200-7794-44f5-8bdc-79182563661b",
        "e53f7985-b889-4590-b115-521b1b48a4a3",
        "159f8480-78d7-4d33-8cc9-5fc0d9943bf4",
        "86a35881-fd66-4cce-be25-74e1b5ecad0f",
        "519870f3-1dfc-4c48-b88a-c4fe25e40354",
        "8e0ef55f-54fa-4038-8542-010012f735ba",
        "bd9cf612-2b3e-4de8-95c7-00d8c257ff7a",
        "9fc1a5c9-74c4-4352-a5a0-c235d05915a1",
        "53fb4d77-45bd-4552-bda8-da9ac0c1f09d"
      ],
      "include_colab_link": true
    }
  },
  "nbformat": 4,
  "nbformat_minor": 5
}