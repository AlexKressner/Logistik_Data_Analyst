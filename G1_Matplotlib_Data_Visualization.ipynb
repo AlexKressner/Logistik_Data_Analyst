{
  "cells": [
    {
      "cell_type": "markdown",
      "metadata": {
        "id": "view-in-github",
        "colab_type": "text"
      },
      "source": [
        "<a href=\"https://colab.research.google.com/github/AlexKressner/Logistik_Data_Analyst/blob/main/G1_Matplotlib_Data_Visualization.ipynb\" target=\"_parent\"><img src=\"https://colab.research.google.com/assets/colab-badge.svg\" alt=\"Open In Colab\"/></a>"
      ]
    },
    {
      "cell_type": "markdown",
      "id": "64b0765e-bc90-46b8-8c66-0123b137bf19",
      "metadata": {
        "jp-MarkdownHeadingCollapsed": true,
        "tags": [],
        "id": "64b0765e-bc90-46b8-8c66-0123b137bf19"
      },
      "source": [
        "# Übersicht\n",
        "1. [Indexing und Slicing von DataFrames](#slicing_indexing)\n",
        "    1. [Erstes Arbeiten mit Indizes](#einführung_indizes)\n",
        "    1. [Slicing](#slicing)\n",
        "1. [Datenvisualisierung](#datenvisualisierung)\n",
        "    1. [Erste einfache Visualisierungsformen](#erste_visualisierungen)\n",
        "        1. [Histogramm](#einführung_hist)\n",
        "        1. [Säulendiagramm](#einführung_bar)\n",
        "        1. [Liniendiagramm](#einführung_line)\n",
        "    1. [Weitere nützliche Funktionen](#weitere_funktionen)\n",
        "    1. [Exkurs: Umgang mit fehlenden Daten](#missing)\n",
        "    1. [Deep Dive Datenvisualisierung](#deep_dive)\n",
        "        1. [Anpassen von Grafikelementen](#grafik_elemente)\n",
        "        1. [Weitere Abbildungsformen](#weitere_abbildungen)\n",
        "        1. [Weitere Packages zur Visualisierung](#vis_bib)\n",
        "        1. [Abbildungen speichern](#vis_speichern)"
      ]
    },
    {
      "cell_type": "markdown",
      "id": "4568c8d2-8df2-406b-9dd1-a3420d979671",
      "metadata": {
        "id": "4568c8d2-8df2-406b-9dd1-a3420d979671"
      },
      "source": [
        "# Übungsaufgaben\n",
        "- [Visualisierung - Verkaufszahlen Walmart](#walmart)\n",
        "- [Visualisierung - Fifa Worldcup](#fifa)\n",
        "- [Visualisierung - Sales-Report](#report)"
      ]
    },
    {
      "cell_type": "markdown",
      "id": "3b8fc31c-b4f8-4d40-aa76-814e1c2f8856",
      "metadata": {
        "id": "3b8fc31c-b4f8-4d40-aa76-814e1c2f8856"
      },
      "source": [
        "# 1. Indexing und Slicing von DataFrames <a class=\"anchor\" id=\"slicing_indexing\"></a>\n",
        "Wir laden erneut die Tabelle der Fussballbundesliga und betrachten noch einmal die drei Elemente eines pandas DataFrames:"
      ]
    },
    {
      "cell_type": "code",
      "execution_count": null,
      "id": "4d5c247c-dcdf-491b-978e-4419ee5a57fb",
      "metadata": {
        "id": "4d5c247c-dcdf-491b-978e-4419ee5a57fb"
      },
      "outputs": [],
      "source": [
        "# import pandas\n",
        "import pandas as pd"
      ]
    },
    {
      "cell_type": "code",
      "execution_count": null,
      "id": "dad1724a-2db4-44b9-a1ce-fd64076e00de",
      "metadata": {
        "id": "dad1724a-2db4-44b9-a1ce-fd64076e00de"
      },
      "outputs": [],
      "source": [
        "tabelle = [\n",
        "    [1, \"Bayern\", 28, 21, 3, 4, 85, 29, 56, 66],\n",
        "    [2, \"Dortmund\", 28, 18, 3, 7, 68, 42, 26, 57],\n",
        "    [3, \"Leverkusen\", 28, 15, 6, 7, 68, 42, 26, 51],\n",
        "    [4, \"RB Leipzig\", 28, 14, 6, 8, 61, 31, 30, 48],\n",
        "    [5, \"Freiburg\", 28, 12, 9, 7, 44, 33, 11, 45],\n",
        "    [6, \"Hoffenheim\", 28, 13, 5, 10, 50, 42, 8, 44],\n",
        "]"
      ]
    },
    {
      "cell_type": "code",
      "execution_count": null,
      "id": "e42a3790-15d6-458a-97cc-04bf8779e350",
      "metadata": {
        "id": "e42a3790-15d6-458a-97cc-04bf8779e350"
      },
      "outputs": [],
      "source": [
        "spalten_namen = [\n",
        "    \"Rang\", \"Mannschaft\", \"Spiele\", \"Siege\", \n",
        "    \"Unentschieden\", \"Niederlagen\", \n",
        "    \"Tore_+\", \"Tore_-\", \"Tordifferenz\", \n",
        "    \"Punkte\"\n",
        "]"
      ]
    },
    {
      "cell_type": "code",
      "execution_count": null,
      "id": "cb285f82-ace9-4105-93a0-e236c8744a83",
      "metadata": {
        "id": "cb285f82-ace9-4105-93a0-e236c8744a83"
      },
      "outputs": [],
      "source": [
        "tabelle = pd.DataFrame(tabelle, columns=spalten_namen)\n",
        "tabelle"
      ]
    },
    {
      "cell_type": "markdown",
      "id": "0ff45ac3-636f-4cd6-abd4-f7ea7f47c538",
      "metadata": {
        "id": "0ff45ac3-636f-4cd6-abd4-f7ea7f47c538"
      },
      "source": [
        "**1. Werte in der Tabelle:** Hierbei handelt es sich um die eigentlichen Daten, die in den Zeilen und Spalten stehen."
      ]
    },
    {
      "cell_type": "code",
      "execution_count": null,
      "id": "3e4214cd-c40e-4496-a028-962c685ed8b2",
      "metadata": {
        "id": "3e4214cd-c40e-4496-a028-962c685ed8b2"
      },
      "outputs": [],
      "source": [
        "tabelle.values"
      ]
    },
    {
      "cell_type": "markdown",
      "id": "eccb6a70-7909-4ae1-a985-4b62c95daf8a",
      "metadata": {
        "id": "eccb6a70-7909-4ae1-a985-4b62c95daf8a"
      },
      "source": [
        "**2. Spalten:** "
      ]
    },
    {
      "cell_type": "code",
      "execution_count": null,
      "id": "6fa2d942-cd46-4fd9-826b-c630daff02c9",
      "metadata": {
        "id": "6fa2d942-cd46-4fd9-826b-c630daff02c9"
      },
      "outputs": [],
      "source": [
        "tabelle.columns"
      ]
    },
    {
      "cell_type": "markdown",
      "id": "3d3c9b3d-18ec-458a-a67a-c94f5039f80c",
      "metadata": {
        "id": "3d3c9b3d-18ec-458a-a67a-c94f5039f80c"
      },
      "source": [
        "**3. Indizes:**"
      ]
    },
    {
      "cell_type": "code",
      "execution_count": null,
      "id": "b07ff6ab-7e47-4325-a401-a49cf72b166e",
      "metadata": {
        "id": "b07ff6ab-7e47-4325-a401-a49cf72b166e"
      },
      "outputs": [],
      "source": [
        "tabelle.index"
      ]
    },
    {
      "cell_type": "markdown",
      "id": "1a61a7c5-25ed-46da-ac45-81351234e20e",
      "metadata": {
        "id": "1a61a7c5-25ed-46da-ac45-81351234e20e"
      },
      "source": [
        "## 1.1 Arbeiten mit Indizes <a class=\"anchor\" id=\"einführung_indizes\"></a>\n",
        "Wir werden uns in diesem Kapitel nur kurz mit der Funktionsweise von Indizes befassen. Dies hat insbesondere einen Grund: Das Arbeiten mit Indizes zum Filern/Ausschneiden von Elementen eines DataFrames folgt einer Syntax, die ihre eigenen Besonderheiten hat. Letztendlich können Sie aber mit den Ihnen aus dem Kapitel **Subsetting** bekannten Methoden die gleichen Ergebnisse erzielen. "
      ]
    },
    {
      "cell_type": "markdown",
      "id": "9baa6958-8355-4943-8288-dcc196ed78c4",
      "metadata": {
        "id": "9baa6958-8355-4943-8288-dcc196ed78c4"
      },
      "source": [
        "Mit der Methode `.set_index()` setzen Sie einen Index für den DataFrame."
      ]
    },
    {
      "cell_type": "code",
      "execution_count": null,
      "id": "a04b3909-3bb0-437b-8232-6334283b2b39",
      "metadata": {
        "id": "a04b3909-3bb0-437b-8232-6334283b2b39"
      },
      "outputs": [],
      "source": [
        "tabelle_indexed = tabelle.set_index(\"Mannschaft\")\n",
        "tabelle_indexed.index"
      ]
    },
    {
      "cell_type": "markdown",
      "id": "b97f7cf9-29cb-4756-bb7f-434180fcf14b",
      "metadata": {
        "id": "b97f7cf9-29cb-4756-bb7f-434180fcf14b"
      },
      "source": [
        "Wenn Sie nun die Tabelle `tabelle` mit der Tabelle `tabelle_indexed` vergleichen und auf die Indizes achten, erkennen Sie einen Unterschied: Bei der ersten Tabelle (`tabelle`) wurde automatisch ein numerischer Index `0-5` (ohne Name) vergeben. Bei der zweiten Tabelle (`tabelle_indexed`) haben Sie nun explizit einen Index (`Mannschaft`) definiert. Dementsprechend sehen Sie nun die einzelnen Mannschaften als Indexwerte."
      ]
    },
    {
      "cell_type": "code",
      "execution_count": null,
      "id": "39df3c45-3902-473b-a4bc-4e1bc11d43ca",
      "metadata": {
        "id": "39df3c45-3902-473b-a4bc-4e1bc11d43ca"
      },
      "outputs": [],
      "source": [
        "tabelle_indexed"
      ]
    },
    {
      "cell_type": "markdown",
      "id": "cb9c735a-fc25-4de7-9ad8-608e87e379a9",
      "metadata": {
        "id": "cb9c735a-fc25-4de7-9ad8-608e87e379a9"
      },
      "source": [
        "**Frage:** Können Sie erklären, wie das Ergebnis der nachfolgenden Code-Zelle zustande kommt? Schauen Sie sich das Ergebnis von `tabelle_indexed.sort_index()` an und überlegen Sie wie der Aufruf `.loc[]` wirkt!"
      ]
    },
    {
      "cell_type": "code",
      "execution_count": null,
      "id": "19abad01-148b-448d-bcb4-7ed19a131bcf",
      "metadata": {
        "id": "19abad01-148b-448d-bcb4-7ed19a131bcf"
      },
      "outputs": [],
      "source": [
        "tabelle_indexed.sort_index().loc[\"Dortmund\":\"Hoffenheim\"]"
      ]
    },
    {
      "cell_type": "markdown",
      "id": "44549216-b96c-410a-a5e2-0461916f7a70",
      "metadata": {
        "id": "44549216-b96c-410a-a5e2-0461916f7a70"
      },
      "source": [
        "Mit der Methode `.reset_index()` setzen Sie den Index wieder zurück! Diese Methode werden Sie noch mehrfach nutzen!"
      ]
    },
    {
      "cell_type": "code",
      "execution_count": null,
      "id": "3eaa88d4-9c57-4b57-92c8-6c8f44d87231",
      "metadata": {
        "id": "3eaa88d4-9c57-4b57-92c8-6c8f44d87231"
      },
      "outputs": [],
      "source": [
        "tabelle_indexed.reset_index()"
      ]
    },
    {
      "cell_type": "markdown",
      "id": "7d985b75-d43a-4c7b-8393-18037109b387",
      "metadata": {
        "id": "7d985b75-d43a-4c7b-8393-18037109b387"
      },
      "source": [
        "**Frage:** Was passiert wenn Sie bei der Methode `.reset_index()` das Argument `drop=True` übergeben?"
      ]
    },
    {
      "cell_type": "code",
      "execution_count": null,
      "id": "8813579f-b21b-4027-b2a3-48bcf0c0df52",
      "metadata": {
        "id": "8813579f-b21b-4027-b2a3-48bcf0c0df52"
      },
      "outputs": [],
      "source": [
        ""
      ]
    },
    {
      "cell_type": "markdown",
      "id": "dfbcd95d-c1e1-426e-8325-043fc58566e8",
      "metadata": {
        "id": "dfbcd95d-c1e1-426e-8325-043fc58566e8"
      },
      "source": [
        "## 1.2 Slicing <a class=\"anchor\" id=\"slicing\"></a>\n",
        "Mithilfe von Slicing erhalten Sie \"Ausschnitte\" eines DataFrames (vgl. Subsetting vorherige Vorlesung). Wir gehen hier kurz auf weitere noch nicht behandelte Methoden für das Slicing ein."
      ]
    },
    {
      "cell_type": "markdown",
      "id": "ab16ce91-e46e-41a5-a3fe-78f29cc5ff3b",
      "metadata": {
        "id": "ab16ce91-e46e-41a5-a3fe-78f29cc5ff3b"
      },
      "source": [
        "**Slicing bei Listen**"
      ]
    },
    {
      "cell_type": "code",
      "execution_count": null,
      "id": "6a1491a8-e8ea-4bab-9949-38be19760cdf",
      "metadata": {
        "id": "6a1491a8-e8ea-4bab-9949-38be19760cdf"
      },
      "outputs": [],
      "source": [
        "l = [10,15,20,25,30,35]"
      ]
    },
    {
      "cell_type": "code",
      "execution_count": null,
      "id": "789cf07f-5244-40e3-a35c-2cf92f226eec",
      "metadata": {
        "id": "789cf07f-5244-40e3-a35c-2cf92f226eec"
      },
      "outputs": [],
      "source": [
        "l[1], l[2:], l[2:4]"
      ]
    },
    {
      "cell_type": "markdown",
      "id": "e57edb26-d3c2-4489-a812-e8db4a73855d",
      "metadata": {
        "id": "e57edb26-d3c2-4489-a812-e8db4a73855d"
      },
      "source": [
        "**Slicing bei DataFrames**"
      ]
    },
    {
      "cell_type": "code",
      "execution_count": null,
      "id": "44271f77-8326-437d-8508-f444f0b4ea1e",
      "metadata": {
        "id": "44271f77-8326-437d-8508-f444f0b4ea1e"
      },
      "outputs": [],
      "source": [
        "tabelle[:2]"
      ]
    },
    {
      "cell_type": "code",
      "execution_count": null,
      "id": "76093683-092a-49ff-b441-6a37fcee28a3",
      "metadata": {
        "id": "76093683-092a-49ff-b441-6a37fcee28a3"
      },
      "outputs": [],
      "source": [
        "tabelle[1:3][[\"Rang\",\"Mannschaft\"]]"
      ]
    },
    {
      "cell_type": "code",
      "execution_count": null,
      "id": "4c36eba3-3df2-4405-b40d-be4386f51b9e",
      "metadata": {
        "id": "4c36eba3-3df2-4405-b40d-be4386f51b9e"
      },
      "outputs": [],
      "source": [
        "tabelle[0][[\"Rang\",\"Mannschaft\"]]"
      ]
    },
    {
      "cell_type": "markdown",
      "id": "119b838d-ebca-40ec-8159-3066173b5021",
      "metadata": {
        "id": "119b838d-ebca-40ec-8159-3066173b5021"
      },
      "source": [
        "**Slicing von DataFrames mit `.iloc[]`**"
      ]
    },
    {
      "cell_type": "markdown",
      "id": "ed90c34a-16ba-4694-9e98-0abfd4725007",
      "metadata": {
        "id": "ed90c34a-16ba-4694-9e98-0abfd4725007"
      },
      "source": [
        "**Frage:** Wie erklären Sie sich die Ausgabe der nachfolgenden Code-Zelle?"
      ]
    },
    {
      "cell_type": "code",
      "execution_count": null,
      "id": "6706cb08-8e32-47a5-99b9-8b607f3458cf",
      "metadata": {
        "id": "6706cb08-8e32-47a5-99b9-8b607f3458cf"
      },
      "outputs": [],
      "source": [
        "tabelle.iloc[0:2,:2]"
      ]
    },
    {
      "cell_type": "code",
      "execution_count": null,
      "id": "4506bbf8-ba48-4b4b-aaad-a5ac7d824291",
      "metadata": {
        "id": "4506bbf8-ba48-4b4b-aaad-a5ac7d824291"
      },
      "outputs": [],
      "source": [
        "tabelle.iloc[0,:2]"
      ]
    },
    {
      "cell_type": "code",
      "execution_count": null,
      "id": "ec0f2533-f698-45bd-8595-3245d6fa1c26",
      "metadata": {
        "id": "ec0f2533-f698-45bd-8595-3245d6fa1c26"
      },
      "outputs": [],
      "source": [
        ""
      ]
    },
    {
      "cell_type": "markdown",
      "id": "915cf880-9149-491f-82b7-60b17f31d293",
      "metadata": {
        "id": "915cf880-9149-491f-82b7-60b17f31d293"
      },
      "source": [
        "# 2. Datenvisualisierung <a class=\"anchor\" id=\"visualisierung\"></a>\n",
        "Für die Visualisierung nutzen wir das Package `matplotlib` und die Funktionalitäten rundum `pyplot`. Dazu importieren wir zunächst das Package (ggf. müssen Sie dieses noch mithilfe von `pip3 install matplotlib` installieren). Es ist üblich `matplotlib.pyplot` als `plt` zu importieren."
      ]
    },
    {
      "cell_type": "code",
      "execution_count": null,
      "id": "95b4bd1d-6f68-486e-b2b7-5da11515bc34",
      "metadata": {
        "id": "95b4bd1d-6f68-486e-b2b7-5da11515bc34"
      },
      "outputs": [],
      "source": [
        "import matplotlib.pyplot as plt"
      ]
    },
    {
      "cell_type": "markdown",
      "id": "da1dc354-6526-4501-afae-7311f7019df2",
      "metadata": {
        "id": "da1dc354-6526-4501-afae-7311f7019df2"
      },
      "source": [
        "## 2.1 Erste einfache Visualisierungsformen <a class=\"anchor\" id=\"erste_visualisierungen\"></a>\n",
        "Wir laden erneut den [Fifa World Cup](https://www.kaggle.com/datasets/abecklas/fifa-world-cup) Datensatzes aus einer csv-Datei. Anschließend wenden wir die `.plot()` Methode auf diesen DataFrame an. Über das Argument `kind` kann z.B. gesteuert werden, welche Art von Diagramm erzeugt wird. "
      ]
    },
    {
      "cell_type": "code",
      "source": [
        "from google.colab import drive\n",
        "drive.mount('/content/drive')"
      ],
      "metadata": {
        "id": "ZrxynS7sW_4i"
      },
      "id": "ZrxynS7sW_4i",
      "execution_count": null,
      "outputs": []
    },
    {
      "cell_type": "code",
      "execution_count": null,
      "id": "a4fb76f1-6255-4751-9075-bfbcc4bb0b0e",
      "metadata": {
        "id": "a4fb76f1-6255-4751-9075-bfbcc4bb0b0e"
      },
      "outputs": [],
      "source": [
        "data = pd.read_csv(\"/content/drive/MyDrive/Logistik_Business_Analyst/Grundlagen_Datenvisualisierung_mit_Matplotlib/WorldCupMatches.txt\")\n",
        "data = data.astype({\"Datetime\": \"M\", \"RoundID\": \"O\", \"MatchID\": \"O\"}, errors='raise') \n",
        "data.dropna(inplace=True)"
      ]
    },
    {
      "cell_type": "code",
      "execution_count": null,
      "id": "7f1b6c37-56b1-4353-bdd9-b7c8906635c3",
      "metadata": {
        "id": "7f1b6c37-56b1-4353-bdd9-b7c8906635c3"
      },
      "outputs": [],
      "source": [
        "data.head()"
      ]
    },
    {
      "cell_type": "markdown",
      "id": "bbfbd80a-ded7-41f7-8e5e-30f175950bc6",
      "metadata": {
        "id": "bbfbd80a-ded7-41f7-8e5e-30f175950bc6"
      },
      "source": [
        "### 2.1.1 Histogramm <a class=\"anchor\" id=\"einführung_hist\"></a>\n",
        "Ein Histogramm ist eine grafische Darstellung der Häufigkeitsverteilung kardinal skalierter Merkmale. Es erfordert die Einteilung der Daten in Klassen (englisch bins), die eine konstante oder variable Breite haben können. Es werden direkt nebeneinanderliegende Rechtecke von der Breite der jeweiligen Klasse gezeichnet, deren Flächeninhalte die (relativen oder absoluten) Klassenhäufigkeiten darstellen. Die Höhe jedes Rechtecks stellt dann die (relative oder absolute) Häufigkeitsdichte dar, also die (relative oder absolute) Häufigkeit dividiert durch die Breite der entsprechenden Klasse. (Quelle: Wikipedia)"
      ]
    },
    {
      "cell_type": "code",
      "execution_count": null,
      "id": "2fce6814-c635-4d53-b432-830d91858bf0",
      "metadata": {
        "id": "2fce6814-c635-4d53-b432-830d91858bf0"
      },
      "outputs": [],
      "source": [
        "data[\"Attendance\"].plot(kind=\"hist\")\n",
        "plt.show()"
      ]
    },
    {
      "cell_type": "markdown",
      "id": "7ccf7487-2a04-4991-a9f1-cd2bd583ae94",
      "metadata": {
        "id": "7ccf7487-2a04-4991-a9f1-cd2bd583ae94"
      },
      "source": [
        "Mit dem Argument `bins` geben Sie an, in wie viele verschiedene Klassen die Daten eingeteilt werden. **Frage:** Was ist der Default-Wert für `bins`, d.h. wenn kein Argument beim Aufruf der Methode `.plot()` übergeben wird?"
      ]
    },
    {
      "cell_type": "code",
      "execution_count": null,
      "id": "12c42cb3-6a4b-4661-8871-fe2d2bc13857",
      "metadata": {
        "id": "12c42cb3-6a4b-4661-8871-fe2d2bc13857"
      },
      "outputs": [],
      "source": [
        "data[\"Attendance\"].plot(kind=\"hist\", bins=100)\n",
        "plt.show()"
      ]
    },
    {
      "cell_type": "markdown",
      "id": "5e10e98f-4ecb-4a03-8c45-76b567c7cb24",
      "metadata": {
        "id": "5e10e98f-4ecb-4a03-8c45-76b567c7cb24"
      },
      "source": [
        "### 2.1.2 Säulendiagramm <a class=\"anchor\" id=\"einführung_bar\"></a>\n",
        "Das Säulendiagramm, bei schmalen Säulen auch Stabdiagramm genannt, ist ein Diagramm zur vergleichenden Darstellung, das durch auf der x-Achse senkrecht stehende, nicht aneinandergrenzende Säulen (Rechtecke mit bedeutungsloser Breite) die Häufigkeitsverteilung einer diskreten (Zufalls-)Variablen veranschaulicht. Das Säulendiagramm eignet sich besonders, um wenige Ausprägungen (bis ca. 15) zu veranschaulichen.(Quelle: Wikipedia)"
      ]
    },
    {
      "cell_type": "code",
      "execution_count": null,
      "id": "79a0082e-8f2c-4889-85a5-8bb41b2ae2b5",
      "metadata": {
        "id": "79a0082e-8f2c-4889-85a5-8bb41b2ae2b5"
      },
      "outputs": [],
      "source": [
        "mean_attendance_by_year = data.groupby(\"Year\")[\"Attendance\"].mean()"
      ]
    },
    {
      "cell_type": "code",
      "execution_count": null,
      "id": "fc7eae65-5fb7-49a1-ab50-77b71c619953",
      "metadata": {
        "id": "fc7eae65-5fb7-49a1-ab50-77b71c619953"
      },
      "outputs": [],
      "source": [
        "mean_attendance_by_year.plot(kind=\"bar\", grid=True)\n",
        "plt.show()"
      ]
    },
    {
      "cell_type": "code",
      "execution_count": null,
      "id": "8bc525c7-9c3d-4598-8a48-3a768bb7347a",
      "metadata": {
        "id": "8bc525c7-9c3d-4598-8a48-3a768bb7347a"
      },
      "outputs": [],
      "source": [
        "mean_attendance_by_year.plot(kind=\"bar\", \n",
        "                             title=\"Mittlere Anzahl von Zuschauern\",\n",
        "                             xlabel=\"Jahr\",\n",
        "                             ylabel=\"Zuschauer\"\n",
        "                            )\n",
        "plt.show()"
      ]
    },
    {
      "cell_type": "markdown",
      "id": "2cd2fd58-3fbf-4ce3-b277-35a2e939589b",
      "metadata": {
        "id": "2cd2fd58-3fbf-4ce3-b277-35a2e939589b"
      },
      "source": [
        "### 2.1.3 Liniendiagramm <a class=\"anchor\" id=\"einführung_line\"></a>\n",
        "Ein Liniendiagramm, auch Kurvendiagramm, ist die graphische Darstellung des funktionellen Zusammenhangs zweier (bei zweidimensionaler Darstellung) oder dreier (bei dreidimensionaler Darstellung) Merkmale als Diagramm in Linienform, wodurch Veränderungen bzw. Entwicklungen (etwa innerhalb eines bestimmten Zeitabschnitts) dargestellt werden können. (Quelle: Wikipedia)"
      ]
    },
    {
      "cell_type": "markdown",
      "source": [
        "**Frage:** Wie ist das Ergebnis der nachfolgenden Code-Zelle zu verstehen?"
      ],
      "metadata": {
        "id": "Y-mmzEK32i5G"
      },
      "id": "Y-mmzEK32i5G"
    },
    {
      "cell_type": "code",
      "source": [
        "data.groupby(\"Year\").size()"
      ],
      "metadata": {
        "id": "bXUU56zK2RLN"
      },
      "id": "bXUU56zK2RLN",
      "execution_count": null,
      "outputs": []
    },
    {
      "cell_type": "code",
      "source": [
        "spiele = data.groupby(\"Year\").size().reset_index()\n",
        "spiele.head(3)"
      ],
      "metadata": {
        "id": "SSSkJzhV2wFf"
      },
      "id": "SSSkJzhV2wFf",
      "execution_count": null,
      "outputs": []
    },
    {
      "cell_type": "markdown",
      "source": [
        "Mit der Methode `.rename()` können Sie beispielsweise die Namen von Spalten eines Dataframes ändern. Die Systematik ist die folgende: `\"alter Spaltenname\":\"neuer Spaltenname\"`!"
      ],
      "metadata": {
        "id": "RmrAC7GK31tv"
      },
      "id": "RmrAC7GK31tv"
    },
    {
      "cell_type": "code",
      "source": [
        "spiele.rename(columns={\"Year\":\"Jahr\",0:\"Spiele\"}, inplace=True)"
      ],
      "metadata": {
        "id": "j2mBkZh727r5"
      },
      "id": "j2mBkZh727r5",
      "execution_count": null,
      "outputs": []
    },
    {
      "cell_type": "code",
      "execution_count": null,
      "id": "da16f94d-66f3-4cb5-bd8e-7112cf6ab752",
      "metadata": {
        "id": "da16f94d-66f3-4cb5-bd8e-7112cf6ab752"
      },
      "outputs": [],
      "source": [
        "spiele.plot(kind=\"line\",\n",
        "            x=\"Jahr\",\n",
        "            y=\"Spiele\"\n",
        "            )\n",
        "plt.show()"
      ]
    },
    {
      "cell_type": "markdown",
      "id": "c27559ea-8e1f-47b4-b2b2-381b00e9edec",
      "metadata": {
        "id": "c27559ea-8e1f-47b4-b2b2-381b00e9edec"
      },
      "source": [
        "Liniendiagramm mit Rotation der x-Achse um 45 Grad (`rot=45`) und Anzeige sämtlicher Jahre, in denen Weltmeisterschaften gespielt wurden. Für letzteres nutzen Sie den Parameter `xticks`. Dieser erwartet eine Liste, die alle auf der x-Achse anzuzeigenden Elemente enthält. Mit dem Aufruf `data.Year.unique()` erhalten wir genau eine Liste, die alle Jahre an denen Weltmeisterschaften gespielt wurde."
      ]
    },
    {
      "cell_type": "code",
      "execution_count": null,
      "id": "70541249-4edb-4c71-9c39-634b9c3c8bef",
      "metadata": {
        "id": "70541249-4edb-4c71-9c39-634b9c3c8bef"
      },
      "outputs": [],
      "source": [
        "spiele.plot(kind=\"line\",\n",
        "            x=\"Jahr\",\n",
        "            y=\"Spiele\",\n",
        "            rot=45,\n",
        "            xticks=data.Year.unique(),\n",
        "            legend=False\n",
        "            )\n",
        "plt.show()"
      ]
    },
    {
      "cell_type": "markdown",
      "id": "d956b0ee-ae22-40c8-83e5-51cc9c8a0692",
      "metadata": {
        "id": "d956b0ee-ae22-40c8-83e5-51cc9c8a0692"
      },
      "source": [
        "## 2.2 Weitere nützliche Funktionalitäten <a class=\"anchor\" id=\"weitere_funktionen\"></a>\n",
        "\n"
      ]
    },
    {
      "cell_type": "code",
      "execution_count": null,
      "id": "6dc1ab95-c238-4999-a439-a4412195b923",
      "metadata": {
        "id": "6dc1ab95-c238-4999-a439-a4412195b923"
      },
      "outputs": [],
      "source": [
        "# Hinzufügen einer Legende\n",
        "data[data.Year==2014][\"Attendance\"].plot(kind=\"hist\")\n",
        "data[data.Year==2010][\"Attendance\"].plot(kind=\"hist\")\n",
        "plt.legend([\"Zuschauer 2014\",\"Zuschauer 2010\"])\n",
        "plt.show()"
      ]
    },
    {
      "cell_type": "code",
      "execution_count": null,
      "id": "f4cfdbfa-c577-4497-b20e-f5adc4292f4f",
      "metadata": {
        "id": "f4cfdbfa-c577-4497-b20e-f5adc4292f4f"
      },
      "outputs": [],
      "source": [
        "# Transparenz\n",
        "data[data.Year==2014][\"Attendance\"].plot(kind=\"hist\", alpha=0.7, bins=20)\n",
        "data[data.Year==2010][\"Attendance\"].plot(kind=\"hist\", alpha=0.7, bins=20)\n",
        "plt.legend([\"Zuschauer 2014\",\"Zuschauer 2010\"])\n",
        "plt.show()"
      ]
    },
    {
      "cell_type": "code",
      "execution_count": null,
      "id": "b7ac1402-56f1-42ac-8360-edd108d654e7",
      "metadata": {
        "id": "b7ac1402-56f1-42ac-8360-edd108d654e7"
      },
      "outputs": [],
      "source": [
        "# Veränderung der Diagrammgröße\n",
        "data[data.Year==2014][\"Attendance\"].plot(kind=\"hist\", figsize=(7.5,5))\n",
        "plt.show()"
      ]
    },
    {
      "cell_type": "markdown",
      "id": "434c4391-ea4b-4b1d-ad78-1689c5211ba4",
      "metadata": {
        "id": "434c4391-ea4b-4b1d-ad78-1689c5211ba4"
      },
      "source": [
        "### Aufgabe: Visualisierungen - Verkaufszahlen Walmart <a class=\"anchor\" id=\"walmart\"></a>"
      ]
    },
    {
      "cell_type": "markdown",
      "id": "2df678b6-1213-454d-b6e6-7387b15d3132",
      "metadata": {
        "id": "2df678b6-1213-454d-b6e6-7387b15d3132"
      },
      "source": [
        "Sie erhalten einen Datensatz der Einzelhandelskette Walmart (Auszug aus diesem [Datensatz](https://www.kaggle.com/competitions/walmart-recruiting-store-sales-forecasting/data)). Dieser enthält Verkaufszahlen für jeden Laden (`store`) mit seinen verschiedenen Kategorien (`department`), z.B. Gemüse oder Tiefkühlware. Die wöchentlichen Verkaufszahlen (`weekly_sales`) sind in Dollar angegeben. Der jeweilige Freitag einer Woche ist über die Spalte `date` gekennzeichnet. Die Spalten `is_holiday`, `temperature_c`, `fuel_price_usd_per_l`und `unemployment` enthalten weitere Informationen, die für diese Woche aufgenommen wurden und vermutlich einen Einfluss auf die Verkaufszahlen haben. Wir laden zunächst wieder die Daten:"
      ]
    },
    {
      "cell_type": "code",
      "execution_count": null,
      "id": "6d69773b-1ef9-4acf-9aa9-7a29eba91e0f",
      "metadata": {
        "id": "6d69773b-1ef9-4acf-9aa9-7a29eba91e0f"
      },
      "outputs": [],
      "source": [
        "df = pd.read_csv(\"/content/drive/MyDrive/Logistik_Business_Analyst/Grundlagen_Datenvisualisierung_mit_Matplotlib/sales_data.txt\", index_col=0)\n",
        "# Löschen der Spalte \"type\". \"inplace=True\" ist gleichbedeutend mit \"df = df.drop(columns=[\"type\"])\"\n",
        "df.drop(columns=[\"type\"], inplace=True)\n",
        "# Transformation der Datentypen\n",
        "df = df.astype({\"store\":\"O\", \"department\":\"O\", \"date\":\"M\"})\n",
        "df.head()"
      ]
    },
    {
      "cell_type": "markdown",
      "id": "8a2d61cd-b5ba-413a-91ec-ce2b8a94cc92",
      "metadata": {
        "id": "8a2d61cd-b5ba-413a-91ec-ce2b8a94cc92"
      },
      "source": [
        "Bitte berarbeiten Sie nun die folgenden Aufgaben:\n",
        "1. Erstellen Sie ein Histogramm, welches die gesamten wöchentlichen Verkaufszahlen zeigt!\n",
        "1. In den Daten sehen Sie auch den Kraftstoffpreis (Dollar/l). Dieser wird individuell je Store und Woche berechnet und ergibt sich aus den Kraftstoffpreise naheliegender Tankstellen. Ermitteln Sie den durchschnittlichen wöchentlichen Kraftstoffpreis (Dollar/l) über alle Stores und tragen Sie diesen in einem Liniendiagramm ab (x-Achse: Wochen mit aufsteigender Sortierung, y-Achse: Kraftstoffpreis). Sie müssen dazu auf die Methode `groupby()` zurückgreifen. Schauen Sie sich bitte auch nochmals die Verwendung der `reset_index()` Methode an, die wir bei der Erstellung von [Liniendiagrammen](#einführung_line) benutzt haben.\n",
        "1. Vergleichen Sie die wöchentlichen Verkaufszahlen von Store 14 und 19 mit zwei Histogrammen. Passen Sie bitte die Größe des Diagramm für eine bessere Lesbarkeit an!\n",
        "1. Welcher Store hatte im Betrachtungszeitraum die besten Verkaufszahlen?\n",
        "1. Stellen Sie für diesen Store die durchschnittlichen Verkaufzahlen für 10 umsatzstärksten Abteilungen (`department`) in einem Säulendiagramm dar!"
      ]
    },
    {
      "cell_type": "markdown",
      "id": "cdefbdd0-831f-49b8-a003-3f188acbe2ec",
      "metadata": {
        "id": "cdefbdd0-831f-49b8-a003-3f188acbe2ec"
      },
      "source": [
        "## 2.3 Exkurs: Umgang mit fehlenden Daten <a class=\"anchor\" id=\"missing\"></a>\n",
        "In realen Datensätzen werden Sie regelmäßig mit fehlenden Daten zu tun haben. Pandas stellt diverse Methoden zur Verfügung um Datensätze zu bereinigen. Diese schauen wir uns in einem Überblick kurz an!"
      ]
    },
    {
      "cell_type": "code",
      "execution_count": null,
      "id": "ae000089-2c63-4d6f-9b3a-e9014ccb8998",
      "metadata": {
        "id": "ae000089-2c63-4d6f-9b3a-e9014ccb8998"
      },
      "outputs": [],
      "source": [
        "data = pd.read_csv(\"/content/drive/MyDrive/Logistik_Business_Analyst/Grundlagen_Datenvisualisierung_mit_Matplotlib/beispiel_fehlende_daten.txt\",index_col=0)\n",
        "data"
      ]
    },
    {
      "cell_type": "markdown",
      "id": "d011359e-9c3e-435c-bee8-96e609c46ce4",
      "metadata": {
        "id": "d011359e-9c3e-435c-bee8-96e609c46ce4"
      },
      "source": [
        "Sie sehen in der Tabelle in den Spalten `weekly_sales` und `temperature_c` Zellen mit dem Wert `NaN`. Über `NaN = Not a Number` wird das Fehlen eines Wertes angezeigt. Mit der Funktion `isna()` können Sie prüfen, ob ein Wert fehlt. Ist ein Wert fehlend, wird der boolsche Ausdruck `true` zurückgegeben."
      ]
    },
    {
      "cell_type": "code",
      "execution_count": null,
      "id": "3845ea53-0a96-45cc-8bdb-7fec92280222",
      "metadata": {
        "id": "3845ea53-0a96-45cc-8bdb-7fec92280222"
      },
      "outputs": [],
      "source": [
        "data.isna()"
      ]
    },
    {
      "cell_type": "code",
      "execution_count": null,
      "id": "8f3ec761-d45a-44e9-a285-21e1418997d2",
      "metadata": {
        "id": "8f3ec761-d45a-44e9-a285-21e1418997d2"
      },
      "outputs": [],
      "source": [
        "# In welchen Spalten gibt es fehlende Werte\n",
        "data.isna().any()"
      ]
    },
    {
      "cell_type": "markdown",
      "id": "158914b6-fd25-47ce-bcd0-acf81e2ad79d",
      "metadata": {
        "id": "158914b6-fd25-47ce-bcd0-acf81e2ad79d"
      },
      "source": [
        "**Frage:** Bitte erläutern Sie, wie die nachfolgende Ausgabe zustande kommt! Wie ist das Zusammenspiel der Funktion `.isna()` mit der Funktion `.sum()`?"
      ]
    },
    {
      "cell_type": "code",
      "execution_count": null,
      "id": "94adb232-14ca-4894-95f8-71038b8bcfee",
      "metadata": {
        "id": "94adb232-14ca-4894-95f8-71038b8bcfee"
      },
      "outputs": [],
      "source": [
        "# Wie viele fehlende Werte gibt es in einer Spalte\n",
        "data.isna().sum()"
      ]
    },
    {
      "cell_type": "markdown",
      "id": "43fd34fc-495b-431e-8588-5cb971a05a2f",
      "metadata": {
        "id": "43fd34fc-495b-431e-8588-5cb971a05a2f"
      },
      "source": [
        "Haben Sie fehlende Werte in Spalten identifiziert, müssen Sie entscheiden wie Sie mit diesen weiter verfahren wollen. Sie haben die Möglichkeit Zeilen mit fehlenden Werten zu löschen (`drop_na()`) oder die fehlenden Werte zu ersetzen (`fillna()`)."
      ]
    },
    {
      "cell_type": "code",
      "execution_count": null,
      "id": "113bf8f6-70de-4ce6-bdef-6a8f3234317f",
      "metadata": {
        "id": "113bf8f6-70de-4ce6-bdef-6a8f3234317f"
      },
      "outputs": [],
      "source": [
        "#Zeilen mit fehleden Werten löschen\n",
        "data.dropna()"
      ]
    },
    {
      "cell_type": "markdown",
      "id": "b312a885-9eb6-4a1b-9b6d-f52fe460fd80",
      "metadata": {
        "id": "b312a885-9eb6-4a1b-9b6d-f52fe460fd80"
      },
      "source": [
        "**Frage:** Was passiert, wenn Sie das Argument `inplace` beim Aufruf von `drop_na()` gleich `True` setzen?"
      ]
    },
    {
      "cell_type": "code",
      "execution_count": null,
      "id": "86ea7509-7111-4410-b1e5-bb8bac1442c9",
      "metadata": {
        "id": "86ea7509-7111-4410-b1e5-bb8bac1442c9"
      },
      "outputs": [],
      "source": [
        "#Auffüllen fehlender Werte mit 0\n",
        "data.fillna(0)"
      ]
    },
    {
      "cell_type": "markdown",
      "id": "9cc1bb15-e291-44a5-aa9b-fe7114be2748",
      "metadata": {
        "id": "9cc1bb15-e291-44a5-aa9b-fe7114be2748"
      },
      "source": [
        "**Frage:** Wie werden die fehlenden Werte bei den folgenden Aufrufen aufgefüllt?"
      ]
    },
    {
      "cell_type": "code",
      "execution_count": null,
      "id": "6a8d2922-78fb-4a4c-96fd-49705db93ec8",
      "metadata": {
        "id": "6a8d2922-78fb-4a4c-96fd-49705db93ec8"
      },
      "outputs": [],
      "source": [
        "data.fillna(method=\"bfill\")"
      ]
    },
    {
      "cell_type": "code",
      "execution_count": null,
      "id": "c83506cd-c066-4510-8205-cf1ed7ded944",
      "metadata": {
        "id": "c83506cd-c066-4510-8205-cf1ed7ded944"
      },
      "outputs": [],
      "source": [
        "data.fillna(method=\"ffill\")"
      ]
    },
    {
      "cell_type": "code",
      "execution_count": null,
      "id": "889f6bd4-8507-489d-b955-dd9d4d6d9859",
      "metadata": {
        "id": "889f6bd4-8507-489d-b955-dd9d4d6d9859"
      },
      "outputs": [],
      "source": [
        "data[\"weekly_sales\"] = data[\"weekly_sales\"].fillna(data[\"weekly_sales\"].mean())\n",
        "data"
      ]
    },
    {
      "cell_type": "markdown",
      "id": "1240d104-e9b5-4364-a387-eb716d21390f",
      "metadata": {
        "id": "1240d104-e9b5-4364-a387-eb716d21390f"
      },
      "source": [
        "**Frage:** Wie ersetzen Sie die fehlenden Werte bei der Temperatur durch den Median?"
      ]
    },
    {
      "cell_type": "code",
      "execution_count": null,
      "id": "e3aedc26-fc87-49f3-a133-3287ecd318ed",
      "metadata": {
        "id": "e3aedc26-fc87-49f3-a133-3287ecd318ed"
      },
      "outputs": [],
      "source": [
        ""
      ]
    },
    {
      "cell_type": "markdown",
      "id": "eb4eab74-e5c0-4524-a485-6448918cb76c",
      "metadata": {
        "id": "eb4eab74-e5c0-4524-a485-6448918cb76c"
      },
      "source": [
        "## 2.4 Deep Dive Datenvisualisierung <a class=\"anchor\" id=\"deep_dive\"></a>\n",
        "Wir haben in [Kapitel 2.1](#erste_visualisierungen) erste Visualisierungen erstellt. In den folgenden Unterkapiteln werden wir sehen, wie sich jedes einzelne Elemente einer Grafik individuell anpassen lässt. Um dies zu erreichen, müssen wir mit den einzelnen Objekten einer Grafik interagieren. Dies sind `fig` (Objekt, welches die eigentlich Grafik darstellt) und `ax` (Objekt, welches die Daten enthält, die gezeichnet werden sollen):"
      ]
    },
    {
      "cell_type": "code",
      "execution_count": null,
      "id": "ccee3020-a8a4-478a-ab91-ae070c3fdc67",
      "metadata": {
        "id": "ccee3020-a8a4-478a-ab91-ae070c3fdc67"
      },
      "outputs": [],
      "source": [
        "fig, ax = plt.subplots()\n",
        "# Zeigt die Grafik ohne Daten\n",
        "plt.show()"
      ]
    },
    {
      "cell_type": "markdown",
      "id": "0804622b-3f9e-4d13-865b-009fc634706e",
      "metadata": {
        "id": "0804622b-3f9e-4d13-865b-009fc634706e"
      },
      "source": [
        "Wir laden an dieser Stelle die Daten, die wir anschließend plotten. Es handelt sich um historische Aktienkurse zu den Unternehmen Tesla, BMW und Volkswagen. Diese können Sie beispielweise unter https://de.finance.yahoo.com laden."
      ]
    },
    {
      "cell_type": "code",
      "execution_count": null,
      "id": "02c4f8db-31d4-4d70-b03e-fee01006f6a6",
      "metadata": {
        "id": "02c4f8db-31d4-4d70-b03e-fee01006f6a6"
      },
      "outputs": [],
      "source": [
        "data = pd.read_csv(\"/content/drive/MyDrive/Logistik_Business_Analyst/Grundlagen_Datenvisualisierung_mit_Matplotlib/aktienkurse_vw_tesla_bmw.txt\", index_col=0)\n",
        "data.head()"
      ]
    },
    {
      "cell_type": "code",
      "execution_count": null,
      "id": "6782c9b7-c229-4ff7-92a6-459868c2553b",
      "metadata": {
        "id": "6782c9b7-c229-4ff7-92a6-459868c2553b"
      },
      "outputs": [],
      "source": [
        "# Wir wählen nur die ersten 5 Zeilen des DataFrame mit Filterung auf \"Tesla\"\n",
        "tesla = data[data.Name==\"Tesla\"][0:5]"
      ]
    },
    {
      "cell_type": "code",
      "execution_count": null,
      "id": "2af94612-c926-437e-b449-1367d2ae60a3",
      "metadata": {
        "id": "2af94612-c926-437e-b449-1367d2ae60a3"
      },
      "outputs": [],
      "source": [
        "fig, ax = plt.subplots()\n",
        "ax.plot(tesla[\"Date\"],\n",
        "        tesla[\"Close\"])\n",
        "plt.show()"
      ]
    },
    {
      "cell_type": "markdown",
      "id": "50a66ca1-f2f4-4f36-b7e0-0e7080ea7024",
      "metadata": {
        "id": "50a66ca1-f2f4-4f36-b7e0-0e7080ea7024"
      },
      "source": [
        "### 2.4.1 Anpassen von Grafikelemten <a class=\"anchor\" id=\"grafik_elemente\"></a>"
      ]
    },
    {
      "cell_type": "markdown",
      "id": "e0f3449b-6f16-459b-973f-b794000bd9ed",
      "metadata": {
        "id": "e0f3449b-6f16-459b-973f-b794000bd9ed"
      },
      "source": [
        "Kenntlichmachen von Datenpunkten über **Marker**. Eine komplette Übersicht zu allen unterstützten Marker-Typen finden Sie [hier](https://matplotlib.org/stable/api/markers_api.html)."
      ]
    },
    {
      "cell_type": "code",
      "execution_count": null,
      "id": "5925c422-04c1-41e0-a5de-59a1ac67f220",
      "metadata": {
        "id": "5925c422-04c1-41e0-a5de-59a1ac67f220"
      },
      "outputs": [],
      "source": [
        "fig, ax = plt.subplots()\n",
        "ax.plot(tesla[\"Date\"],\n",
        "        tesla[\"Close\"],\n",
        "        marker=\"o\"\n",
        "       )\n",
        "plt.show()"
      ]
    },
    {
      "cell_type": "markdown",
      "id": "977f53ca-eb14-4c31-8ea0-c846230e11c8",
      "metadata": {
        "id": "977f53ca-eb14-4c31-8ea0-c846230e11c8"
      },
      "source": [
        "Veränderung des Linientyps mithilfe von **Linestyle**. Weitere Linientypen finden Sie [hier](https://matplotlib.org/3.0.3/gallery/lines_bars_and_markers/line_styles_reference.html)"
      ]
    },
    {
      "cell_type": "code",
      "execution_count": null,
      "id": "8bbdcbab-516d-4821-a719-d3274ddd03f8",
      "metadata": {
        "id": "8bbdcbab-516d-4821-a719-d3274ddd03f8"
      },
      "outputs": [],
      "source": [
        "fig, ax = plt.subplots()\n",
        "ax.plot(tesla[\"Date\"],\n",
        "        tesla[\"Close\"],\n",
        "        marker=\"o\",\n",
        "        linestyle=\"--\" \n",
        "       )\n",
        "plt.show()"
      ]
    },
    {
      "cell_type": "markdown",
      "id": "e0c17fb5-f8f8-417a-8800-55e2e02e528c",
      "metadata": {
        "id": "e0c17fb5-f8f8-417a-8800-55e2e02e528c"
      },
      "source": [
        "Über das Argument **Color** können Sie die Farbe wählen, in der die gezeigte Kurve abgetragen werden soll. Eine Übersicht zur Verwendung von Farben finden Sie in folgendem [Cheat Sheet](https://matplotlib.org/cheatsheets/_images/cheatsheets-2.png)."
      ]
    },
    {
      "cell_type": "code",
      "execution_count": null,
      "id": "4ed4c171-b2d7-476b-9da9-e650595c346d",
      "metadata": {
        "id": "4ed4c171-b2d7-476b-9da9-e650595c346d"
      },
      "outputs": [],
      "source": [
        "fig, ax = plt.subplots()\n",
        "ax.plot(tesla[\"Date\"],\n",
        "        tesla[\"Close\"],\n",
        "        marker=\"o\",\n",
        "        linestyle=\"--\",\n",
        "        color=\"r\"        \n",
        "       )\n",
        "ax.grid(color=\"k\",linestyle=\"--\", alpha=0.5)\n",
        "plt.show()"
      ]
    },
    {
      "cell_type": "markdown",
      "id": "d335c809-bad5-4833-8a05-fa8e2f4fbf78",
      "metadata": {
        "id": "d335c809-bad5-4833-8a05-fa8e2f4fbf78"
      },
      "source": [
        "Für das `ax` Objekt stehen unzählige Methoden zur Verfügung. Sehr hilfreich sind insbesondere die `.set_` Methoden zur Gestaltung einzelner Elemente einer Abbildung."
      ]
    },
    {
      "cell_type": "code",
      "execution_count": null,
      "id": "cbfde463-ea68-41d0-b99e-1c85a7f31238",
      "metadata": {
        "id": "cbfde463-ea68-41d0-b99e-1c85a7f31238"
      },
      "outputs": [],
      "source": [
        "fig, ax = plt.subplots()\n",
        "ax.plot(tesla[\"Date\"],\n",
        "        tesla[\"Close\"]\n",
        "       )\n",
        "ax.set_xlabel(\"Datum\")\n",
        "ax.set_ylabel(\"Aktienkurs in $\")\n",
        "ax.set_title(\"Aktienkurs Tesla\")\n",
        "plt.show()"
      ]
    },
    {
      "cell_type": "markdown",
      "id": "5c180873-935a-48aa-898c-f28f24719ae3",
      "metadata": {
        "id": "5c180873-935a-48aa-898c-f28f24719ae3"
      },
      "source": [
        "Die grundlegende Erscheinung von Abbildungen können Sie über die Wahl eines geeigneten Plot-Styles festlegen. Eine Übersicht zu den unterschiedlichen Styles findet sich [hier](http://tonysyu.github.io/raw_content/matplotlib-style-gallery/gallery.html). Sie können sich auch die Liste aller verfügbaren Styles durch den Aufruf `plt.style.available` anzeigen lassen. Beachten Sie, dass ein gewählter Style anschließend für alle Abbildungen angewendet wird. Über `plt.style.use('default')` wechseln Sie wieder zum ursprünglichen Style."
      ]
    },
    {
      "cell_type": "code",
      "execution_count": null,
      "id": "05539a0b-d579-4a76-a9fe-450f8c2f12b7",
      "metadata": {
        "id": "05539a0b-d579-4a76-a9fe-450f8c2f12b7"
      },
      "outputs": [],
      "source": [
        "plt.style.available"
      ]
    },
    {
      "cell_type": "code",
      "execution_count": null,
      "id": "e3f62402-0e6a-4eca-92cf-3372ceab22d1",
      "metadata": {
        "id": "e3f62402-0e6a-4eca-92cf-3372ceab22d1"
      },
      "outputs": [],
      "source": [
        "plt.style.use('seaborn')\n",
        "fig, ax = plt.subplots()\n",
        "ax.plot(tesla[\"Date\"],\n",
        "        tesla[\"Close\"]\n",
        "       )\n",
        "plt.show()"
      ]
    },
    {
      "cell_type": "markdown",
      "id": "92fc4aef-a4ab-4081-b017-66f64907e4df",
      "metadata": {
        "id": "92fc4aef-a4ab-4081-b017-66f64907e4df"
      },
      "source": [
        "Über den Parameter `figsize` können Sie eingangs die Größe der angezeiten Abbildung festlegen. Zudem können Sie die Achsenbezeichnungen und die entsprechenden Formatierungen (Schriftgröße etc.) definieren."
      ]
    },
    {
      "cell_type": "code",
      "execution_count": null,
      "id": "d72ad4b3-2eed-46ba-bea4-f9730bd367a9",
      "metadata": {
        "id": "d72ad4b3-2eed-46ba-bea4-f9730bd367a9"
      },
      "outputs": [],
      "source": [
        "fig, ax = plt.subplots(figsize=(8, 4))\n",
        "ax.plot(tesla[\"Date\"],\n",
        "        tesla[\"Close\"]\n",
        "       )\n",
        "\n",
        "ax.set_xlabel(\"Datum\")\n",
        "ax.xaxis.label.set_fontsize(18)\n",
        "ax.tick_params(axis=\"x\", labelsize=14)\n",
        "\n",
        "ax.set_ylabel(\"Aktienkurs in $\")\n",
        "ax.yaxis.label.set_fontsize(18)\n",
        "ax.tick_params(axis=\"y\", labelsize=12)\n",
        "\n",
        "ax.set_title(\"Aktienkurs Tesla\")\n",
        "ax.title.set_fontsize(20)\n",
        "ax.title.set_fontweight(\"bold\")\n",
        "\n",
        "plt.show()"
      ]
    },
    {
      "cell_type": "markdown",
      "id": "1fd0a5ac-7ca0-433f-85fd-57bc7d5a7fcf",
      "metadata": {
        "id": "1fd0a5ac-7ca0-433f-85fd-57bc7d5a7fcf"
      },
      "source": [
        "Sie können wir bereits im vorausgegangenen Teil gezeigt mehrere Linien in einer Abbildung abtragen. Dafür definieren Sie einfach die entsprechenden Datenobjekte. In der Abbildung unten ist zudem eine Legende und eine angepasste x-Achse eingefügt."
      ]
    },
    {
      "cell_type": "code",
      "execution_count": null,
      "id": "063ee076-26e4-40c9-8f2d-76ac61266c6e",
      "metadata": {
        "id": "063ee076-26e4-40c9-8f2d-76ac61266c6e"
      },
      "outputs": [],
      "source": [
        "fig, ax = plt.subplots(figsize=(8, 4))\n",
        "\n",
        "#BMW\n",
        "ax.plot(\n",
        "    data[data.Name==\"BMW\"][\"Date\"],\n",
        "    data[data.Name==\"BMW\"][\"Close\"],\n",
        "    color=\"b\"\n",
        ")\n",
        "#VW\n",
        "ax.plot(\n",
        "    data[data.Name==\"VW\"][\"Date\"],\n",
        "    data[data.Name==\"VW\"][\"Close\"],\n",
        "    color=\"r\"\n",
        ")\n",
        "ax.legend([\"BMW\",\"VW\"]) # Hinzufügen einer Legende\n",
        "ax.set_xticks(range(0, len(data[data.Name==\"VW\"])+1, 50)) # Es wird immer nur das 50-igste Label auf der x-Achse angezeigt\n",
        "plt.show()"
      ]
    },
    {
      "cell_type": "markdown",
      "id": "b725807b-22db-468f-aa46-728d7a03c7cd",
      "metadata": {
        "id": "b725807b-22db-468f-aa46-728d7a03c7cd"
      },
      "source": [
        "### 2.4.2 Weitere Abbildungsformen <a class=\"anchor\" id=\"weitere_abbildungen\"></a>"
      ]
    },
    {
      "cell_type": "code",
      "execution_count": null,
      "id": "9b46af6a-cefd-4fac-acc3-6fd96459da60",
      "metadata": {
        "id": "9b46af6a-cefd-4fac-acc3-6fd96459da60"
      },
      "outputs": [],
      "source": [
        "data.head()"
      ]
    },
    {
      "cell_type": "markdown",
      "id": "e4126035-fa31-4485-a394-753fea7a62ed",
      "metadata": {
        "id": "e4126035-fa31-4485-a394-753fea7a62ed"
      },
      "source": [
        "Wir erzeugen hier drei neue DataFrames - für `BMW (bmw)`, `VW (vw)` und `Tesla (tesla)` und stellen das Handelvolumen in Mio. $ dar!"
      ]
    },
    {
      "cell_type": "code",
      "execution_count": null,
      "id": "034d7427-73a9-4619-ad63-b5d770a7c1f6",
      "metadata": {
        "id": "034d7427-73a9-4619-ad63-b5d770a7c1f6"
      },
      "outputs": [],
      "source": [
        "bmw = data[data.Name==\"BMW\"][0:10]\n",
        "vw = data[data.Name==\"VW\"][0:10]\n",
        "tesla = data[data.Name==\"Tesla\"][0:10]\n",
        "bmw.Volume = bmw.Volume/1000000 * bmw.Close\n",
        "vw.Volume = vw.Volume/1000000 * vw.Close\n",
        "tesla.Volume = tesla.Volume/1000000 * tesla.Close"
      ]
    },
    {
      "cell_type": "markdown",
      "id": "fd3b2a1c-a4cc-473d-bf25-ab3b1faefd91",
      "metadata": {
        "id": "fd3b2a1c-a4cc-473d-bf25-ab3b1faefd91"
      },
      "source": [
        "Nachfolgend erstellen wir einen sogenannten **Stacked Bar Chart**, der das Handelsvolumen je Unternehmen in einer individuellen Farbe zu einem Datum als Balkendiagramm darstellt."
      ]
    },
    {
      "cell_type": "code",
      "execution_count": null,
      "id": "65988fd7-9e02-4ef9-b1ec-c7f34837b589",
      "metadata": {
        "id": "65988fd7-9e02-4ef9-b1ec-c7f34837b589"
      },
      "outputs": [],
      "source": [
        "fig, ax = plt.subplots()\n",
        "\n",
        "# Daten\n",
        "ax.bar(bmw[\"Date\"], bmw[\"Volume\"], label=\"BMW\")\n",
        "ax.bar(vw[\"Date\"], vw[\"Volume\"], bottom=bmw[\"Volume\"], label=\"VW\")\n",
        "ax.bar(tesla[\"Date\"], tesla[\"Volume\"], bottom=bmw[\"Volume\"]+vw[\"Volume\"], label=\"Tesla\")\n",
        "\n",
        "# Formatierung\n",
        "ax.set_xlabel(\"Datum\")\n",
        "ax.xaxis.set_tick_params(rotation=45)\n",
        "\n",
        "ax.set_ylabel(\"Handelsvolumen in Mio. $\")\n",
        "ax.yaxis.get_major_formatter().set_scientific(False)\n",
        "\n",
        "\n",
        "ax.set_title(\"Aktienkurs Tesla\")\n",
        "ax.legend()\n",
        "plt.show()"
      ]
    },
    {
      "cell_type": "markdown",
      "id": "d046b839-e342-48ea-9a28-2918c85ff23c",
      "metadata": {
        "id": "d046b839-e342-48ea-9a28-2918c85ff23c"
      },
      "source": [
        "**Box-Plot:** Der Box-Plot (auch Box-Whisker-Plot oder deutsch Kastengrafik) ist ein Diagramm, das zur grafischen Darstellung der Verteilung eines mindestens ordinalskalierten Merkmals verwendet wird. Es fasst dabei verschiedene robuste Streuungs- und Lagemaße in einer Darstellung zusammen. Ein Box-Plot soll schnell einen Eindruck darüber vermitteln, in welchem Bereich die Daten liegen und wie sie sich über diesen Bereich verteilen. Deshalb werden alle Werte der sogenannten Fünf-Punkte-Zusammenfassung, also der Median, die zwei Quartile und die beiden Extremwerte, dargestellt. (Quelle Wikipedia)"
      ]
    },
    {
      "cell_type": "code",
      "execution_count": null,
      "id": "fbdb2584-3592-42b0-8432-c909c878edef",
      "metadata": {
        "id": "fbdb2584-3592-42b0-8432-c909c878edef"
      },
      "outputs": [],
      "source": [
        "plt.style.use('seaborn-pastel')"
      ]
    },
    {
      "cell_type": "code",
      "execution_count": null,
      "id": "2ddb39d1-f224-42b8-af9f-1680c3ef4361",
      "metadata": {
        "id": "2ddb39d1-f224-42b8-af9f-1680c3ef4361"
      },
      "outputs": [],
      "source": [
        "fig, ax = plt.subplots()\n",
        "\n",
        "ax.boxplot(\n",
        "    [\n",
        "    data[data.Name==\"Tesla\"][\"Close\"],\n",
        "    data[data.Name==\"BMW\"][\"Close\"],\n",
        "    data[data.Name==\"VW\"][\"Close\"],\n",
        "    ],\n",
        "    labels=[\"Tesla\",\"BMW\",\"VW\"]\n",
        ")\n",
        "ax.set_title(\"Boxplot Aktienkurse\")\n",
        "plt.show()"
      ]
    },
    {
      "cell_type": "markdown",
      "id": "dc527304-7739-45a4-8d69-323f9907ba38",
      "metadata": {
        "id": "dc527304-7739-45a4-8d69-323f9907ba38"
      },
      "source": [
        "### 2.4.3 Weitere Packages zur Visualisierung <a class=\"anchor\" id=\"vis_bib\"></a>"
      ]
    },
    {
      "cell_type": "markdown",
      "id": "91107dee-bae8-4fd0-b685-5c178461b334",
      "metadata": {
        "id": "91107dee-bae8-4fd0-b685-5c178461b334"
      },
      "source": [
        "Es gibt neben matplotlib viele weitere Grafikbibliotheken. Für die Erstellung von Abbildungen ist ebenfalls das Package [seaborn](https://seaborn.pydata.org) zu empfehlen, welches auf `matplotlib` aufbaut. Bekannte Packages für die Erstellung interaktive Grafikelemente sind [plotly](https://www.google.com/search?client=safari&rls=en&q=plotly&ie=UTF-8&oe=UTF-8) oder [bokeh](https://bokeh.org). Für die Visualisierung von Geodaten eigenen sich insbesondere Bibliotheken wie [geoplot](https://residentmario.github.io/geoplot/) oder [Folium](https://python-visualization.github.io/folium/). Zu letzerer ein kleines Beispiel."
      ]
    },
    {
      "cell_type": "code",
      "execution_count": null,
      "id": "6dee10f0-38ae-4409-955b-0ac476acb4ca",
      "metadata": {
        "id": "6dee10f0-38ae-4409-955b-0ac476acb4ca"
      },
      "outputs": [],
      "source": [
        "# Installation der Bibliothek\n",
        "!pip3 install folium -q"
      ]
    },
    {
      "cell_type": "code",
      "execution_count": null,
      "id": "87d2fd3a-d866-4677-bd60-e12acd1adbe2",
      "metadata": {
        "id": "87d2fd3a-d866-4677-bd60-e12acd1adbe2"
      },
      "outputs": [],
      "source": [
        "import folium\n",
        "from folium.plugins import MarkerCluster"
      ]
    },
    {
      "cell_type": "code",
      "execution_count": null,
      "id": "c5b61d2d-f0fc-40f7-a754-ea2eb9a915de",
      "metadata": {
        "id": "c5b61d2d-f0fc-40f7-a754-ea2eb9a915de"
      },
      "outputs": [],
      "source": [
        "# Definieren Sie die Koordinaten, auf die die angezeigte Karte zentriert werden soll \n",
        "boulder_coords = [48.7733, 9.1705]\n",
        "\n",
        "# Erstellen der Karte\n",
        "my_map = folium.Map(location = boulder_coords, zoom_start = 17)\n",
        "\n",
        "# Definition der anzuzeigenden Orte\n",
        "DHBW_Stuttgart_P50 = [48.77339899255643, 9.170520554965648]\n",
        "DHBW_Stuttgart_RB = [48.77355514872834, 9.171110410914274]\n",
        "\n",
        "# Hinzufügen der Orte auf die Karte\n",
        "folium.Marker(DHBW_Stuttgart_P50, popup = 'DHBW-Stuttgart').add_to(my_map)\n",
        "folium.Marker(DHBW_Stuttgart_RB, popup = 'DHBW-Stuttgart').add_to(my_map)\n",
        "\n",
        "# Anzeigen der interaktiven Karte\n",
        "my_map"
      ]
    },
    {
      "cell_type": "markdown",
      "id": "d2603a13-e2a6-4b76-bc42-3d7386f2f574",
      "metadata": {
        "id": "d2603a13-e2a6-4b76-bc42-3d7386f2f574"
      },
      "source": [
        "Sie können die oben gezeigte Karte als HTML-Dokument exportieren und z.B. als Mailanhang versenden!"
      ]
    },
    {
      "cell_type": "code",
      "execution_count": null,
      "id": "a4d32c74-58b3-46ad-acbc-5b4f43569445",
      "metadata": {
        "id": "a4d32c74-58b3-46ad-acbc-5b4f43569445"
      },
      "outputs": [],
      "source": [
        "my_map.save(\"/content/drive/MyDrive/Logistik_Business_Analyst/Grundlagen_Datenvisualisierung_mit_Matplotlib/my_map.html\")"
      ]
    },
    {
      "cell_type": "markdown",
      "id": "554543e0-2bea-4846-9218-e71892340f20",
      "metadata": {
        "id": "554543e0-2bea-4846-9218-e71892340f20"
      },
      "source": [
        "### 2.4.4 Abbildungen speichern <a class=\"anchor\" id=\"vis_speichern\"></a>\n",
        "Sie haben die Möglichkeit Abbildungen in diversen Bildformaten zu speichern und können dabei beispielsweise die Bildqualität definieren."
      ]
    },
    {
      "cell_type": "code",
      "source": [
        "path = \"/content/drive/MyDrive/Logistik_Business_Analyst/Grundlagen_Datenvisualisierung_mit_Matplotlib/\""
      ],
      "metadata": {
        "id": "DhymdSoCYRmu"
      },
      "id": "DhymdSoCYRmu",
      "execution_count": null,
      "outputs": []
    },
    {
      "cell_type": "code",
      "execution_count": null,
      "id": "fd3e3a4c-6f97-42f2-b411-3545a6e43908",
      "metadata": {
        "id": "fd3e3a4c-6f97-42f2-b411-3545a6e43908"
      },
      "outputs": [],
      "source": [
        "fig, ax = plt.subplots()\n",
        "\n",
        "#BMW\n",
        "ax.plot(\n",
        "    data[data.Name==\"BMW\"][\"Date\"],\n",
        "    data[data.Name==\"BMW\"][\"Close\"],\n",
        "    color=\"b\"\n",
        ")\n",
        "#VW\n",
        "ax.plot(\n",
        "    data[data.Name==\"VW\"][\"Date\"],\n",
        "    data[data.Name==\"VW\"][\"Close\"],\n",
        "    color=\"r\"\n",
        ")\n",
        "ax.legend([\"BMW\",\"VW\"]) # Hinzufügen einer Legende\n",
        "ax.set_xticks(range(0, len(data[data.Name==\"VW\"])+1, 50)) # Es wird immer nur das 50-igste Label auf der x-Achse angezeigt\n",
        "\n",
        "fig.savefig(path+\"verlauf_aktien.png\") # hohe Qualität\n",
        "fig.savefig(path+\"verlauf_aktien.jpg\") # geringere Qualität\n",
        "fig.savefig(path+\"verlauf_aktien.svg\") # editierbare support vector grafic\n",
        "fig.savefig(path+\"verlauf_aktien.png\", dpi=300) # Steuerung der Auflösung\n",
        "fig.savefig(path+\"verlauf_aktien.pdf\")"
      ]
    },
    {
      "cell_type": "markdown",
      "id": "283788a2-6983-45d5-996d-dadc75951fee",
      "metadata": {
        "id": "283788a2-6983-45d5-996d-dadc75951fee"
      },
      "source": [
        "Folgendes Beispiel zeigt Ihnen, wie Sie Abbildungen in einer PDF-Datein speichern können. Dazu greifen wir auf die sogeannte `backends` Funktionalität von `matplotlib` zurück und wählen dabei das `backend_pdf`. Mit dem Aufruf `matplotlib.backends.backend_pdf.PdfPages(\"booklet_aktienkurse.pdf\")` wird nun eine PDF-Datei mit Namen `booklet_aktienkurse` erstellt. Innerhalb des `for` loops werden nun die einzelnen Grafiken erstellt und in der PDF gespeichert."
      ]
    },
    {
      "cell_type": "code",
      "execution_count": null,
      "id": "1a857f90-bbc3-4300-a175-dbccefa2ba6a",
      "metadata": {
        "id": "1a857f90-bbc3-4300-a175-dbccefa2ba6a"
      },
      "outputs": [],
      "source": [
        "import matplotlib.backends.backend_pdf\n",
        "\n",
        "plt.style.use('seaborn')\n",
        "\n",
        "# Erstellen einer PDF\n",
        "pdf = matplotlib.backends.backend_pdf.PdfPages(path+\"booklet_aktienkurse.pdf\")\n",
        "\n",
        "# For-Loop zum erstellen der individuellen Grafiken\n",
        "for name in data.Name.unique():\n",
        "    fig, ax = plt.subplots()\n",
        "    \n",
        "    ax.plot(\n",
        "        data[data.Name==name][\"Date\"],\n",
        "        data[data.Name==name][\"Close\"],\n",
        "        color=\"g\"\n",
        "    )\n",
        "\n",
        "    ax.set_xlabel(\"Datum\")\n",
        "    ax.xaxis.label.set_fontsize(16)\n",
        "    ax.tick_params(axis=\"x\", labelsize=12)\n",
        "    ax.set_xticks(range(0, len(data[data.Name==\"VW\"])+1, 50)) # Es wird immer nur das 50-igste Label auf der x-Achse angezeigt\n",
        "    \n",
        "    ax.set_ylabel(\"Aktienkurs [Dollar]\")\n",
        "    ax.yaxis.label.set_fontsize(16)\n",
        "    ax.tick_params(axis=\"y\", labelsize=12)\n",
        "\n",
        "    ax.set_title(f\"Aktienkurs von {name}\")\n",
        "    ax.title.set_fontsize(18)\n",
        "    ax.title.set_fontweight(\"bold\")\n",
        "    \n",
        "    plt.close() # Verhindert das Anzeigen der erstellten Grafiken\n",
        "    pdf.savefig(fig) # Speichert die Grafik im PDF-Dokument\n",
        "    \n",
        "pdf.close()"
      ]
    },
    {
      "cell_type": "markdown",
      "id": "f683093b-30da-4b4c-90c0-98e43688f4e7",
      "metadata": {
        "id": "f683093b-30da-4b4c-90c0-98e43688f4e7"
      },
      "source": [
        "## Aufgabe: Visualisierung Fifa World Cup <a class=\"anchor\" id=\"fifa\"></a>"
      ]
    },
    {
      "cell_type": "code",
      "execution_count": null,
      "id": "28ed458d-73b4-4810-990e-328211260fcb",
      "metadata": {
        "id": "28ed458d-73b4-4810-990e-328211260fcb"
      },
      "outputs": [],
      "source": [
        "data = pd.read_csv(\"/content/drive/MyDrive/Logistik_Business_Analyst/Grundlagen_Datenvisualisierung_mit_Matplotlib/WorldCupMatches.txt\")\n",
        "data.dropna(inplace=True)\n",
        "data.head()"
      ]
    },
    {
      "cell_type": "markdown",
      "id": "d7c2a397-8197-4f4f-b6e1-8232cb7931ab",
      "metadata": {
        "id": "d7c2a397-8197-4f4f-b6e1-8232cb7931ab"
      },
      "source": [
        "Bitte berarbeiten Sie nun die folgenden Aufgaben:\n",
        "1. Erstellen Sie ein Liniendiagramm, welches für jedes Jahr einer WM die durchschnittlich pro Spiel erzielten Tore einer Partie darstellt. Bitte stellen Sie die einzelnen Datenpunkte über Marker dar. Die Linie im Diagramm sollte gestrichelt und in roter Farbe abgetragen sein. Achten Sie zudem auf korrekte Achsenbeschriftungen und einen Abbildungstitel. Stellen Sie abschließend sicher, dass die Grafik gut lesbar ist.\n",
        "1. Erstellen Sie ebenfalls ein Liniendiagramm, welches die durchschnittliche Anzahl der Zuschauer je Weltmeisterschaft darstellt.\n",
        "1. Erstellen Sie ein Histogramm, welches die durchschnittliche Anzahl von Toren in Spielen der deutschen und italienischen Mannschaft in allen Weltmeisterschaftsspielen darstellt. Schauen Sie sich dafür z.B. nochmal das Unterkapitel zu den [weiteren nützlichen Funktionen](#weitere_funktionen) an.\n"
      ]
    },
    {
      "cell_type": "markdown",
      "id": "03352681-7b05-4fa3-a7a3-33d6298a44d0",
      "metadata": {
        "id": "03352681-7b05-4fa3-a7a3-33d6298a44d0"
      },
      "source": [
        "## Aufgabe: Erstellung Sales-Report <a class=\"anchor\" id=\"report\"></a>\n",
        "Erneut betrachten wir den Salesdatensatz von Walmart. Sie sind aufgefordert einen Sales-Report zu erstellen. Dieser soll im ersten Berichtsblatt die Gesamtumsätze eines jeden Stores darstellen. Dafür soll ein Säulendiagramm genutzt werden, welches die Umsätze in Tausend \\$ zeigt und absteigend sortiert ist. Die anschließenden Berichtsblätter sollen für jeden Store die monatlichen Gesamtumsätze (ebenfalls in Tausend \\$) im Zeitverlauf zeigen. Bitte erstellen Sie den Report als PDF-Dokument. Orientieren Sie sich bei der automatisierten Erstellung an dem Bespiel zuvor."
      ]
    },
    {
      "cell_type": "code",
      "execution_count": null,
      "id": "e59d63d0-0267-4fcf-8a2c-8a0e4e053d0e",
      "metadata": {
        "id": "e59d63d0-0267-4fcf-8a2c-8a0e4e053d0e"
      },
      "outputs": [],
      "source": [
        "df = pd.read_csv(\"/content/drive/MyDrive/Logistik_Business_Analyst/Grundlagen_Datenvisualisierung_mit_Matplotlib/sales_data.txt\", index_col=0)\n",
        "# Löschen der Spalte \"type\". \"inplace=True\" ist gleichbedeutend mit \"df = df.drop(columns=[\"type\"])\"\n",
        "df.drop(columns=[\"type\"], inplace=True)\n",
        "# Transformation der Datentypen\n",
        "df = df.astype({\"store\":\"O\", \"department\":\"O\", \"date\":\"M\"})\n",
        "# Wir beschränken die Daten auf 2010\n",
        "df = df[df.date.dt.year==2010]"
      ]
    },
    {
      "cell_type": "code",
      "source": [
        "drive.flush_and_unmount()"
      ],
      "metadata": {
        "id": "jY6ok_F3YsXs"
      },
      "id": "jY6ok_F3YsXs",
      "execution_count": null,
      "outputs": []
    },
    {
      "cell_type": "code",
      "source": [
        ""
      ],
      "metadata": {
        "id": "67JCc06ZYs0T"
      },
      "id": "67JCc06ZYs0T",
      "execution_count": null,
      "outputs": []
    }
  ],
  "metadata": {
    "kernelspec": {
      "display_name": "Python 3 (ipykernel)",
      "language": "python",
      "name": "python3"
    },
    "language_info": {
      "codemirror_mode": {
        "name": "ipython",
        "version": 3
      },
      "file_extension": ".py",
      "mimetype": "text/x-python",
      "name": "python",
      "nbconvert_exporter": "python",
      "pygments_lexer": "ipython3",
      "version": "3.8.5"
    },
    "colab": {
      "name": "G1: Matplotlib_Data_Visualization.ipynb",
      "provenance": [],
      "collapsed_sections": [],
      "toc_visible": true,
      "include_colab_link": true
    }
  },
  "nbformat": 4,
  "nbformat_minor": 5
}